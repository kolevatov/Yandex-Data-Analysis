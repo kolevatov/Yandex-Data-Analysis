{
 "cells": [
  {
   "cell_type": "markdown",
   "metadata": {},
   "source": [
    "# Определение перспективного тарифа для телеком компании\n",
    "\n",
    "Вы аналитик компании «Мегалайн» — федерального оператора сотовой связи. Клиентам предлагают два тарифных плана: «Смарт» и «Ультра». Чтобы скорректировать рекламный бюджет, коммерческий департамент хочет понять, какой тариф приносит больше денег.  \n",
    "Вам предстоит сделать предварительный анализ тарифов на небольшой выборке клиентов. В вашем распоряжении данные 500 пользователей «Мегалайна»: кто они, откуда, каким тарифом пользуются, сколько звонков и сообщений каждый отправил за 2018 год. Нужно проанализировать поведение клиентов и сделать вывод — какой тариф лучше."
   ]
  },
  {
   "cell_type": "markdown",
   "metadata": {},
   "source": [
    "## Задачи исследования\n",
    "\n",
    "- Выполнить анализ данных  \n",
    "Изучить поведение клиентов оператора, исходя из выборки. Сколько минут разговора, сколько сообщений и какой объём интернет-трафика требуется пользователям каждого тарифа в месяц?  \n",
    "Посчитать среднее количество, дисперсию и стандартное отклонение. Построить гистограммы.\n",
    "- Проверить гипотезы:  \n",
    "средняя выручка пользователей тарифов «Ультра» и «Смарт» различается;  \n",
    "средняя выручка пользователей из Москвы отличается от выручки пользователей из других регионов;"
   ]
  },
  {
   "cell_type": "markdown",
   "metadata": {},
   "source": [
    "## Описание данных"
   ]
  },
  {
   "cell_type": "markdown",
   "metadata": {},
   "source": [
    "__Таблица users (информация о пользователях)__:\n",
    "- user_id — уникальный идентификатор пользователя\n",
    "- first_name — имя пользователя\n",
    "- last_name — фамилия пользователя\n",
    "- age — возраст пользователя (годы)\n",
    "- reg_date — дата подключения тарифа (день, месяц, год)\n",
    "- churn_date — дата прекращения пользования тарифом (если значение пропущено, то тариф ещё действовал на момент выгрузки данных)\n",
    "- city — город проживания пользователя\n",
    "- tariff — название тарифного плана"
   ]
  },
  {
   "cell_type": "markdown",
   "metadata": {},
   "source": [
    "__Таблица calls (информация о звонках)__:\n",
    "- id — уникальный номер звонка\n",
    "- call_date — дата звонка\n",
    "- duration — длительность звонка в минутах\n",
    "- user_id — идентификатор пользователя, сделавшего звонок"
   ]
  },
  {
   "cell_type": "markdown",
   "metadata": {},
   "source": [
    "__Таблица messages (информация о сообщениях)__:\n",
    "- id — уникальный номер сообщения\n",
    "- message_date — дата сообщения\n",
    "- user_id — идентификатор пользователя, отправившего сообщение"
   ]
  },
  {
   "cell_type": "markdown",
   "metadata": {},
   "source": [
    "__Таблица internet (информация об интернет-сессиях)__:\n",
    "- id — уникальный номер сессии\n",
    "- mb_used — объём потраченного за сессию интернет-трафика (в мегабайтах)\n",
    "- session_date — дата интернет-сессии\n",
    "- user_id — идентификатор пользователя"
   ]
  },
  {
   "cell_type": "markdown",
   "metadata": {},
   "source": [
    "__Таблица tariffs (информация о тарифах)__:\n",
    "- tariff_name — название тарифа\n",
    "- rub_monthly_fee — ежемесячная абонентская плата в рублях\n",
    "- minutes_included — количество минут разговора в месяц, включённых в абонентскую плату\n",
    "- messages_included — количество сообщений в месяц, включённых в абонентскую плату\n",
    "- mb_per_month_included — объём интернет-трафика, включённого в абонентскую плату (в мегабайтах)\n",
    "- rub_per_minute — стоимость минуты разговора сверх тарифного пакета (например, если в тарифе 100 минут разговора в месяц, то со 101 минуты будет взиматься плата)\n",
    "- rub_per_message — стоимость отправки сообщения сверх тарифного пакета\n",
    "- rub_per_gb — стоимость дополнительного гигабайта интернет-трафика сверх тарифного пакета (1 гигабайт = 1024 мегабайта)"
   ]
  },
  {
   "cell_type": "markdown",
   "metadata": {},
   "source": [
    "### Шаг 1. Откройте файл с данными и изучите общую информацию"
   ]
  },
  {
   "cell_type": "code",
   "execution_count": 1,
   "metadata": {},
   "outputs": [],
   "source": [
    "# настраиваем окружение\n",
    "import pandas as pd\n",
    "import matplotlib.pyplot as plt\n",
    "from collections import Counter\n",
    "from math import ceil\n",
    "import seaborn as sns\n",
    "import numpy as np\n",
    "from scipy import stats as st\n",
    "\n",
    "pd.set_option('display.max_columns', None)\n",
    "pd.set_option('display.max_rows', None)"
   ]
  },
  {
   "cell_type": "code",
   "execution_count": 2,
   "metadata": {},
   "outputs": [
    {
     "name": "stdout",
     "output_type": "stream",
     "text": [
      "<class 'pandas.core.frame.DataFrame'>\n",
      "RangeIndex: 500 entries, 0 to 499\n",
      "Data columns (total 8 columns):\n",
      "user_id       500 non-null int64\n",
      "age           500 non-null int64\n",
      "churn_date    38 non-null object\n",
      "city          500 non-null object\n",
      "first_name    500 non-null object\n",
      "last_name     500 non-null object\n",
      "reg_date      500 non-null object\n",
      "tariff        500 non-null object\n",
      "dtypes: int64(2), object(6)\n",
      "memory usage: 31.4+ KB\n"
     ]
    },
    {
     "data": {
      "text/html": [
       "<div>\n",
       "<style scoped>\n",
       "    .dataframe tbody tr th:only-of-type {\n",
       "        vertical-align: middle;\n",
       "    }\n",
       "\n",
       "    .dataframe tbody tr th {\n",
       "        vertical-align: top;\n",
       "    }\n",
       "\n",
       "    .dataframe thead th {\n",
       "        text-align: right;\n",
       "    }\n",
       "</style>\n",
       "<table border=\"1\" class=\"dataframe\">\n",
       "  <thead>\n",
       "    <tr style=\"text-align: right;\">\n",
       "      <th></th>\n",
       "      <th>user_id</th>\n",
       "      <th>age</th>\n",
       "      <th>churn_date</th>\n",
       "      <th>city</th>\n",
       "      <th>first_name</th>\n",
       "      <th>last_name</th>\n",
       "      <th>reg_date</th>\n",
       "      <th>tariff</th>\n",
       "    </tr>\n",
       "  </thead>\n",
       "  <tbody>\n",
       "    <tr>\n",
       "      <td>0</td>\n",
       "      <td>1000</td>\n",
       "      <td>52</td>\n",
       "      <td>NaN</td>\n",
       "      <td>Краснодар</td>\n",
       "      <td>Рафаил</td>\n",
       "      <td>Верещагин</td>\n",
       "      <td>2018-05-25</td>\n",
       "      <td>ultra</td>\n",
       "    </tr>\n",
       "    <tr>\n",
       "      <td>1</td>\n",
       "      <td>1001</td>\n",
       "      <td>41</td>\n",
       "      <td>NaN</td>\n",
       "      <td>Москва</td>\n",
       "      <td>Иван</td>\n",
       "      <td>Ежов</td>\n",
       "      <td>2018-11-01</td>\n",
       "      <td>smart</td>\n",
       "    </tr>\n",
       "    <tr>\n",
       "      <td>2</td>\n",
       "      <td>1002</td>\n",
       "      <td>59</td>\n",
       "      <td>NaN</td>\n",
       "      <td>Стерлитамак</td>\n",
       "      <td>Евгений</td>\n",
       "      <td>Абрамович</td>\n",
       "      <td>2018-06-17</td>\n",
       "      <td>smart</td>\n",
       "    </tr>\n",
       "    <tr>\n",
       "      <td>3</td>\n",
       "      <td>1003</td>\n",
       "      <td>23</td>\n",
       "      <td>NaN</td>\n",
       "      <td>Москва</td>\n",
       "      <td>Белла</td>\n",
       "      <td>Белякова</td>\n",
       "      <td>2018-08-17</td>\n",
       "      <td>ultra</td>\n",
       "    </tr>\n",
       "    <tr>\n",
       "      <td>4</td>\n",
       "      <td>1004</td>\n",
       "      <td>68</td>\n",
       "      <td>NaN</td>\n",
       "      <td>Новокузнецк</td>\n",
       "      <td>Татьяна</td>\n",
       "      <td>Авдеенко</td>\n",
       "      <td>2018-05-14</td>\n",
       "      <td>ultra</td>\n",
       "    </tr>\n",
       "  </tbody>\n",
       "</table>\n",
       "</div>"
      ],
      "text/plain": [
       "   user_id  age churn_date         city first_name  last_name    reg_date  \\\n",
       "0     1000   52        NaN    Краснодар     Рафаил  Верещагин  2018-05-25   \n",
       "1     1001   41        NaN       Москва       Иван       Ежов  2018-11-01   \n",
       "2     1002   59        NaN  Стерлитамак    Евгений  Абрамович  2018-06-17   \n",
       "3     1003   23        NaN       Москва      Белла   Белякова  2018-08-17   \n",
       "4     1004   68        NaN  Новокузнецк    Татьяна   Авдеенко  2018-05-14   \n",
       "\n",
       "  tariff  \n",
       "0  ultra  \n",
       "1  smart  \n",
       "2  smart  \n",
       "3  ultra  \n",
       "4  ultra  "
      ]
     },
     "execution_count": 2,
     "metadata": {},
     "output_type": "execute_result"
    }
   ],
   "source": [
    "#users = pd.read_csv('C:\\\\Y.Practikum\\\\project_3\\\\dataset\\\\users.csv', sep=',')\n",
    "users = pd.read_csv('/datasets/users.csv', sep=',')\n",
    "\n",
    "users.info()\n",
    "users.head()"
   ]
  },
  {
   "cell_type": "code",
   "execution_count": 3,
   "metadata": {},
   "outputs": [
    {
     "name": "stdout",
     "output_type": "stream",
     "text": [
      "<class 'pandas.core.frame.DataFrame'>\n",
      "RangeIndex: 202607 entries, 0 to 202606\n",
      "Data columns (total 4 columns):\n",
      "id           202607 non-null object\n",
      "call_date    202607 non-null object\n",
      "duration     202607 non-null float64\n",
      "user_id      202607 non-null int64\n",
      "dtypes: float64(1), int64(1), object(2)\n",
      "memory usage: 6.2+ MB\n"
     ]
    },
    {
     "data": {
      "text/html": [
       "<div>\n",
       "<style scoped>\n",
       "    .dataframe tbody tr th:only-of-type {\n",
       "        vertical-align: middle;\n",
       "    }\n",
       "\n",
       "    .dataframe tbody tr th {\n",
       "        vertical-align: top;\n",
       "    }\n",
       "\n",
       "    .dataframe thead th {\n",
       "        text-align: right;\n",
       "    }\n",
       "</style>\n",
       "<table border=\"1\" class=\"dataframe\">\n",
       "  <thead>\n",
       "    <tr style=\"text-align: right;\">\n",
       "      <th></th>\n",
       "      <th>id</th>\n",
       "      <th>call_date</th>\n",
       "      <th>duration</th>\n",
       "      <th>user_id</th>\n",
       "    </tr>\n",
       "  </thead>\n",
       "  <tbody>\n",
       "    <tr>\n",
       "      <td>0</td>\n",
       "      <td>1000_0</td>\n",
       "      <td>2018-07-25</td>\n",
       "      <td>0.00</td>\n",
       "      <td>1000</td>\n",
       "    </tr>\n",
       "    <tr>\n",
       "      <td>1</td>\n",
       "      <td>1000_1</td>\n",
       "      <td>2018-08-17</td>\n",
       "      <td>0.00</td>\n",
       "      <td>1000</td>\n",
       "    </tr>\n",
       "    <tr>\n",
       "      <td>2</td>\n",
       "      <td>1000_2</td>\n",
       "      <td>2018-06-11</td>\n",
       "      <td>2.85</td>\n",
       "      <td>1000</td>\n",
       "    </tr>\n",
       "    <tr>\n",
       "      <td>3</td>\n",
       "      <td>1000_3</td>\n",
       "      <td>2018-09-21</td>\n",
       "      <td>13.80</td>\n",
       "      <td>1000</td>\n",
       "    </tr>\n",
       "    <tr>\n",
       "      <td>4</td>\n",
       "      <td>1000_4</td>\n",
       "      <td>2018-12-15</td>\n",
       "      <td>5.18</td>\n",
       "      <td>1000</td>\n",
       "    </tr>\n",
       "  </tbody>\n",
       "</table>\n",
       "</div>"
      ],
      "text/plain": [
       "       id   call_date  duration  user_id\n",
       "0  1000_0  2018-07-25      0.00     1000\n",
       "1  1000_1  2018-08-17      0.00     1000\n",
       "2  1000_2  2018-06-11      2.85     1000\n",
       "3  1000_3  2018-09-21     13.80     1000\n",
       "4  1000_4  2018-12-15      5.18     1000"
      ]
     },
     "execution_count": 3,
     "metadata": {},
     "output_type": "execute_result"
    }
   ],
   "source": [
    "#calls = pd.read_csv('C:\\\\Y.Practikum\\\\project_3\\\\dataset\\\\calls.csv', sep=',')\n",
    "calls = pd.read_csv('/datasets/calls.csv', sep=',')\n",
    "\n",
    "calls.info()\n",
    "calls.head()"
   ]
  },
  {
   "cell_type": "code",
   "execution_count": 4,
   "metadata": {},
   "outputs": [
    {
     "name": "stdout",
     "output_type": "stream",
     "text": [
      "<class 'pandas.core.frame.DataFrame'>\n",
      "RangeIndex: 149396 entries, 0 to 149395\n",
      "Data columns (total 5 columns):\n",
      "Unnamed: 0      149396 non-null int64\n",
      "id              149396 non-null object\n",
      "mb_used         149396 non-null float64\n",
      "session_date    149396 non-null object\n",
      "user_id         149396 non-null int64\n",
      "dtypes: float64(1), int64(2), object(2)\n",
      "memory usage: 5.7+ MB\n"
     ]
    },
    {
     "data": {
      "text/html": [
       "<div>\n",
       "<style scoped>\n",
       "    .dataframe tbody tr th:only-of-type {\n",
       "        vertical-align: middle;\n",
       "    }\n",
       "\n",
       "    .dataframe tbody tr th {\n",
       "        vertical-align: top;\n",
       "    }\n",
       "\n",
       "    .dataframe thead th {\n",
       "        text-align: right;\n",
       "    }\n",
       "</style>\n",
       "<table border=\"1\" class=\"dataframe\">\n",
       "  <thead>\n",
       "    <tr style=\"text-align: right;\">\n",
       "      <th></th>\n",
       "      <th>Unnamed: 0</th>\n",
       "      <th>id</th>\n",
       "      <th>mb_used</th>\n",
       "      <th>session_date</th>\n",
       "      <th>user_id</th>\n",
       "    </tr>\n",
       "  </thead>\n",
       "  <tbody>\n",
       "    <tr>\n",
       "      <td>0</td>\n",
       "      <td>0</td>\n",
       "      <td>1000_0</td>\n",
       "      <td>112.95</td>\n",
       "      <td>2018-11-25</td>\n",
       "      <td>1000</td>\n",
       "    </tr>\n",
       "    <tr>\n",
       "      <td>1</td>\n",
       "      <td>1</td>\n",
       "      <td>1000_1</td>\n",
       "      <td>1052.81</td>\n",
       "      <td>2018-09-07</td>\n",
       "      <td>1000</td>\n",
       "    </tr>\n",
       "    <tr>\n",
       "      <td>2</td>\n",
       "      <td>2</td>\n",
       "      <td>1000_2</td>\n",
       "      <td>1197.26</td>\n",
       "      <td>2018-06-25</td>\n",
       "      <td>1000</td>\n",
       "    </tr>\n",
       "    <tr>\n",
       "      <td>3</td>\n",
       "      <td>3</td>\n",
       "      <td>1000_3</td>\n",
       "      <td>550.27</td>\n",
       "      <td>2018-08-22</td>\n",
       "      <td>1000</td>\n",
       "    </tr>\n",
       "    <tr>\n",
       "      <td>4</td>\n",
       "      <td>4</td>\n",
       "      <td>1000_4</td>\n",
       "      <td>302.56</td>\n",
       "      <td>2018-09-24</td>\n",
       "      <td>1000</td>\n",
       "    </tr>\n",
       "  </tbody>\n",
       "</table>\n",
       "</div>"
      ],
      "text/plain": [
       "   Unnamed: 0      id  mb_used session_date  user_id\n",
       "0           0  1000_0   112.95   2018-11-25     1000\n",
       "1           1  1000_1  1052.81   2018-09-07     1000\n",
       "2           2  1000_2  1197.26   2018-06-25     1000\n",
       "3           3  1000_3   550.27   2018-08-22     1000\n",
       "4           4  1000_4   302.56   2018-09-24     1000"
      ]
     },
     "execution_count": 4,
     "metadata": {},
     "output_type": "execute_result"
    }
   ],
   "source": [
    "#internet = pd.read_csv('C:\\\\Y.Practikum\\\\project_3\\\\dataset\\\\internet.csv', sep=',')\n",
    "internet = pd.read_csv('/datasets/internet.csv', sep=',')\n",
    "\n",
    "internet.info()\n",
    "internet.head()"
   ]
  },
  {
   "cell_type": "code",
   "execution_count": 5,
   "metadata": {},
   "outputs": [
    {
     "name": "stdout",
     "output_type": "stream",
     "text": [
      "<class 'pandas.core.frame.DataFrame'>\n",
      "RangeIndex: 123036 entries, 0 to 123035\n",
      "Data columns (total 3 columns):\n",
      "id              123036 non-null object\n",
      "message_date    123036 non-null object\n",
      "user_id         123036 non-null int64\n",
      "dtypes: int64(1), object(2)\n",
      "memory usage: 2.8+ MB\n"
     ]
    },
    {
     "data": {
      "text/html": [
       "<div>\n",
       "<style scoped>\n",
       "    .dataframe tbody tr th:only-of-type {\n",
       "        vertical-align: middle;\n",
       "    }\n",
       "\n",
       "    .dataframe tbody tr th {\n",
       "        vertical-align: top;\n",
       "    }\n",
       "\n",
       "    .dataframe thead th {\n",
       "        text-align: right;\n",
       "    }\n",
       "</style>\n",
       "<table border=\"1\" class=\"dataframe\">\n",
       "  <thead>\n",
       "    <tr style=\"text-align: right;\">\n",
       "      <th></th>\n",
       "      <th>id</th>\n",
       "      <th>message_date</th>\n",
       "      <th>user_id</th>\n",
       "    </tr>\n",
       "  </thead>\n",
       "  <tbody>\n",
       "    <tr>\n",
       "      <td>0</td>\n",
       "      <td>1000_0</td>\n",
       "      <td>2018-06-27</td>\n",
       "      <td>1000</td>\n",
       "    </tr>\n",
       "    <tr>\n",
       "      <td>1</td>\n",
       "      <td>1000_1</td>\n",
       "      <td>2018-10-08</td>\n",
       "      <td>1000</td>\n",
       "    </tr>\n",
       "    <tr>\n",
       "      <td>2</td>\n",
       "      <td>1000_2</td>\n",
       "      <td>2018-08-04</td>\n",
       "      <td>1000</td>\n",
       "    </tr>\n",
       "    <tr>\n",
       "      <td>3</td>\n",
       "      <td>1000_3</td>\n",
       "      <td>2018-06-16</td>\n",
       "      <td>1000</td>\n",
       "    </tr>\n",
       "    <tr>\n",
       "      <td>4</td>\n",
       "      <td>1000_4</td>\n",
       "      <td>2018-12-05</td>\n",
       "      <td>1000</td>\n",
       "    </tr>\n",
       "  </tbody>\n",
       "</table>\n",
       "</div>"
      ],
      "text/plain": [
       "       id message_date  user_id\n",
       "0  1000_0   2018-06-27     1000\n",
       "1  1000_1   2018-10-08     1000\n",
       "2  1000_2   2018-08-04     1000\n",
       "3  1000_3   2018-06-16     1000\n",
       "4  1000_4   2018-12-05     1000"
      ]
     },
     "execution_count": 5,
     "metadata": {},
     "output_type": "execute_result"
    }
   ],
   "source": [
    "#messages = pd.read_csv('C:\\\\Y.Practikum\\\\project_3\\\\dataset\\\\messages.csv', sep=',')\n",
    "messages = pd.read_csv('/datasets/messages.csv', sep=',')\n",
    "\n",
    "messages.info()\n",
    "messages.head()"
   ]
  },
  {
   "cell_type": "code",
   "execution_count": 6,
   "metadata": {},
   "outputs": [
    {
     "name": "stdout",
     "output_type": "stream",
     "text": [
      "<class 'pandas.core.frame.DataFrame'>\n",
      "RangeIndex: 2 entries, 0 to 1\n",
      "Data columns (total 8 columns):\n",
      "messages_included        2 non-null int64\n",
      "mb_per_month_included    2 non-null int64\n",
      "minutes_included         2 non-null int64\n",
      "rub_monthly_fee          2 non-null int64\n",
      "rub_per_gb               2 non-null int64\n",
      "rub_per_message          2 non-null int64\n",
      "rub_per_minute           2 non-null int64\n",
      "tariff_name              2 non-null object\n",
      "dtypes: int64(7), object(1)\n",
      "memory usage: 256.0+ bytes\n"
     ]
    },
    {
     "data": {
      "text/html": [
       "<div>\n",
       "<style scoped>\n",
       "    .dataframe tbody tr th:only-of-type {\n",
       "        vertical-align: middle;\n",
       "    }\n",
       "\n",
       "    .dataframe tbody tr th {\n",
       "        vertical-align: top;\n",
       "    }\n",
       "\n",
       "    .dataframe thead th {\n",
       "        text-align: right;\n",
       "    }\n",
       "</style>\n",
       "<table border=\"1\" class=\"dataframe\">\n",
       "  <thead>\n",
       "    <tr style=\"text-align: right;\">\n",
       "      <th></th>\n",
       "      <th>messages_included</th>\n",
       "      <th>mb_per_month_included</th>\n",
       "      <th>minutes_included</th>\n",
       "      <th>rub_monthly_fee</th>\n",
       "      <th>rub_per_gb</th>\n",
       "      <th>rub_per_message</th>\n",
       "      <th>rub_per_minute</th>\n",
       "      <th>tariff_name</th>\n",
       "    </tr>\n",
       "  </thead>\n",
       "  <tbody>\n",
       "    <tr>\n",
       "      <td>0</td>\n",
       "      <td>50</td>\n",
       "      <td>15360</td>\n",
       "      <td>500</td>\n",
       "      <td>550</td>\n",
       "      <td>200</td>\n",
       "      <td>3</td>\n",
       "      <td>3</td>\n",
       "      <td>smart</td>\n",
       "    </tr>\n",
       "    <tr>\n",
       "      <td>1</td>\n",
       "      <td>1000</td>\n",
       "      <td>30720</td>\n",
       "      <td>3000</td>\n",
       "      <td>1950</td>\n",
       "      <td>150</td>\n",
       "      <td>1</td>\n",
       "      <td>1</td>\n",
       "      <td>ultra</td>\n",
       "    </tr>\n",
       "  </tbody>\n",
       "</table>\n",
       "</div>"
      ],
      "text/plain": [
       "   messages_included  mb_per_month_included  minutes_included  \\\n",
       "0                 50                  15360               500   \n",
       "1               1000                  30720              3000   \n",
       "\n",
       "   rub_monthly_fee  rub_per_gb  rub_per_message  rub_per_minute tariff_name  \n",
       "0              550         200                3               3       smart  \n",
       "1             1950         150                1               1       ultra  "
      ]
     },
     "execution_count": 6,
     "metadata": {},
     "output_type": "execute_result"
    }
   ],
   "source": [
    "#tariffs = pd.read_csv('C:\\\\Y.Practikum\\\\project_3\\\\dataset\\\\tariffs.csv', sep=',')\n",
    "tariffs = pd.read_csv('/datasets/tariffs.csv', sep=',')\n",
    "\n",
    "tariffs.info()\n",
    "tariffs.head()"
   ]
  },
  {
   "cell_type": "markdown",
   "metadata": {},
   "source": [
    "### Вывод\n",
    "- __таблица users__  \n",
    "Выборка для 500 клиентов. Пропусков в данных нет. Почти все клиенты продолжают пользоваться услугами, 38 уже отключились\n",
    "- __таблица calls__  \n",
    "Выборка для 202 607 звонков. Пропусков в данных нет.\n",
    "- __таблица internet__  \n",
    "Выборка для 149 396 сессий. Пропусков в данных нет. Содержит лишний столбец с непонятным именем и содержанием\n",
    "- __таблица messages__  \n",
    "Выборка для 123 036 sms сообщений. Пропусков в данных нет\n",
    "- __таблица tariffs__  \n",
    "Выборка для 2 тарифов. Пропусков в данных нет"
   ]
  },
  {
   "cell_type": "markdown",
   "metadata": {},
   "source": [
    "### Шаг 2. Предобработка данных"
   ]
  },
  {
   "cell_type": "markdown",
   "metadata": {},
   "source": [
    "#### План подготовки данных\n",
    "- столбцы содержащие даты привести к типу datetime для возможности дальнейшей работы с датами\n",
    "- таблица calls - оценить кол-во звонков с нулевой длительностью, учесть округление длительности звонков для тарификации\n",
    "- таблица internet - удалить лишний столбец, оценить кол-во трафика в сессиях, учесть округление трафика для тарификации\n",
    "- выполнить расчеты для каждого пользователя:  \n",
    "    - количество сделанных звонков и израсходованных минут разговора по месяцам;  \n",
    "    - количество отправленных сообщений по месяцам;  \n",
    "    - объем израсходованного интернет-трафика по месяцам;  \n",
    "    - помесячную выручку с каждого пользователя (вычтите бесплатный лимит из суммарного количества звонков, сообщений и интернет-трафика; остаток умножьте на значение из тарифного плана; прибавьте абонентскую плату, соответствующую тарифному плану)."
   ]
  },
  {
   "cell_type": "code",
   "execution_count": 7,
   "metadata": {},
   "outputs": [
    {
     "data": {
      "text/plain": [
       "dtype('<M8[ns]')"
      ]
     },
     "execution_count": 7,
     "metadata": {},
     "output_type": "execute_result"
    }
   ],
   "source": [
    "# обработка полей содержащих даты\n",
    "users['reg_date'] = pd.to_datetime(users['reg_date'], format='%Y-%m-%d', errors='coerce')\n",
    "users['reg_date'].dtypes"
   ]
  },
  {
   "cell_type": "code",
   "execution_count": 8,
   "metadata": {},
   "outputs": [
    {
     "data": {
      "text/plain": [
       "dtype('<M8[ns]')"
      ]
     },
     "execution_count": 8,
     "metadata": {},
     "output_type": "execute_result"
    }
   ],
   "source": [
    "calls['call_date'] = pd.to_datetime(calls['call_date'], format='%Y-%m-%d', errors='coerce')\n",
    "calls['call_date'].dtypes"
   ]
  },
  {
   "cell_type": "code",
   "execution_count": 9,
   "metadata": {},
   "outputs": [
    {
     "data": {
      "text/plain": [
       "dtype('<M8[ns]')"
      ]
     },
     "execution_count": 9,
     "metadata": {},
     "output_type": "execute_result"
    }
   ],
   "source": [
    "messages['message_date'] = pd.to_datetime(messages['message_date'], format='%Y-%m-%d', errors='coerce')\n",
    "messages['message_date'].dtypes"
   ]
  },
  {
   "cell_type": "code",
   "execution_count": 10,
   "metadata": {},
   "outputs": [
    {
     "data": {
      "text/plain": [
       "dtype('<M8[ns]')"
      ]
     },
     "execution_count": 10,
     "metadata": {},
     "output_type": "execute_result"
    }
   ],
   "source": [
    "internet['session_date'] = pd.to_datetime(internet['session_date'], format='%Y-%m-%d', errors='coerce')\n",
    "internet['session_date'].dtypes"
   ]
  },
  {
   "cell_type": "markdown",
   "metadata": {},
   "source": [
    "__Преобразование типов данных__  \n",
    "Поля содержащие календарную дату приведены к типу datetime64"
   ]
  },
  {
   "cell_type": "code",
   "execution_count": 11,
   "metadata": {},
   "outputs": [
    {
     "name": "stdout",
     "output_type": "stream",
     "text": [
      "Пропущенных звонков, всего: 39613 \n",
      " или % от общего объема: 19.55%\n"
     ]
    }
   ],
   "source": [
    "# таблица calls\n",
    "# оценить кол-во звонков с нулевой длительностью, учесть округление длительности звонков для тарификации\n",
    "\n",
    "missed_calls = calls.query('duration == 0')['id'].count()\n",
    "\n",
    "print('Пропущенных звонков, всего:', \n",
    "      missed_calls, \n",
    "      '\\n', \n",
    "      'или % от общего объема:', \n",
    "      '{:.2%}'.format(missed_calls/calls['id'].count())\n",
    "     )"
   ]
  },
  {
   "cell_type": "code",
   "execution_count": 12,
   "metadata": {},
   "outputs": [
    {
     "data": {
      "text/html": [
       "<div>\n",
       "<style scoped>\n",
       "    .dataframe tbody tr th:only-of-type {\n",
       "        vertical-align: middle;\n",
       "    }\n",
       "\n",
       "    .dataframe tbody tr th {\n",
       "        vertical-align: top;\n",
       "    }\n",
       "\n",
       "    .dataframe thead th {\n",
       "        text-align: right;\n",
       "    }\n",
       "</style>\n",
       "<table border=\"1\" class=\"dataframe\">\n",
       "  <thead>\n",
       "    <tr style=\"text-align: right;\">\n",
       "      <th></th>\n",
       "      <th>id</th>\n",
       "      <th>call_date</th>\n",
       "      <th>duration</th>\n",
       "      <th>user_id</th>\n",
       "      <th>duration_rounded</th>\n",
       "    </tr>\n",
       "  </thead>\n",
       "  <tbody>\n",
       "    <tr>\n",
       "      <td>0</td>\n",
       "      <td>1000_0</td>\n",
       "      <td>2018-07-25</td>\n",
       "      <td>0.00</td>\n",
       "      <td>1000</td>\n",
       "      <td>0</td>\n",
       "    </tr>\n",
       "    <tr>\n",
       "      <td>1</td>\n",
       "      <td>1000_1</td>\n",
       "      <td>2018-08-17</td>\n",
       "      <td>0.00</td>\n",
       "      <td>1000</td>\n",
       "      <td>0</td>\n",
       "    </tr>\n",
       "    <tr>\n",
       "      <td>2</td>\n",
       "      <td>1000_2</td>\n",
       "      <td>2018-06-11</td>\n",
       "      <td>2.85</td>\n",
       "      <td>1000</td>\n",
       "      <td>3</td>\n",
       "    </tr>\n",
       "    <tr>\n",
       "      <td>3</td>\n",
       "      <td>1000_3</td>\n",
       "      <td>2018-09-21</td>\n",
       "      <td>13.80</td>\n",
       "      <td>1000</td>\n",
       "      <td>14</td>\n",
       "    </tr>\n",
       "    <tr>\n",
       "      <td>4</td>\n",
       "      <td>1000_4</td>\n",
       "      <td>2018-12-15</td>\n",
       "      <td>5.18</td>\n",
       "      <td>1000</td>\n",
       "      <td>6</td>\n",
       "    </tr>\n",
       "  </tbody>\n",
       "</table>\n",
       "</div>"
      ],
      "text/plain": [
       "       id  call_date  duration  user_id  duration_rounded\n",
       "0  1000_0 2018-07-25      0.00     1000                 0\n",
       "1  1000_1 2018-08-17      0.00     1000                 0\n",
       "2  1000_2 2018-06-11      2.85     1000                 3\n",
       "3  1000_3 2018-09-21     13.80     1000                14\n",
       "4  1000_4 2018-12-15      5.18     1000                 6"
      ]
     },
     "execution_count": 12,
     "metadata": {},
     "output_type": "execute_result"
    }
   ],
   "source": [
    "# добавим в таблицу столбец с округленной (по правилам тарификации) длительностью звонков\n",
    "calls['duration_rounded'] = calls['duration'].apply(ceil)\n",
    "calls.head()"
   ]
  },
  {
   "cell_type": "markdown",
   "metadata": {},
   "source": [
    "__Обработка таблицы calls__  \n",
    "Добавлен столбец с длительностью звонков с округлением по правилам тарификации.\n",
    "Почти 20% от общего объема звонков - это пропущенные вызовы (нулевая длительность). Тем не менее, это звонки, которые клиенты пытались совершить. При дальнейшем анализе их нужно учесть в расчетах."
   ]
  },
  {
   "cell_type": "code",
   "execution_count": 13,
   "metadata": {},
   "outputs": [
    {
     "name": "stdout",
     "output_type": "stream",
     "text": [
      "<class 'pandas.core.frame.DataFrame'>\n",
      "RangeIndex: 149396 entries, 0 to 149395\n",
      "Data columns (total 4 columns):\n",
      "id              149396 non-null object\n",
      "mb_used         149396 non-null float64\n",
      "session_date    149396 non-null datetime64[ns]\n",
      "user_id         149396 non-null int64\n",
      "dtypes: datetime64[ns](1), float64(1), int64(1), object(1)\n",
      "memory usage: 4.6+ MB\n"
     ]
    }
   ],
   "source": [
    "# таблица internet\n",
    "# удалить лишний столбец\n",
    "internet = internet.loc[:, ['id', 'mb_used', 'session_date', 'user_id']]\n",
    "internet.info()"
   ]
  },
  {
   "cell_type": "code",
   "execution_count": 14,
   "metadata": {},
   "outputs": [
    {
     "name": "stdout",
     "output_type": "stream",
     "text": [
      "До удаления нулевых сессий: \n",
      " count    149396.000000\n",
      "mean        370.192426\n",
      "std         278.300951\n",
      "min           0.000000\n",
      "25%         138.187500\n",
      "50%         348.015000\n",
      "75%         559.552500\n",
      "max        1724.830000\n",
      "Name: mb_used, dtype: float64 \n",
      "\n",
      "После удаления нулевых сессий: \n",
      " count    129798.000000\n",
      "mean        426.087210\n",
      "std         255.596447\n",
      "min           0.030000\n",
      "25%         227.460000\n",
      "50%         400.540000\n",
      "75%         592.947500\n",
      "max        1724.830000\n",
      "Name: mb_used, dtype: float64 \n",
      "\n"
     ]
    }
   ],
   "source": [
    "# оценить кол-во трафика в сессиях\n",
    "print('До удаления нулевых сессий:',\n",
    "     '\\n',\n",
    "      internet['mb_used'].describe(),\n",
    "     '\\n')\n",
    "\n",
    "# сессии с нулевым объемом трафика не нужны для дальнейшего анализа. удалим их из таблицы\n",
    "internet = internet.query('mb_used > 0')\n",
    "\n",
    "print('После удаления нулевых сессий:',\n",
    "     '\\n',\n",
    "      internet['mb_used'].describe(),\n",
    "     '\\n')"
   ]
  },
  {
   "cell_type": "code",
   "execution_count": 15,
   "metadata": {},
   "outputs": [
    {
     "data": {
      "text/html": [
       "<div>\n",
       "<style scoped>\n",
       "    .dataframe tbody tr th:only-of-type {\n",
       "        vertical-align: middle;\n",
       "    }\n",
       "\n",
       "    .dataframe tbody tr th {\n",
       "        vertical-align: top;\n",
       "    }\n",
       "\n",
       "    .dataframe thead th {\n",
       "        text-align: right;\n",
       "    }\n",
       "</style>\n",
       "<table border=\"1\" class=\"dataframe\">\n",
       "  <thead>\n",
       "    <tr style=\"text-align: right;\">\n",
       "      <th></th>\n",
       "      <th>id</th>\n",
       "      <th>mb_used</th>\n",
       "      <th>session_date</th>\n",
       "      <th>user_id</th>\n",
       "      <th>mb_used_rounded</th>\n",
       "    </tr>\n",
       "  </thead>\n",
       "  <tbody>\n",
       "    <tr>\n",
       "      <td>0</td>\n",
       "      <td>1000_0</td>\n",
       "      <td>112.95</td>\n",
       "      <td>2018-11-25</td>\n",
       "      <td>1000</td>\n",
       "      <td>113</td>\n",
       "    </tr>\n",
       "    <tr>\n",
       "      <td>1</td>\n",
       "      <td>1000_1</td>\n",
       "      <td>1052.81</td>\n",
       "      <td>2018-09-07</td>\n",
       "      <td>1000</td>\n",
       "      <td>1053</td>\n",
       "    </tr>\n",
       "    <tr>\n",
       "      <td>2</td>\n",
       "      <td>1000_2</td>\n",
       "      <td>1197.26</td>\n",
       "      <td>2018-06-25</td>\n",
       "      <td>1000</td>\n",
       "      <td>1198</td>\n",
       "    </tr>\n",
       "    <tr>\n",
       "      <td>3</td>\n",
       "      <td>1000_3</td>\n",
       "      <td>550.27</td>\n",
       "      <td>2018-08-22</td>\n",
       "      <td>1000</td>\n",
       "      <td>551</td>\n",
       "    </tr>\n",
       "    <tr>\n",
       "      <td>4</td>\n",
       "      <td>1000_4</td>\n",
       "      <td>302.56</td>\n",
       "      <td>2018-09-24</td>\n",
       "      <td>1000</td>\n",
       "      <td>303</td>\n",
       "    </tr>\n",
       "  </tbody>\n",
       "</table>\n",
       "</div>"
      ],
      "text/plain": [
       "       id  mb_used session_date  user_id  mb_used_rounded\n",
       "0  1000_0   112.95   2018-11-25     1000              113\n",
       "1  1000_1  1052.81   2018-09-07     1000             1053\n",
       "2  1000_2  1197.26   2018-06-25     1000             1198\n",
       "3  1000_3   550.27   2018-08-22     1000              551\n",
       "4  1000_4   302.56   2018-09-24     1000              303"
      ]
     },
     "execution_count": 15,
     "metadata": {},
     "output_type": "execute_result"
    }
   ],
   "source": [
    "# учесть округление трафика для тарификации\n",
    "internet['mb_used_rounded'] = internet['mb_used'].apply(ceil)\n",
    "internet.head()"
   ]
  },
  {
   "cell_type": "markdown",
   "metadata": {},
   "source": [
    "__Обработка таблицы Internet__  \n",
    "Лишний столбец удален, удалены сессии с нулевым объемом трафика, добавлен столбец с объемом трафика с округлением по правилам тарификации."
   ]
  },
  {
   "cell_type": "markdown",
   "metadata": {},
   "source": [
    "### Вывод\n",
    "Выполнены преобразования в датасете:\n",
    "- поля содержащие календарную дату приведены к типу datetime64\n",
    "- Таблица calls.   \n",
    "Добавлен столбец с длительностью звонков с округлением по правилам тарификации.\n",
    "Почти 20% от общего объема звонков - это пропущенные вызовы (нулевая длительность). Тем не менее, это звонки, которые клиенты пытались совершить. При дальнейшем анализе их нужно учесть в расчетах.\n",
    "- Столбец Internet  \n",
    "Лишний \"неименованный\" столбец удален, удалены сессии с нулевым объемом трафика, добавлен столбец с объемом трафика с округлением по правилам тарификации."
   ]
  },
  {
   "cell_type": "markdown",
   "metadata": {},
   "source": [
    "### Шаг 2. Расчет использованных пользователями ресурсов\n",
    "Выполнить расчеты для каждого пользователя: \n",
    "- количество сделанных звонков и израсходованных минут разговора по месяцам\n",
    "- количество отправленных сообщений по месяцам\n",
    "- объем израсходованного интернет-трафика по месяцам\n",
    "- помесячную выручку с каждого пользователя (вычтите бесплатный лимит из суммарного количества звонков, сообщений и интернет-трафика; остаток умножьте на значение из тарифного плана; прибавьте абонентскую плату, соответствующую тарифному плану)."
   ]
  },
  {
   "cell_type": "code",
   "execution_count": 16,
   "metadata": {},
   "outputs": [],
   "source": [
    "# данные из таблиц calls, messages, internet нужно объединить в одну общую таблицу\n",
    "# преобразуем таблицы к одному виду\n",
    "calls_total = calls.loc[:,['user_id', 'call_date', 'duration_rounded']]\n",
    "calls_total['call_count'] = 1\n",
    "calls_total.set_axis(['user_id', 'date', 'duration_min', 'call_count'], axis='columns', inplace=True)\n",
    "\n",
    "messages_total = messages.loc[:, ['user_id', 'message_date']]\n",
    "messages_total['message_count'] = 1\n",
    "messages_total.set_axis(['user_id', 'date', 'message_count'], axis='columns', inplace=True)\n",
    "\n",
    "internet_total = internet.loc[:, ['user_id','session_date','mb_used_rounded']]\n",
    "internet_total.set_axis(['user_id', 'date', 'mb_used'], axis='columns', inplace=True)"
   ]
  },
  {
   "cell_type": "code",
   "execution_count": 17,
   "metadata": {},
   "outputs": [
    {
     "name": "stdout",
     "output_type": "stream",
     "text": [
      "   user_id       date  duration_min  call_count  message_count  mb_used\n",
      "0     1000 2018-07-25             0           1              0        0\n",
      "1     1000 2018-08-17             0           1              0        0\n",
      "2     1000 2018-06-11             3           1              0        0\n",
      "3     1000 2018-09-21            14           1              0        0\n",
      "4     1000 2018-12-15             6           1              0        0\n"
     ]
    }
   ],
   "source": [
    "# создадим таблицу со всеми данными по использованным пользователям ресурсами\n",
    "resources = pd.concat([calls_total, messages_total, internet_total], ignore_index=True, sort=False)\n",
    "\n",
    "# пропуски заполняем нулями\n",
    "resources.fillna(0, inplace=True)\n",
    "resources = resources.astype({'duration_min': 'int64', \n",
    "                              'message_count': 'int64', \n",
    "                              'mb_used':'int64',\n",
    "                              'call_count': 'int64'\n",
    "                             })\n",
    "\n",
    "print(resources.head())"
   ]
  },
  {
   "cell_type": "code",
   "execution_count": 18,
   "metadata": {},
   "outputs": [
    {
     "name": "stdout",
     "output_type": "stream",
     "text": [
      "       duration_rounded\n",
      "count               217\n",
      "sum                1517 \n",
      "\n",
      "     call_count  duration_min\n",
      "sum         217          1517\n"
     ]
    }
   ],
   "source": [
    "# проверим, что не потеряли данные при объединении\n",
    "print(calls\n",
    "      .query('user_id == 1002')\n",
    "      .agg({'duration_rounded': ['count', 'sum']}\n",
    "          ),\n",
    "      '\\n'\n",
    "     )\n",
    "\n",
    "print(resources\n",
    "      .query('user_id == 1002')\n",
    "      .agg({'call_count': ['sum'], \n",
    "            'duration_min': ['sum']\n",
    "           }\n",
    "          )\n",
    "     )\n",
    "# Данные не потеряны, можно идти дальше"
   ]
  },
  {
   "cell_type": "code",
   "execution_count": 19,
   "metadata": {},
   "outputs": [
    {
     "name": "stdout",
     "output_type": "stream",
     "text": [
      "   user_id       date  duration_min  call_count  message_count  mb_used  month\n",
      "0     1000 2018-07-25             0           1              0        0      7\n",
      "1     1000 2018-08-17             0           1              0        0      8\n",
      "2     1000 2018-06-11             3           1              0        0      6\n",
      "3     1000 2018-09-21            14           1              0        0      9\n",
      "4     1000 2018-12-15             6           1              0        0     12\n"
     ]
    }
   ],
   "source": [
    "# добавим в таблицу столбец - месяц использования ресурса\n",
    "resources['month'] = pd.DatetimeIndex(resources['date']).month\n",
    "print(resources.head())"
   ]
  },
  {
   "cell_type": "code",
   "execution_count": 20,
   "metadata": {},
   "outputs": [
    {
     "name": "stdout",
     "output_type": "stream",
     "text": [
      "   user_id  duration_min  call_count  message_count  mb_used tariff\n",
      "0     1000           159          22             22     2256  ultra\n",
      "1     1000           172          43             60    23257  ultra\n",
      "2     1000           340          47             75    14016  ultra\n",
      "3     1000           408          52             81    14070  ultra\n",
      "4     1000           466          58             57    14581  ultra\n"
     ]
    }
   ],
   "source": [
    "# создадим сводную таблицу с использованием ресурсов клиентами по месяцам\n",
    "resources_total = (resources\n",
    "                   .groupby(by=['user_id', 'month']).sum()\n",
    "\n",
    "                  )\n",
    "\n",
    "# добавим тариф в сводную таблицу\n",
    "user_tariff = users.loc[:, ['user_id', 'tariff']]\n",
    "resources_total = resources_total.merge(user_tariff, on='user_id', how='left')\n",
    "\n",
    "print(resources_total.head())"
   ]
  },
  {
   "cell_type": "code",
   "execution_count": 21,
   "metadata": {},
   "outputs": [],
   "source": [
    "# Функция считает объем ресурса потраченного сверх тарифа\n",
    "# used_total - потрачено пользователем\n",
    "# tariff - ресурс по тарифу\n",
    "# Возвращает кол-во ресурса потраченного сверх тарифа или 0, если потрачено меньше\n",
    "def calc_used_value(used_total, tariff_value):\n",
    "    if used_total > tariff_value:\n",
    "        return used_total - tariff_value\n",
    "    else:\n",
    "        return 0"
   ]
  },
  {
   "cell_type": "code",
   "execution_count": 22,
   "metadata": {},
   "outputs": [],
   "source": [
    "# Тарифы сохраним в переменные ввиде словаря, чтобы не делать срезы датафрейма для каждого пользователя\n",
    "tariff_ultra = tariffs.query('tariff_name == \"ultra\"').to_dict(orient='list')\n",
    "tariff_smart = tariffs.query('tariff_name == \"smart\"').to_dict(orient='list')\n",
    "\n",
    "tariffs_dict = {'ultra': tariff_ultra, 'smart': tariff_smart}"
   ]
  },
  {
   "cell_type": "code",
   "execution_count": 23,
   "metadata": {},
   "outputs": [],
   "source": [
    "# Функция расчета помесячной выручки для клиента\n",
    "def calc_revenue(row):\n",
    "    user_tariff = row['tariff']\n",
    "\n",
    "    minutes_included = tariffs_dict[user_tariff]['minutes_included'][0]\n",
    "    messages_included = tariffs_dict[user_tariff]['messages_included'][0]\n",
    "    mb_per_month_included = tariffs_dict[user_tariff]['mb_per_month_included'][0]\n",
    "    \n",
    "    rub_per_minute = tariffs_dict[user_tariff]['rub_per_minute'][0]\n",
    "    rub_per_message = tariffs_dict[user_tariff]['rub_per_message'][0]\n",
    "    rub_per_gb = tariffs_dict[user_tariff]['rub_per_gb'][0]\n",
    "    rub_monthly_fee = tariffs_dict[user_tariff]['rub_monthly_fee'][0]\n",
    "    \n",
    "    calls_spend = calc_used_value(row['duration_min'], \n",
    "                                  minutes_included\n",
    "                                 )\n",
    "\n",
    "    messages_spend = calc_used_value(row['message_count'], \n",
    "                                  messages_included\n",
    "                                 )\n",
    "    \n",
    "    traffic_spend = calc_used_value(row['mb_used'], \n",
    "                                  mb_per_month_included\n",
    "                                 )\n",
    "    \n",
    "    # mb надо привести к Gb и округлить вверх\n",
    "    traffic_spend = ceil(traffic_spend / 1024)\n",
    "    \n",
    "    revenue = calls_spend * rub_per_minute + messages_spend * rub_per_message + traffic_spend * rub_per_gb + rub_monthly_fee\n",
    "    \n",
    "    return revenue"
   ]
  },
  {
   "cell_type": "code",
   "execution_count": 24,
   "metadata": {},
   "outputs": [
    {
     "data": {
      "text/html": [
       "<div>\n",
       "<style scoped>\n",
       "    .dataframe tbody tr th:only-of-type {\n",
       "        vertical-align: middle;\n",
       "    }\n",
       "\n",
       "    .dataframe tbody tr th {\n",
       "        vertical-align: top;\n",
       "    }\n",
       "\n",
       "    .dataframe thead th {\n",
       "        text-align: right;\n",
       "    }\n",
       "</style>\n",
       "<table border=\"1\" class=\"dataframe\">\n",
       "  <thead>\n",
       "    <tr style=\"text-align: right;\">\n",
       "      <th></th>\n",
       "      <th>user_id</th>\n",
       "      <th>duration_min</th>\n",
       "      <th>call_count</th>\n",
       "      <th>message_count</th>\n",
       "      <th>mb_used</th>\n",
       "      <th>tariff</th>\n",
       "      <th>revenue</th>\n",
       "    </tr>\n",
       "  </thead>\n",
       "  <tbody>\n",
       "    <tr>\n",
       "      <td>0</td>\n",
       "      <td>1000</td>\n",
       "      <td>159</td>\n",
       "      <td>22</td>\n",
       "      <td>22</td>\n",
       "      <td>2256</td>\n",
       "      <td>ultra</td>\n",
       "      <td>1950</td>\n",
       "    </tr>\n",
       "    <tr>\n",
       "      <td>1</td>\n",
       "      <td>1000</td>\n",
       "      <td>172</td>\n",
       "      <td>43</td>\n",
       "      <td>60</td>\n",
       "      <td>23257</td>\n",
       "      <td>ultra</td>\n",
       "      <td>1950</td>\n",
       "    </tr>\n",
       "    <tr>\n",
       "      <td>2</td>\n",
       "      <td>1000</td>\n",
       "      <td>340</td>\n",
       "      <td>47</td>\n",
       "      <td>75</td>\n",
       "      <td>14016</td>\n",
       "      <td>ultra</td>\n",
       "      <td>1950</td>\n",
       "    </tr>\n",
       "    <tr>\n",
       "      <td>3</td>\n",
       "      <td>1000</td>\n",
       "      <td>408</td>\n",
       "      <td>52</td>\n",
       "      <td>81</td>\n",
       "      <td>14070</td>\n",
       "      <td>ultra</td>\n",
       "      <td>1950</td>\n",
       "    </tr>\n",
       "    <tr>\n",
       "      <td>4</td>\n",
       "      <td>1000</td>\n",
       "      <td>466</td>\n",
       "      <td>58</td>\n",
       "      <td>57</td>\n",
       "      <td>14581</td>\n",
       "      <td>ultra</td>\n",
       "      <td>1950</td>\n",
       "    </tr>\n",
       "    <tr>\n",
       "      <td>5</td>\n",
       "      <td>1000</td>\n",
       "      <td>350</td>\n",
       "      <td>57</td>\n",
       "      <td>73</td>\n",
       "      <td>14717</td>\n",
       "      <td>ultra</td>\n",
       "      <td>1950</td>\n",
       "    </tr>\n",
       "    <tr>\n",
       "      <td>6</td>\n",
       "      <td>1000</td>\n",
       "      <td>338</td>\n",
       "      <td>43</td>\n",
       "      <td>58</td>\n",
       "      <td>14768</td>\n",
       "      <td>ultra</td>\n",
       "      <td>1950</td>\n",
       "    </tr>\n",
       "    <tr>\n",
       "      <td>7</td>\n",
       "      <td>1000</td>\n",
       "      <td>333</td>\n",
       "      <td>46</td>\n",
       "      <td>70</td>\n",
       "      <td>9827</td>\n",
       "      <td>ultra</td>\n",
       "      <td>1950</td>\n",
       "    </tr>\n",
       "    <tr>\n",
       "      <td>8</td>\n",
       "      <td>1001</td>\n",
       "      <td>430</td>\n",
       "      <td>59</td>\n",
       "      <td>0</td>\n",
       "      <td>18452</td>\n",
       "      <td>smart</td>\n",
       "      <td>1350</td>\n",
       "    </tr>\n",
       "    <tr>\n",
       "      <td>9</td>\n",
       "      <td>1001</td>\n",
       "      <td>414</td>\n",
       "      <td>63</td>\n",
       "      <td>0</td>\n",
       "      <td>14053</td>\n",
       "      <td>smart</td>\n",
       "      <td>550</td>\n",
       "    </tr>\n",
       "  </tbody>\n",
       "</table>\n",
       "</div>"
      ],
      "text/plain": [
       "   user_id  duration_min  call_count  message_count  mb_used tariff  revenue\n",
       "0     1000           159          22             22     2256  ultra     1950\n",
       "1     1000           172          43             60    23257  ultra     1950\n",
       "2     1000           340          47             75    14016  ultra     1950\n",
       "3     1000           408          52             81    14070  ultra     1950\n",
       "4     1000           466          58             57    14581  ultra     1950\n",
       "5     1000           350          57             73    14717  ultra     1950\n",
       "6     1000           338          43             58    14768  ultra     1950\n",
       "7     1000           333          46             70     9827  ultra     1950\n",
       "8     1001           430          59              0    18452  smart     1350\n",
       "9     1001           414          63              0    14053  smart      550"
      ]
     },
     "execution_count": 24,
     "metadata": {},
     "output_type": "execute_result"
    }
   ],
   "source": [
    "resources_total['revenue'] = resources_total.apply(calc_revenue, axis=1)\n",
    "\n",
    "resources_total.head(10)"
   ]
  },
  {
   "cell_type": "markdown",
   "metadata": {},
   "source": [
    "### Вывод\n",
    "Создан отдельный датасет содержащий помесячные расчеты по клиентам:\n",
    "- количество сделанных звонков и израсходованных минут разговора\n",
    "- количество отправленных сообщений\n",
    "- объем израсходованного интернет-трафика\n",
    "- помесячную выручку с каждого пользователя"
   ]
  },
  {
   "cell_type": "markdown",
   "metadata": {},
   "source": [
    "### Шаг 3. Анализ данных\n",
    "Опишите поведение клиентов оператора, исходя из выборки.   \n",
    "Сколько минут разговора, сколько сообщений и какой объём интернет-трафика требуется пользователям каждого тарифа в месяц?   Посчитайте среднее количество, дисперсию и стандартное отклонение.  \n",
    "Постройте гистограммы."
   ]
  },
  {
   "cell_type": "code",
   "execution_count": 25,
   "metadata": {},
   "outputs": [
    {
     "name": "stdout",
     "output_type": "stream",
     "text": [
      "Статистика для клиентов на тарифе Smart: \n",
      "\n",
      "        duration_min       mb_used  message_count      revenue\n",
      "count   2229.000000   2229.000000    2229.000000  2229.000000\n",
      "mean     417.934948  16229.188425      33.384029  1294.639300\n",
      "std      190.313730   5877.576978      28.227876   820.933202\n",
      "min        0.000000      0.000000       0.000000   550.000000\n",
      "25%      282.000000  12658.000000      10.000000   550.000000\n",
      "50%      422.000000  16531.000000      28.000000  1038.000000\n",
      "75%      545.000000  20068.000000      51.000000  1750.000000\n",
      "max     1435.000000  38610.000000     143.000000  6770.000000\n"
     ]
    }
   ],
   "source": [
    "print('Статистика для клиентов на тарифе Smart:',\n",
    "      '\\n\\n',\n",
    "     resources_total\n",
    "      .query('tariff == \"smart\"')\n",
    "      .loc[:, ['duration_min','mb_used','message_count', 'revenue']]\n",
    "      .describe()\n",
    "     )"
   ]
  },
  {
   "cell_type": "code",
   "execution_count": 26,
   "metadata": {},
   "outputs": [],
   "source": [
    "# Функция строит гистограммы параметров для двух тарифов\n",
    "# data - dataset\n",
    "# value_list - список пар значений \"название столбца\" - \"заголовок диаграммы\"\n",
    "# bins - кол-во корзин для гистограммы\n",
    "def draw_hist(data, value_list, bins=20):\n",
    "    bins = bins\n",
    "    for row in value_list:        \n",
    "        data.plot(kind='hist', \n",
    "                   y=row[0],\n",
    "                   title=row[1],\n",
    "                   bins=bins,                   \n",
    "                  )\n",
    "        plt.show()"
   ]
  },
  {
   "cell_type": "code",
   "execution_count": 27,
   "metadata": {},
   "outputs": [
    {
     "name": "stdout",
     "output_type": "stream",
     "text": [
      "Помесячное использование ресурсов на тарифе Smart:\n"
     ]
    },
    {
     "data": {
      "image/png": "[encoded data removed]",
      "text/plain": [
       "<Figure size 432x288 with 1 Axes>"
      ]
     },
     "metadata": {
      "needs_background": "light"
     },
     "output_type": "display_data"
    },
    {
     "data": {
      "image/png": "[encoded data removed]",
      "text/plain": [
       "<Figure size 432x288 with 1 Axes>"
      ]
     },
     "metadata": {
      "needs_background": "light"
     },
     "output_type": "display_data"
    },
    {
     "data": {
      "image/png": "[encoded data removed]",
      "text/plain": [
       "<Figure size 432x288 with 1 Axes>"
      ]
     },
     "metadata": {
      "needs_background": "light"
     },
     "output_type": "display_data"
    },
    {
     "data": {
      "image/png": "[encoded data removed]",
      "text/plain": [
       "<Figure size 432x288 with 1 Axes>"
      ]
     },
     "metadata": {
      "needs_background": "light"
     },
     "output_type": "display_data"
    }
   ],
   "source": [
    "# гистограммы параметров\n",
    "value_list = [['duration_min', 'Длительность звонков, мин'], \n",
    "              ['message_count', 'Кол-во sms'], \n",
    "              ['mb_used', 'Использовано трафика, mb'],\n",
    "              ['revenue', 'Выручка, руб']\n",
    "             ]        \n",
    "\n",
    "print('Помесячное использование ресурсов на тарифе Smart:')\n",
    "draw_hist(resources_total.query('tariff == \"smart\"'), value_list, 10)"
   ]
  },
  {
   "cell_type": "markdown",
   "metadata": {},
   "source": [
    "#### Анализ поведения среднего пользователя тарифа Smart\n",
    "Типовой Пользователь разговаривает 400 - 500 мин в месяц (417 среднее знач.), отправляет 20 - 30 sms (33 среднее знач.), расходует около 17 Gb трафика (16200 mb среднее знач.)  \n",
    "Средняя выручка 1290 руб/мес, при этом, абон. плата всего 550 руб."
   ]
  },
  {
   "cell_type": "code",
   "execution_count": 28,
   "metadata": {},
   "outputs": [
    {
     "name": "stdout",
     "output_type": "stream",
     "text": [
      "Статистика для клиентов на тарифе Ultra: \n",
      "\n",
      "        duration_min       mb_used  message_count      revenue\n",
      "count    985.000000    985.000000     985.000000   985.000000\n",
      "mean     526.623350  19486.901523      49.363452  2071.065990\n",
      "std      317.606098  10096.317202      47.804457   378.802377\n",
      "min        0.000000      0.000000       0.000000  1950.000000\n",
      "25%      284.000000  11785.000000       6.000000  1950.000000\n",
      "50%      518.000000  19324.000000      38.000000  1950.000000\n",
      "75%      752.000000  26863.000000      79.000000  1950.000000\n",
      "max     1673.000000  49789.000000     224.000000  4800.000000\n"
     ]
    }
   ],
   "source": [
    "print('Статистика для клиентов на тарифе Ultra:',\n",
    "      '\\n\\n',\n",
    "     resources_total\n",
    "      .query('tariff == \"ultra\"')\n",
    "      .loc[:, ['duration_min','mb_used','message_count', 'revenue']]\n",
    "      .describe()\n",
    "     )"
   ]
  },
  {
   "cell_type": "code",
   "execution_count": 29,
   "metadata": {},
   "outputs": [
    {
     "name": "stdout",
     "output_type": "stream",
     "text": [
      "Помесячное использование ресурсов на тарифе Ultra:\n"
     ]
    },
    {
     "data": {
      "image/png": "[encoded data removed]",
      "text/plain": [
       "<Figure size 432x288 with 1 Axes>"
      ]
     },
     "metadata": {
      "needs_background": "light"
     },
     "output_type": "display_data"
    },
    {
     "data": {
      "image/png": "[encoded data removed]",
      "text/plain": [
       "<Figure size 432x288 with 1 Axes>"
      ]
     },
     "metadata": {
      "needs_background": "light"
     },
     "output_type": "display_data"
    },
    {
     "data": {
      "image/png": "[encoded data removed]",
      "text/plain": [
       "<Figure size 432x288 with 1 Axes>"
      ]
     },
     "metadata": {
      "needs_background": "light"
     },
     "output_type": "display_data"
    },
    {
     "data": {
      "image/png": "[encoded data removed]",
      "text/plain": [
       "<Figure size 432x288 with 1 Axes>"
      ]
     },
     "metadata": {
      "needs_background": "light"
     },
     "output_type": "display_data"
    }
   ],
   "source": [
    "print('Помесячное использование ресурсов на тарифе Ultra:')\n",
    "draw_hist(resources_total.query('tariff == \"ultra\"'), value_list, 15)"
   ]
  },
  {
   "cell_type": "markdown",
   "metadata": {},
   "source": [
    "#### Анализ поведения среднего пользователя тарифа Ultra\n",
    "Типовой Пользователь разговаривает 250 - 600 мин в месяц (526 среднее знач.), но также много пользователей, которые разговаривают меньше 100 мин/мес. Отправляет меньше 30 sms (49 среднее знач.), расходует около 20 Gb трафика (19400 mb среднее знач.)  \n",
    "Средняя выручка 2070 руб/мес, при этом, абон. плата по тарифу 1950 руб. Т.е. средняя выручка с клиента всего на 100 руб выше абон. платы."
   ]
  },
  {
   "cell_type": "code",
   "execution_count": 30,
   "metadata": {},
   "outputs": [
    {
     "data": {
      "text/plain": [
       "Text(0.5, 1, 'Средняя помесячная выручка с клиента')"
      ]
     },
     "execution_count": 30,
     "metadata": {},
     "output_type": "execute_result"
    },
    {
     "data": {
      "image/png": "[encoded data removed]",
      "text/plain": [
       "<Figure size 360x360 with 1 Axes>"
      ]
     },
     "metadata": {
      "needs_background": "light"
     },
     "output_type": "display_data"
    },
    {
     "data": {
      "image/png": "[encoded data removed]",
      "text/plain": [
       "<Figure size 360x360 with 1 Axes>"
      ]
     },
     "metadata": {
      "needs_background": "light"
     },
     "output_type": "display_data"
    },
    {
     "data": {
      "image/png": "[encoded data removed]",
      "text/plain": [
       "<Figure size 360x360 with 1 Axes>"
      ]
     },
     "metadata": {
      "needs_background": "light"
     },
     "output_type": "display_data"
    },
    {
     "data": {
      "image/png": "[encoded data removed]",
      "text/plain": [
       "<Figure size 360x360 with 1 Axes>"
      ]
     },
     "metadata": {
      "needs_background": "light"
     },
     "output_type": "display_data"
    }
   ],
   "source": [
    "# сравним также средние значения для двух тарифов\n",
    "sns.catplot(x='tariff', y='duration_min', data=resources_total, kind='bar')\n",
    "plt.title('Средняя длительность звонков')\n",
    "\n",
    "sns.catplot(x='tariff', y='message_count', data=resources_total, kind='bar')\n",
    "plt.title('Среднее кол-во sms')\n",
    "\n",
    "sns.catplot(x='tariff', y='mb_used', data=resources_total, kind='bar')\n",
    "plt.title('Средний объем трафика')\n",
    "\n",
    "sns.catplot(x='tariff', y='revenue', data=resources_total, kind='bar')\n",
    "plt.title('Средняя помесячная выручка с клиента')"
   ]
  },
  {
   "cell_type": "markdown",
   "metadata": {},
   "source": [
    "#### Сравнение тарифов\n",
    "- Для тарифа Ultra средняя длительность звонков, кол-во сообщений и объем трафика за месяц выше чем для тарифа Smart.\n",
    "- Средняя выручка для двух тарифов выше абонентской платы тарифов, но для Smart средн. выручка превышает абон. плату на 750 руб, а для Ultra всего на 100 руб. Можно сделать вывод, что для клиентов Smart кол-во бесплатных ресурсов в тарифе недостаточно, т.к. клиенты покупают дополнительные ресурсы.\n",
    "- Средняя выручка по тарифу Ultra выше чем по тарифу Smart."
   ]
  },
  {
   "cell_type": "code",
   "execution_count": 31,
   "metadata": {},
   "outputs": [
    {
     "name": "stdout",
     "output_type": "stream",
     "text": [
      "Тариф Smart:\n"
     ]
    },
    {
     "data": {
      "text/html": [
       "<div>\n",
       "<style scoped>\n",
       "    .dataframe tbody tr th:only-of-type {\n",
       "        vertical-align: middle;\n",
       "    }\n",
       "\n",
       "    .dataframe tbody tr th {\n",
       "        vertical-align: top;\n",
       "    }\n",
       "\n",
       "    .dataframe thead th {\n",
       "        text-align: right;\n",
       "    }\n",
       "</style>\n",
       "<table border=\"1\" class=\"dataframe\">\n",
       "  <thead>\n",
       "    <tr style=\"text-align: right;\">\n",
       "      <th></th>\n",
       "      <th>duration_min</th>\n",
       "      <th>message_count</th>\n",
       "      <th>mb_used</th>\n",
       "    </tr>\n",
       "  </thead>\n",
       "  <tbody>\n",
       "    <tr>\n",
       "      <td>mean</td>\n",
       "      <td>417.934948</td>\n",
       "      <td>33.384029</td>\n",
       "      <td>1.622919e+04</td>\n",
       "    </tr>\n",
       "    <tr>\n",
       "      <td>variation</td>\n",
       "      <td>36219.315784</td>\n",
       "      <td>796.812958</td>\n",
       "      <td>3.454591e+07</td>\n",
       "    </tr>\n",
       "    <tr>\n",
       "      <td>std</td>\n",
       "      <td>190.313730</td>\n",
       "      <td>28.227876</td>\n",
       "      <td>5.877577e+03</td>\n",
       "    </tr>\n",
       "  </tbody>\n",
       "</table>\n",
       "</div>"
      ],
      "text/plain": [
       "           duration_min  message_count       mb_used\n",
       "mean         417.934948      33.384029  1.622919e+04\n",
       "variation  36219.315784     796.812958  3.454591e+07\n",
       "std          190.313730      28.227876  5.877577e+03"
      ]
     },
     "execution_count": 31,
     "metadata": {},
     "output_type": "execute_result"
    }
   ],
   "source": [
    "# средние значения, дисперсию и стандартное отклонение сохраним в отдельный датасет\n",
    "resources_total_smart = resources_total.query('tariff == \"smart\"').reset_index(drop=True)\n",
    "\n",
    "resources_total_ultra = resources_total.query('tariff == \"ultra\"').reset_index(drop=True)\n",
    "\n",
    "smart_statistics = pd.DataFrame({'duration_min': [resources_total_smart['duration_min'].describe()['mean'], \n",
    "                                                  np.var(resources_total_smart['duration_min'], ddof=1), \n",
    "                                                  resources_total_smart['duration_min'].describe()['std']],\n",
    "                                 'message_count': [resources_total_smart['message_count'].describe()['mean'], \n",
    "                                                  np.var(resources_total_smart['message_count'], ddof=1), \n",
    "                                                  resources_total_smart['message_count'].describe()['std']],\n",
    "                                 'mb_used': [resources_total_smart['mb_used'].describe()['mean'], \n",
    "                                                  np.var(resources_total_smart['mb_used'], ddof=1), \n",
    "                                                  resources_total_smart['mb_used'].describe()['std']]\n",
    "                                \n",
    "                                }, \n",
    "                                 index=['mean', 'variation', 'std']\n",
    "                                )\n",
    "\n",
    "print('Тариф Smart:')\n",
    "\n",
    "smart_statistics"
   ]
  },
  {
   "cell_type": "code",
   "execution_count": 32,
   "metadata": {},
   "outputs": [
    {
     "name": "stdout",
     "output_type": "stream",
     "text": [
      "Тариф Ultra:\n"
     ]
    },
    {
     "data": {
      "text/html": [
       "<div>\n",
       "<style scoped>\n",
       "    .dataframe tbody tr th:only-of-type {\n",
       "        vertical-align: middle;\n",
       "    }\n",
       "\n",
       "    .dataframe tbody tr th {\n",
       "        vertical-align: top;\n",
       "    }\n",
       "\n",
       "    .dataframe thead th {\n",
       "        text-align: right;\n",
       "    }\n",
       "</style>\n",
       "<table border=\"1\" class=\"dataframe\">\n",
       "  <thead>\n",
       "    <tr style=\"text-align: right;\">\n",
       "      <th></th>\n",
       "      <th>duration_min</th>\n",
       "      <th>message_count</th>\n",
       "      <th>mb_used</th>\n",
       "    </tr>\n",
       "  </thead>\n",
       "  <tbody>\n",
       "    <tr>\n",
       "      <td>mean</td>\n",
       "      <td>526.623350</td>\n",
       "      <td>49.363452</td>\n",
       "      <td>1.948690e+04</td>\n",
       "    </tr>\n",
       "    <tr>\n",
       "      <td>variation</td>\n",
       "      <td>100873.633397</td>\n",
       "      <td>2285.266143</td>\n",
       "      <td>1.019356e+08</td>\n",
       "    </tr>\n",
       "    <tr>\n",
       "      <td>std</td>\n",
       "      <td>317.606098</td>\n",
       "      <td>47.804457</td>\n",
       "      <td>1.009632e+04</td>\n",
       "    </tr>\n",
       "  </tbody>\n",
       "</table>\n",
       "</div>"
      ],
      "text/plain": [
       "            duration_min  message_count       mb_used\n",
       "mean          526.623350      49.363452  1.948690e+04\n",
       "variation  100873.633397    2285.266143  1.019356e+08\n",
       "std           317.606098      47.804457  1.009632e+04"
      ]
     },
     "execution_count": 32,
     "metadata": {},
     "output_type": "execute_result"
    }
   ],
   "source": [
    "ultra_statistics = pd.DataFrame({'duration_min': [resources_total_ultra['duration_min'].describe()['mean'], \n",
    "                                                  np.var(resources_total_ultra['duration_min'], ddof=1), \n",
    "                                                  resources_total_ultra['duration_min'].describe()['std']],\n",
    "                                 'message_count': [resources_total_ultra['message_count'].describe()['mean'], \n",
    "                                                  np.var(resources_total_ultra['message_count'], ddof=1), \n",
    "                                                  resources_total_ultra['message_count'].describe()['std']],\n",
    "                                 'mb_used': [resources_total_ultra['mb_used'].describe()['mean'], \n",
    "                                                  np.var(resources_total_ultra['mb_used'], ddof=1), \n",
    "                                                  resources_total_ultra['mb_used'].describe()['std']]\n",
    "                                \n",
    "                                }, \n",
    "                                 index=['mean', 'variation', 'std']\n",
    "                                )\n",
    "\n",
    "print('Тариф Ultra:')\n",
    "\n",
    "ultra_statistics"
   ]
  },
  {
   "cell_type": "markdown",
   "metadata": {},
   "source": [
    "### Вывод\n",
    "- поведение пользователя тарифа Smart  \n",
    "Типовой Пользователь разговаривает 400 - 500 мин в месяц (417 среднее знач.), отправляет 20-30 sms (33 среднее знач.), расходует около 17 Gb трафика (16200 mb среднее знач.) Средняя выручка 1290 руб/мес.\n",
    "\n",
    "- поведение пользователя тарифа Ultra  \n",
    "Типовой Пользователь разговаривает 250 - 600 мин в месяц (526 среднее знач.), но также много пользователей, которые разговаривают меньше 100 мин/мес. Отправляет меньше 30 sms (49 среднее знач.), расходует около 20 Gb трафика (19400 mb среднее знач.). Средняя выручка 2070 руб/мес\n",
    "\n",
    "- Сравнение тарифов  \n",
    "Для тарифа Ultra средняя длительность звонков, кол-во сообщений и объем трафика за месяц выше чем для тарифа Smart. Средняя выручка для двух тарифов выше абонентской платы тарифов, но для Smart средн. выручка превышает абон. плату на 750 руб, а для Ultra всего на 100 руб. Можно сделать вывод, что для клиентов Smart кол-во бесплатных ресурсов в тарифе недостаточно, т.к. клиенты покупают дополнительные ресурсы.  \n",
    "Средняя выручка по тарифу Ultra выше чем по тарифу Smart.\n",
    "\n",
    "- Построены диаграммы помесячного распределения использования ресурсов пользователями  \n",
    "Тип распределения для всех параметров - нормальное распределение\n",
    "- Посчитаны значения дисперсии и стандартного отклонения для параметров"
   ]
  },
  {
   "cell_type": "markdown",
   "metadata": {},
   "source": [
    "### Шаг 4. Проверка гипотез\n",
    "Проверьте гипотезы:\n",
    "- средняя выручка пользователей тарифов «Ультра» и «Смарт» различается\n",
    "- средняя выручка пользователей из Москвы отличается от выручки пользователей из других регионов"
   ]
  },
  {
   "cell_type": "markdown",
   "metadata": {},
   "source": [
    "#### Гипотеза 1 - средняя выручка пользователей тарифов «Ультра» и «Смарт» различается\n",
    "\n",
    "__Нулевая гипотеза__: средняя помесячная выручка пользователей тарифа Ultra равна средней помесячной выручке пользователей тарифа Smart  \n",
    "__Альтернативная гипотеза__: средняя помесячная выручка пользователей тарифа Ultra не равна средней помесячной выручке пользователей тарифа Smart  \n",
    "Необходимо проверить гипотезу о равенстве двух независимых генеральных совокупностей. Совокупности являются независимыми, т.к. поведение пользователей одного тарифа никак не связаны и не влияют на поведение пользователей второго тарифа.\n",
    "  \n",
    "Уровень статистической значимости возьмем 1%"
   ]
  },
  {
   "cell_type": "code",
   "execution_count": 33,
   "metadata": {},
   "outputs": [
    {
     "name": "stdout",
     "output_type": "stream",
     "text": [
      "p-значение: 2.9776448000521676e-158\n",
      "Отвергаем нулевую гипотезу\n"
     ]
    }
   ],
   "source": [
    "alpha = .01\n",
    "results = st.ttest_ind(resources_total_smart\n",
    "                       .loc[:, 'revenue']\n",
    "                       .to_list(), \n",
    "                       resources_total_ultra\n",
    "                       .loc[:, 'revenue']\n",
    "                       .to_list()\n",
    "                      )\n",
    "\n",
    "print('p-значение:', results.pvalue)\n",
    "\n",
    "if (results.pvalue < alpha):\n",
    "    print(\"Отвергаем нулевую гипотезу\")\n",
    "else:\n",
    "    print(\"Не получилось отвергнуть нулевую гипотезу\")"
   ]
  },
  {
   "cell_type": "markdown",
   "metadata": {},
   "source": [
    "__Нулевая гипотеза отвергается__, т.е. средняя помесячная выручка пользователей тарифа Ultra __не равна__ средней помесячной выручке пользователей тарифа Smart.  \n",
    "Результаты проверки гипотезы не противоречат выводу, который был сделан на шаге анализа данных: Средняя выручка по тарифу Ultra выше чем по тарифу Smart."
   ]
  },
  {
   "cell_type": "markdown",
   "metadata": {},
   "source": [
    "#### Гипотеза 2 - средняя выручка пользователей из Москвы отличается от выручки пользователей из других регионов\n",
    "\n",
    "__Нулевая гипотеза__: средняя помесячная выручка (для двух тарифов) пользователей из Москвы равна средней помесячной выручке пользователей из других городов  \n",
    "__Альтернативная гипотеза__: средняя помесячная выручка (для двух тарифов) пользователей из Москвы не равна средней помесячной выручке пользователей из других городов  \n",
    "Необходимо проверить гипотезу о равенстве двух независимых генеральных совокупностей. Совокупности являются независимыми, т.к. поведение пользователей из Москвы никак не связаны и не влияют на поведение пользователей других городов.\n",
    "  \n",
    "Уровень статистической значимости возьмем 1%"
   ]
  },
  {
   "cell_type": "code",
   "execution_count": 34,
   "metadata": {},
   "outputs": [
    {
     "data": {
      "text/html": [
       "<div>\n",
       "<style scoped>\n",
       "    .dataframe tbody tr th:only-of-type {\n",
       "        vertical-align: middle;\n",
       "    }\n",
       "\n",
       "    .dataframe tbody tr th {\n",
       "        vertical-align: top;\n",
       "    }\n",
       "\n",
       "    .dataframe thead th {\n",
       "        text-align: right;\n",
       "    }\n",
       "</style>\n",
       "<table border=\"1\" class=\"dataframe\">\n",
       "  <thead>\n",
       "    <tr style=\"text-align: right;\">\n",
       "      <th></th>\n",
       "      <th>revenue_mean</th>\n",
       "    </tr>\n",
       "    <tr>\n",
       "      <th>user_id</th>\n",
       "      <th></th>\n",
       "    </tr>\n",
       "  </thead>\n",
       "  <tbody>\n",
       "    <tr>\n",
       "      <td>1000</td>\n",
       "      <td>1950.000000</td>\n",
       "    </tr>\n",
       "    <tr>\n",
       "      <td>1001</td>\n",
       "      <td>950.000000</td>\n",
       "    </tr>\n",
       "    <tr>\n",
       "      <td>1002</td>\n",
       "      <td>1035.714286</td>\n",
       "    </tr>\n",
       "    <tr>\n",
       "      <td>1003</td>\n",
       "      <td>1950.000000</td>\n",
       "    </tr>\n",
       "    <tr>\n",
       "      <td>1004</td>\n",
       "      <td>1950.000000</td>\n",
       "    </tr>\n",
       "  </tbody>\n",
       "</table>\n",
       "</div>"
      ],
      "text/plain": [
       "         revenue_mean\n",
       "user_id              \n",
       "1000      1950.000000\n",
       "1001       950.000000\n",
       "1002      1035.714286\n",
       "1003      1950.000000\n",
       "1004      1950.000000"
      ]
     },
     "execution_count": 34,
     "metadata": {},
     "output_type": "execute_result"
    }
   ],
   "source": [
    "# Нужно получить среднюю выручку по пользователям и смерджить с таблицей users, чтобы затем выделить пользователей из Москвы\n",
    "users_revenue_mean = resources_total.groupby(by='user_id').agg({'revenue':['mean']})\n",
    "users_revenue_mean.set_axis(['revenue_mean'], axis=1, inplace=True)\n",
    "\n",
    "users_revenue_mean.head()"
   ]
  },
  {
   "cell_type": "code",
   "execution_count": 35,
   "metadata": {},
   "outputs": [],
   "source": [
    "# добавим ср. выручку в таблицу users\n",
    "users = users.merge(users_revenue_mean, on='user_id', how='left')"
   ]
  },
  {
   "cell_type": "code",
   "execution_count": 36,
   "metadata": {},
   "outputs": [
    {
     "name": "stdout",
     "output_type": "stream",
     "text": [
      "count     498.000000\n",
      "mean     1554.903727\n",
      "std       636.808558\n",
      "min       550.000000\n",
      "25%      1009.553571\n",
      "50%      1621.333333\n",
      "75%      1950.000000\n",
      "max      4333.333333\n",
      "Name: revenue_mean, dtype: float64\n",
      "0\n"
     ]
    }
   ],
   "source": [
    "# проверим новый столбец на пустые значения\n",
    "print(users['revenue_mean'].describe())\n",
    "\n",
    "# есть два пустых значения, т.е. клиент из выборки платил абон. плату, но не совершал звонков и т.д.\n",
    "# заполним пропуски значениями из тарифа\n",
    "users.loc[(users['revenue_mean'].isna()) & (users['tariff'] == 'smart'), 'revenue_mean'] = 550\n",
    "users.loc[(users['revenue_mean'].isna()) & (users['tariff'] == 'ultra'), 'revenue_mean'] = 1950\n",
    "\n",
    "print(users[users['revenue_mean'].isna()]['revenue_mean'].count())"
   ]
  },
  {
   "cell_type": "code",
   "execution_count": 37,
   "metadata": {},
   "outputs": [
    {
     "data": {
      "text/plain": [
       "array(['Краснодар', 'Москва', 'Стерлитамак', 'Новокузнецк',\n",
       "       'Набережные Челны', 'Ульяновск', 'Челябинск', 'Пермь', 'Тюмень',\n",
       "       'Самара', 'Санкт-Петербург', 'Иваново', 'Чебоксары', 'Омск', 'Уфа',\n",
       "       'Томск', 'Чита', 'Мурманск', 'Петрозаводск', 'Тверь',\n",
       "       'Екатеринбург', 'Махачкала', 'Вологда', 'Череповец', 'Ярославль',\n",
       "       'Сочи', 'Хабаровск', 'Ставрополь', 'Рязань', 'Улан-Удэ', 'Тула',\n",
       "       'Саратов', 'Ростов-на-Дону', 'Казань', 'Иркутск', 'Курск',\n",
       "       'Калуга', 'Якутск', 'Астрахань', 'Химки', 'Владикавказ',\n",
       "       'Волгоград', 'Саранск', 'Ижевск', 'Новосибирск', 'Брянск',\n",
       "       'Тольятти', 'Нижний Тагил', 'Орёл', 'Белгород', 'Воронеж',\n",
       "       'Волжский', 'Курган', 'Барнаул', 'Красноярск', 'Архангельск',\n",
       "       'Липецк', 'Кемерово', 'Киров', 'Сургут', 'Пенза', 'Магнитогорск',\n",
       "       'Нижний Новгород', 'Кострома', 'Владивосток', 'Тамбов', 'Балашиха',\n",
       "       'Севастополь', 'Калининград', 'Оренбург', 'Смоленск',\n",
       "       'Нижневартовск', 'Владимир', 'Новороссийск', 'Грозный', 'Подольск'],\n",
       "      dtype=object)"
      ]
     },
     "execution_count": 37,
     "metadata": {},
     "output_type": "execute_result"
    }
   ],
   "source": [
    "# проверим, что названия городов не дублируются\n",
    "users['city'].unique()"
   ]
  },
  {
   "cell_type": "code",
   "execution_count": 38,
   "metadata": {},
   "outputs": [],
   "source": [
    "# сделаем срез по клиентам из Москвы и остальным городам\n",
    "users_moscow = users.query('city == \"Москва\"')\n",
    "users_other = users.query('city != \"Москва\"')"
   ]
  },
  {
   "cell_type": "code",
   "execution_count": 39,
   "metadata": {},
   "outputs": [
    {
     "name": "stdout",
     "output_type": "stream",
     "text": [
      "p-значение: 0.38656613797487016\n",
      "Не получилось отвергнуть нулевую гипотезу\n"
     ]
    }
   ],
   "source": [
    "# проверка гипотезы\n",
    "alpha = .01\n",
    "results = st.ttest_ind(users_moscow\n",
    "                       .loc[:, 'revenue_mean']\n",
    "                       .to_list(), \n",
    "                       users_other\n",
    "                       .loc[:, 'revenue_mean']\n",
    "                       .to_list()\n",
    "                      )\n",
    "\n",
    "print('p-значение:', results.pvalue)\n",
    "\n",
    "if (results.pvalue < alpha):\n",
    "    print(\"Отвергаем нулевую гипотезу\")\n",
    "else:\n",
    "    print(\"Не получилось отвергнуть нулевую гипотезу\")"
   ]
  },
  {
   "cell_type": "markdown",
   "metadata": {},
   "source": [
    "__Нулевая гипотеза верна__, т.е. средняя помесячная выручка (для двух тарифов) пользователей из Москвы __равна__ средней помесячной выручке пользователей из других городов"
   ]
  },
  {
   "cell_type": "markdown",
   "metadata": {},
   "source": [
    "## Общий вывод\n",
    "### Шаг 1 Изучение общей информации о данных\n",
    "Было проведено изучение общей информации: доступны данные об 500 клиентах, 202 607 звонках, 123 036 сообщениях, 149 396 интернет сессиях. Пропуски в данных отсутствуют, в таблице Internet есть некорректный столбец.\n",
    "\n",
    "### Шаг 2 Предобработка данных\n",
    "- поля содержащие календарную дату приведены к типу datetime64\n",
    "- Таблица calls.   \n",
    "Добавлен столбец с длительностью звонков с округлением по правилам тарификации.\n",
    "Почти 20% от общего объема звонков - это пропущенные вызовы (нулевая длительность). Тем не менее, это звонки, которые клиенты пытались совершить. При дальнейшем анализе их нужно учесть в расчетах.\n",
    "- Столбец Internet  \n",
    "Лишний \"неименованный\" столбец удален, удалены сессии с нулевым объемом трафика, добавлен столбец с объемом трафика с округлением по правилам тарификации.\n",
    "\n",
    "### Шаг 2 Расчет использованных пользователями ресурсов\n",
    "Создан отдельный датасет содержащий помесячные расчеты по клиентам:\n",
    "- количество сделанных звонков и израсходованных минут разговора\n",
    "- количество отправленных сообщений\n",
    "- объем израсходованного интернет-трафика\n",
    "- помесячную выручку с каждого пользователя\n",
    "\n",
    "### Шаг 3 Анализ поведения пользователей\n",
    "- поведение пользователей тарифа Smart  \n",
    "Типовой Пользователь разговаривает 400 - 500 мин в месяц (417 среднее), отправляет 20-30 sms (33 среднее), расходует около 17 Gb трафика (16200 mb среднее) Средняя выручка 1290 руб/мес.\n",
    "\n",
    "- поведение пользователя тарифа Ultra  \n",
    "Типовой Пользователь разговаривает 250 - 600 мин в месяц (526 среднее), но также много пользователей, которые разговаривают меньше 100 мин/мес. Отправляет меньше 30 sms (49 среднее), расходует около 20 Gb трафика (19400 mb среднее). Средняя выручка 2070 руб/мес.\n",
    "\n",
    "- Сравнение тарифов  \n",
    "Для тарифа Ultra средняя длительность звонков, кол-во сообщений и объем трафика за месяц выше чем для тарифа Smart. Средняя выручка для двух тарифов выше абонентской платы тарифов, но для Smart средн. выручка превышает абон. плату на 750 руб, а для Ultra всего на 100 руб. Можно сделать вывод, что для клиентов Smart кол-во бесплатных ресурсов в тарифе недостаточно, т.к. клиенты покупают дополнительные ресурсы.  \n",
    "Средняя выручка по тарифу Ultra выше чем по тарифу Smart.\n",
    "\n",
    "- Построены диаграммы помесячного распределения использования ресурсов пользователями  \n",
    "- Посчитаны значения дисперсии и стандартного отклонения для параметров\n",
    "\n",
    "### Шаг 4 Проверка гипотез\n",
    "Были проверены две гипотезы о равенстве средних двух генеральных совокупностей. \n",
    "- Гипотеза 1 - средняя выручка пользователей тарифов «Ультра» и «Смарт» различается  \n",
    "__Нулевая гипотеза__: средняя помесячная выручка пользователей тарифа Ultra равна средней помесячной выручке пользователей тарифа Smart  \n",
    "__Альтернативная гипотеза__: средняя помесячная выручка пользователей тарифа Ultra не равна средней помесячной выручке пользователей тарифа Smart  \n",
    "Уровень статистической значимости 1%\n",
    "\n",
    "Результат: __Нулевая гипотеза отвергается__, т.е. средняя помесячная выручка пользователей тарифа Ultra __не равна__ средней помесячной выручке пользователей тарифа Smart.  \n",
    "Результаты проверки гипотезы не противоречат выводу, который был сделан на шаге анализа данных: Средняя выручка по тарифу Ultra выше чем по тарифу Smart.\n",
    "\n",
    "- Гипотеза 2 - средняя выручка пользователей из Москвы отличается от выручки пользователей из других регионов  \n",
    "__Нулевая гипотеза__: средняя помесячная выручка (для двух тарифов) пользователей из Москвы равна средней помесячной выручке пользователей из других городов  \n",
    "__Альтернативная гипотеза__: средняя помесячная выручка (для двух тарифов) пользователей из Москвы не равна средней помесячной выручке пользователей из других городов  \n",
    "Необходимо проверить гипотезу о равенстве двух независимых генеральных совокупностей. Совокупности являются независимыми, т.к. поведение пользователей из Москвы никак не связаны и не влияют на поведение пользователей других городов.\n",
    "Уровень статистической значимости 1%\n",
    "\n",
    "Результат: __Нулевая гипотеза верна__, т.е. средняя помесячная выручка (для двух тарифов) пользователей из Москвы __равна__ средней помесячной выручке пользователей из других городов\n",
    "\n",
    "__Для Оператора с точки зрения ежемесячной средней выручки с одного клиента выгодней тариф Ultra__"
   ]
  }
 ],
 "metadata": {
  "kernelspec": {
   "display_name": "Python 3",
   "language": "python",
   "name": "python3"
  },
  "language_info": {
   "codemirror_mode": {
    "name": "ipython",
    "version": 3
   },
   "file_extension": ".py",
   "mimetype": "text/x-python",
   "name": "python",
   "nbconvert_exporter": "python",
   "pygments_lexer": "ipython3",
   "version": "3.7.4"
  }
 },
 "nbformat": 4,
 "nbformat_minor": 2
}
