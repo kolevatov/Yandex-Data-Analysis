{
 "cells": [
  {
   "cell_type": "markdown",
   "metadata": {},
   "source": [
    "# E-commerce — Выявление профилей потребления"
   ]
  },
  {
   "cell_type": "markdown",
   "metadata": {},
   "source": [
    "<a id='task_descr'></a>\n",
    "## Декомпозиция задачи"
   ]
  },
  {
   "cell_type": "markdown",
   "metadata": {},
   "source": [
    "### 1. Предобработка данных\n",
    "Цель шага - подготовить данные к дальнейшему анализу.  \n",
    "\n",
    "Проверить:\n",
    "- корректность названия колонок датасета. Переименовать при необходимости.\n",
    "- наличие пропусков и дубликатов. Удалить дубликаты, заполнить пропуски если возможно.\n",
    "- корректность типов данных колонок датасета. Привести типы к более подходящим\n",
    "\n",
    "Проверить набор данных на наличие выбросов:\n",
    "- заказы с очень большой или, наоборот, очень маленькой общей стоимостью\n",
    "- заказы с большим числом товаров\n",
    "- пользователи с большим числом заказов  \n",
    "Очистить данные от выбросов, чтобы они не влияли на дальнейший анализ."
   ]
  },
  {
   "cell_type": "markdown",
   "metadata": {},
   "source": [
    "### 2. Исследовательский анализ данных\n",
    "Цель шага - изучить распределение значений метрик, которые описывают покупателей и профиль потребления. Выявить наиболее часто встречающиеся значения метрик.\n",
    "\n",
    "Провести анализ распределения для метрик, построить диаграммы:\n",
    "- число заказов на одного покупателя. Определить, характерны ли повторные покупки для покупателей.\n",
    "- распределение заказов месяцам. Определить, есть ли сезонность в продаже товаров.\n",
    "- распределение заказов по времени дня и по дням недели. Определить, есть ли пиковые часы/дни продаж.\n",
    "- число товаров в заказе.\n",
    "- распределение заказов по среднему чеку.\n",
    "- определить top10 товаров - лидеров продаж\n",
    "\n",
    "По данным о товарах в заказах сформировать список товарных категорий. Провести анализ для метрик, построить диаграммы:\n",
    "- определить, есть ли сезонность продаж с учетом категорий товаров\n",
    "- определить top10 категорий товаров - лидеров продаж по числу покупок и общей стоимости"
   ]
  },
  {
   "cell_type": "markdown",
   "metadata": {},
   "source": [
    "### 3. Сегментация покупателей\n",
    "Цель шага - сделать сегментацию покупателей по различным признакам для дальнейшего использования в маркетинговых активностях.\n",
    "\n",
    "Выделить сегменты покупателей:\n",
    "- по числу заказов на одного покупателя. Маркетинг сможет использовать сегменты для повышения LTV.\n",
    "- по категориям товаров. Может использоваться для персонализированных рекламных рассылок только по интересным для покупателям категориям\n",
    "- по среднему чеку. Может использоваться для персонализированных рекламных рассылок в заданном ценовом диапазоне.\n",
    "- по давности последнего заказа. Маркетинговые рассылки для клиентов, которые давно не покупали. Например, с предложением скидки, с целью вернуть клиента в магазин."
   ]
  },
  {
   "cell_type": "markdown",
   "metadata": {},
   "source": [
    "### 4. Проверка гипотез\n",
    "Цель шага - проверить гипотезы и сформулировать на основе них рекомендации.\n",
    "\n",
    "Проверить гипотезы:\n",
    "- большенство покупателей делают только один заказ. Сделать вывод о необходимости дальнейшего анализа причин низкого LTV.\n",
    "- большенство покупателей покупают товары из одной категории. Сделать вывод о формировании персонализированных рекомендаций покупателям."
   ]
  },
  {
   "cell_type": "markdown",
   "metadata": {},
   "source": [
    "## Оглавление\n",
    "<a href='#task_descr'>Декомпозиция задачи</a>  \n",
    "<a href='#data'>Описание данных</a>  \n",
    "<a href='#preparation'>Предобработка данных</a>  \n",
    "<a href='#research'>Исследовательский анализ данных</a>   \n",
    "<a href='#segments'>Сегментация покупателей</a>   \n",
    "<a href='#ideas'>Проверка гипотез</a>  \n",
    "<a href='#recomendations'>Выводы и рекомендации</a>"
   ]
  },
  {
   "cell_type": "markdown",
   "metadata": {},
   "source": [
    "## Презентация\n",
    "https://drive.google.com/file/d/1lcg2x-bqpwJHxRHTigu3zKcKaFz3SfxE/view?usp=sharing"
   ]
  },
  {
   "cell_type": "markdown",
   "metadata": {},
   "source": [
    "<a id='data'></a>\n",
    "## Описание данных\n",
    "\n",
    "Датасет описывает транзакции интернет-магазина товаров для дома и быта «Пока все ещё тут».\n",
    "Колонки в  *ecommerce_dataset.csv* :\n",
    "- `date` — дата заказа;\n",
    "- `customer_id` — идентификатор покупателя;\n",
    "- `order_id` — идентификатор заказа;\n",
    "- `product` — наименование товара;\n",
    "- `quantity` — количество товара в заказе;\n",
    "- `price` — цена товара."
   ]
  },
  {
   "cell_type": "code",
   "execution_count": 1,
   "metadata": {},
   "outputs": [],
   "source": [
    "# настраиваем окружение\n",
    "import pandas as pd\n",
    "import matplotlib.pyplot as plt\n",
    "import warnings\n",
    "import numpy as np\n",
    "from scipy import stats as st\n",
    "from math import ceil\n",
    "import math as mth\n",
    "from collections import Counter\n",
    "import re\n",
    "from plotly import graph_objects as go\n",
    "import seaborn as sns\n",
    "\n",
    "from scipy.cluster.hierarchy import dendrogram, linkage\n",
    "from sklearn.cluster import KMeans\n",
    "from sklearn.preprocessing import StandardScaler\n",
    "\n",
    "pd.set_option('display.max_columns', None)\n",
    "pd.set_option('display.max_rows', None)\n",
    "warnings.filterwarnings('ignore')"
   ]
  },
  {
   "cell_type": "markdown",
   "metadata": {},
   "source": [
    "<a id='preparation'></a>\n",
    "### 1. Предобработка данных"
   ]
  },
  {
   "cell_type": "code",
   "execution_count": 2,
   "metadata": {},
   "outputs": [
    {
     "name": "stdout",
     "output_type": "stream",
     "text": [
      "<class 'pandas.core.frame.DataFrame'>\n",
      "RangeIndex: 6737 entries, 0 to 6736\n",
      "Data columns (total 6 columns):\n",
      "date           6737 non-null int64\n",
      "customer_id    6737 non-null object\n",
      "order_id       6737 non-null int64\n",
      "product        6737 non-null object\n",
      "quantity       6737 non-null int64\n",
      "price          6737 non-null float64\n",
      "dtypes: float64(1), int64(3), object(2)\n",
      "memory usage: 315.9+ KB\n"
     ]
    }
   ],
   "source": [
    "orders = pd.read_csv('https://code.s3.yandex.net/datasets/ecommerce_dataset.csv')\n",
    " \n",
    "orders.info()"
   ]
  },
  {
   "cell_type": "code",
   "execution_count": 3,
   "metadata": {},
   "outputs": [
    {
     "data": {
      "text/html": [
       "<div>\n",
       "<style scoped>\n",
       "    .dataframe tbody tr th:only-of-type {\n",
       "        vertical-align: middle;\n",
       "    }\n",
       "\n",
       "    .dataframe tbody tr th {\n",
       "        vertical-align: top;\n",
       "    }\n",
       "\n",
       "    .dataframe thead th {\n",
       "        text-align: right;\n",
       "    }\n",
       "</style>\n",
       "<table border=\"1\" class=\"dataframe\">\n",
       "  <thead>\n",
       "    <tr style=\"text-align: right;\">\n",
       "      <th></th>\n",
       "      <th>date</th>\n",
       "      <th>customer_id</th>\n",
       "      <th>order_id</th>\n",
       "      <th>product</th>\n",
       "      <th>quantity</th>\n",
       "      <th>price</th>\n",
       "    </tr>\n",
       "  </thead>\n",
       "  <tbody>\n",
       "    <tr>\n",
       "      <td>0</td>\n",
       "      <td>2018100100</td>\n",
       "      <td>ee47d746-6d2f-4d3c-9622-c31412542920</td>\n",
       "      <td>68477</td>\n",
       "      <td>Комнатное растение в горшке Алое Вера, d12, h30</td>\n",
       "      <td>1</td>\n",
       "      <td>142.0</td>\n",
       "    </tr>\n",
       "    <tr>\n",
       "      <td>1</td>\n",
       "      <td>2018100100</td>\n",
       "      <td>ee47d746-6d2f-4d3c-9622-c31412542920</td>\n",
       "      <td>68477</td>\n",
       "      <td>Комнатное растение в горшке Кофе Арабика, d12,...</td>\n",
       "      <td>1</td>\n",
       "      <td>194.0</td>\n",
       "    </tr>\n",
       "    <tr>\n",
       "      <td>2</td>\n",
       "      <td>2018100100</td>\n",
       "      <td>ee47d746-6d2f-4d3c-9622-c31412542920</td>\n",
       "      <td>68477</td>\n",
       "      <td>Радермахера d-12 см h-20 см</td>\n",
       "      <td>1</td>\n",
       "      <td>112.0</td>\n",
       "    </tr>\n",
       "    <tr>\n",
       "      <td>3</td>\n",
       "      <td>2018100100</td>\n",
       "      <td>ee47d746-6d2f-4d3c-9622-c31412542920</td>\n",
       "      <td>68477</td>\n",
       "      <td>Хризолидокарпус Лутесценс d-9 см</td>\n",
       "      <td>1</td>\n",
       "      <td>179.0</td>\n",
       "    </tr>\n",
       "    <tr>\n",
       "      <td>4</td>\n",
       "      <td>2018100100</td>\n",
       "      <td>ee47d746-6d2f-4d3c-9622-c31412542920</td>\n",
       "      <td>68477</td>\n",
       "      <td>Циперус Зумула d-12 см h-25 см</td>\n",
       "      <td>1</td>\n",
       "      <td>112.0</td>\n",
       "    </tr>\n",
       "  </tbody>\n",
       "</table>\n",
       "</div>"
      ],
      "text/plain": [
       "         date                           customer_id  order_id  \\\n",
       "0  2018100100  ee47d746-6d2f-4d3c-9622-c31412542920     68477   \n",
       "1  2018100100  ee47d746-6d2f-4d3c-9622-c31412542920     68477   \n",
       "2  2018100100  ee47d746-6d2f-4d3c-9622-c31412542920     68477   \n",
       "3  2018100100  ee47d746-6d2f-4d3c-9622-c31412542920     68477   \n",
       "4  2018100100  ee47d746-6d2f-4d3c-9622-c31412542920     68477   \n",
       "\n",
       "                                             product  quantity  price  \n",
       "0    Комнатное растение в горшке Алое Вера, d12, h30         1  142.0  \n",
       "1  Комнатное растение в горшке Кофе Арабика, d12,...         1  194.0  \n",
       "2                        Радермахера d-12 см h-20 см         1  112.0  \n",
       "3                   Хризолидокарпус Лутесценс d-9 см         1  179.0  \n",
       "4                     Циперус Зумула d-12 см h-25 см         1  112.0  "
      ]
     },
     "execution_count": 3,
     "metadata": {},
     "output_type": "execute_result"
    }
   ],
   "source": [
    "orders.head()"
   ]
  },
  {
   "cell_type": "markdown",
   "metadata": {},
   "source": [
    "В датасете 6737 записей, пропусков нет, названия колонок корректные"
   ]
  },
  {
   "cell_type": "code",
   "execution_count": 4,
   "metadata": {},
   "outputs": [
    {
     "name": "stdout",
     "output_type": "stream",
     "text": [
      "<class 'pandas.core.frame.DataFrame'>\n",
      "RangeIndex: 6737 entries, 0 to 6736\n",
      "Data columns (total 7 columns):\n",
      "date           6737 non-null datetime64[ns]\n",
      "customer_id    6737 non-null object\n",
      "order_id       6737 non-null int64\n",
      "product        6737 non-null object\n",
      "quantity       6737 non-null int64\n",
      "price          6737 non-null float64\n",
      "month          6737 non-null datetime64[ns]\n",
      "dtypes: datetime64[ns](2), float64(1), int64(2), object(2)\n",
      "memory usage: 368.6+ KB\n"
     ]
    }
   ],
   "source": [
    "orders['month'] = pd.to_datetime(orders['date'], format='%Y%m', exact=False)\n",
    "orders['date'] = pd.to_datetime(orders['date'], format='%Y%m%d', exact=False)\n",
    "orders.info()"
   ]
  },
  {
   "cell_type": "code",
   "execution_count": 5,
   "metadata": {},
   "outputs": [
    {
     "data": {
      "text/html": [
       "<div>\n",
       "<style scoped>\n",
       "    .dataframe tbody tr th:only-of-type {\n",
       "        vertical-align: middle;\n",
       "    }\n",
       "\n",
       "    .dataframe tbody tr th {\n",
       "        vertical-align: top;\n",
       "    }\n",
       "\n",
       "    .dataframe thead th {\n",
       "        text-align: right;\n",
       "    }\n",
       "</style>\n",
       "<table border=\"1\" class=\"dataframe\">\n",
       "  <thead>\n",
       "    <tr style=\"text-align: right;\">\n",
       "      <th></th>\n",
       "      <th>date</th>\n",
       "      <th>customer_id</th>\n",
       "      <th>order_id</th>\n",
       "      <th>product</th>\n",
       "      <th>quantity</th>\n",
       "      <th>price</th>\n",
       "      <th>month</th>\n",
       "    </tr>\n",
       "  </thead>\n",
       "  <tbody>\n",
       "    <tr>\n",
       "      <td>0</td>\n",
       "      <td>2018-10-01</td>\n",
       "      <td>ee47d746-6d2f-4d3c-9622-c31412542920</td>\n",
       "      <td>68477</td>\n",
       "      <td>Комнатное растение в горшке Алое Вера, d12, h30</td>\n",
       "      <td>1</td>\n",
       "      <td>142.0</td>\n",
       "      <td>2018-10-01</td>\n",
       "    </tr>\n",
       "    <tr>\n",
       "      <td>1</td>\n",
       "      <td>2018-10-01</td>\n",
       "      <td>ee47d746-6d2f-4d3c-9622-c31412542920</td>\n",
       "      <td>68477</td>\n",
       "      <td>Комнатное растение в горшке Кофе Арабика, d12,...</td>\n",
       "      <td>1</td>\n",
       "      <td>194.0</td>\n",
       "      <td>2018-10-01</td>\n",
       "    </tr>\n",
       "    <tr>\n",
       "      <td>2</td>\n",
       "      <td>2018-10-01</td>\n",
       "      <td>ee47d746-6d2f-4d3c-9622-c31412542920</td>\n",
       "      <td>68477</td>\n",
       "      <td>Радермахера d-12 см h-20 см</td>\n",
       "      <td>1</td>\n",
       "      <td>112.0</td>\n",
       "      <td>2018-10-01</td>\n",
       "    </tr>\n",
       "    <tr>\n",
       "      <td>3</td>\n",
       "      <td>2018-10-01</td>\n",
       "      <td>ee47d746-6d2f-4d3c-9622-c31412542920</td>\n",
       "      <td>68477</td>\n",
       "      <td>Хризолидокарпус Лутесценс d-9 см</td>\n",
       "      <td>1</td>\n",
       "      <td>179.0</td>\n",
       "      <td>2018-10-01</td>\n",
       "    </tr>\n",
       "    <tr>\n",
       "      <td>4</td>\n",
       "      <td>2018-10-01</td>\n",
       "      <td>ee47d746-6d2f-4d3c-9622-c31412542920</td>\n",
       "      <td>68477</td>\n",
       "      <td>Циперус Зумула d-12 см h-25 см</td>\n",
       "      <td>1</td>\n",
       "      <td>112.0</td>\n",
       "      <td>2018-10-01</td>\n",
       "    </tr>\n",
       "  </tbody>\n",
       "</table>\n",
       "</div>"
      ],
      "text/plain": [
       "        date                           customer_id  order_id  \\\n",
       "0 2018-10-01  ee47d746-6d2f-4d3c-9622-c31412542920     68477   \n",
       "1 2018-10-01  ee47d746-6d2f-4d3c-9622-c31412542920     68477   \n",
       "2 2018-10-01  ee47d746-6d2f-4d3c-9622-c31412542920     68477   \n",
       "3 2018-10-01  ee47d746-6d2f-4d3c-9622-c31412542920     68477   \n",
       "4 2018-10-01  ee47d746-6d2f-4d3c-9622-c31412542920     68477   \n",
       "\n",
       "                                             product  quantity  price  \\\n",
       "0    Комнатное растение в горшке Алое Вера, d12, h30         1  142.0   \n",
       "1  Комнатное растение в горшке Кофе Арабика, d12,...         1  194.0   \n",
       "2                        Радермахера d-12 см h-20 см         1  112.0   \n",
       "3                   Хризолидокарпус Лутесценс d-9 см         1  179.0   \n",
       "4                     Циперус Зумула d-12 см h-25 см         1  112.0   \n",
       "\n",
       "       month  \n",
       "0 2018-10-01  \n",
       "1 2018-10-01  \n",
       "2 2018-10-01  \n",
       "3 2018-10-01  \n",
       "4 2018-10-01  "
      ]
     },
     "execution_count": 5,
     "metadata": {},
     "output_type": "execute_result"
    }
   ],
   "source": [
    "orders.head()"
   ]
  },
  {
   "cell_type": "code",
   "execution_count": 6,
   "metadata": {},
   "outputs": [
    {
     "data": {
      "text/plain": [
       "date           1886\n",
       "customer_id    1886\n",
       "order_id       1886\n",
       "product        1886\n",
       "quantity       1886\n",
       "price          1886\n",
       "month          1886\n",
       "dtype: int64"
      ]
     },
     "execution_count": 6,
     "metadata": {},
     "output_type": "execute_result"
    }
   ],
   "source": [
    "# дубликаты товаров в одном заказе одного покупателя\n",
    "orders[orders.duplicated(subset=['customer_id', 'order_id', 'product'])].count()"
   ]
  },
  {
   "cell_type": "code",
   "execution_count": 7,
   "metadata": {},
   "outputs": [
    {
     "data": {
      "text/html": [
       "<div>\n",
       "<style scoped>\n",
       "    .dataframe tbody tr th:only-of-type {\n",
       "        vertical-align: middle;\n",
       "    }\n",
       "\n",
       "    .dataframe tbody tr th {\n",
       "        vertical-align: top;\n",
       "    }\n",
       "\n",
       "    .dataframe thead th {\n",
       "        text-align: right;\n",
       "    }\n",
       "</style>\n",
       "<table border=\"1\" class=\"dataframe\">\n",
       "  <thead>\n",
       "    <tr style=\"text-align: right;\">\n",
       "      <th></th>\n",
       "      <th>date</th>\n",
       "      <th>customer_id</th>\n",
       "      <th>order_id</th>\n",
       "      <th>product</th>\n",
       "      <th>quantity</th>\n",
       "      <th>price</th>\n",
       "      <th>month</th>\n",
       "    </tr>\n",
       "  </thead>\n",
       "  <tbody>\n",
       "    <tr>\n",
       "      <td>376</td>\n",
       "      <td>2018-10-23</td>\n",
       "      <td>b80e4826-7218-4bf9-ac08-eb2c81ab3f62</td>\n",
       "      <td>13547</td>\n",
       "      <td>Рассада зелени для кухни Лаванды в кассете по ...</td>\n",
       "      <td>1</td>\n",
       "      <td>315.0</td>\n",
       "      <td>2018-10-01</td>\n",
       "    </tr>\n",
       "    <tr>\n",
       "      <td>509</td>\n",
       "      <td>2018-10-28</td>\n",
       "      <td>b80e4826-7218-4bf9-ac08-eb2c81ab3f62</td>\n",
       "      <td>13547</td>\n",
       "      <td>Рассада зелени для кухни Лаванды в кассете по ...</td>\n",
       "      <td>1</td>\n",
       "      <td>315.0</td>\n",
       "      <td>2018-10-01</td>\n",
       "    </tr>\n",
       "    <tr>\n",
       "      <td>588</td>\n",
       "      <td>2018-11-02</td>\n",
       "      <td>b80e4826-7218-4bf9-ac08-eb2c81ab3f62</td>\n",
       "      <td>13547</td>\n",
       "      <td>Рассада зелени для кухни Лаванды в кассете по ...</td>\n",
       "      <td>1</td>\n",
       "      <td>315.0</td>\n",
       "      <td>2018-11-01</td>\n",
       "    </tr>\n",
       "    <tr>\n",
       "      <td>758</td>\n",
       "      <td>2018-11-10</td>\n",
       "      <td>b80e4826-7218-4bf9-ac08-eb2c81ab3f62</td>\n",
       "      <td>13547</td>\n",
       "      <td>Рассада зелени для кухни Лаванды в кассете по ...</td>\n",
       "      <td>1</td>\n",
       "      <td>315.0</td>\n",
       "      <td>2018-11-01</td>\n",
       "    </tr>\n",
       "    <tr>\n",
       "      <td>816</td>\n",
       "      <td>2018-11-15</td>\n",
       "      <td>b80e4826-7218-4bf9-ac08-eb2c81ab3f62</td>\n",
       "      <td>13547</td>\n",
       "      <td>Рассада зелени для кухни Лаванды в кассете по ...</td>\n",
       "      <td>1</td>\n",
       "      <td>315.0</td>\n",
       "      <td>2018-11-01</td>\n",
       "    </tr>\n",
       "    <tr>\n",
       "      <td>827</td>\n",
       "      <td>2018-11-16</td>\n",
       "      <td>b80e4826-7218-4bf9-ac08-eb2c81ab3f62</td>\n",
       "      <td>13547</td>\n",
       "      <td>Рассада зелени для кухни Лаванды в кассете по ...</td>\n",
       "      <td>1</td>\n",
       "      <td>315.0</td>\n",
       "      <td>2018-11-01</td>\n",
       "    </tr>\n",
       "    <tr>\n",
       "      <td>377</td>\n",
       "      <td>2018-10-23</td>\n",
       "      <td>b80e4826-7218-4bf9-ac08-eb2c81ab3f62</td>\n",
       "      <td>13547</td>\n",
       "      <td>Рассада зелени для кухни Розмарина в кассете п...</td>\n",
       "      <td>1</td>\n",
       "      <td>207.0</td>\n",
       "      <td>2018-10-01</td>\n",
       "    </tr>\n",
       "    <tr>\n",
       "      <td>510</td>\n",
       "      <td>2018-10-28</td>\n",
       "      <td>b80e4826-7218-4bf9-ac08-eb2c81ab3f62</td>\n",
       "      <td>13547</td>\n",
       "      <td>Рассада зелени для кухни Розмарина в кассете п...</td>\n",
       "      <td>1</td>\n",
       "      <td>207.0</td>\n",
       "      <td>2018-10-01</td>\n",
       "    </tr>\n",
       "    <tr>\n",
       "      <td>589</td>\n",
       "      <td>2018-11-02</td>\n",
       "      <td>b80e4826-7218-4bf9-ac08-eb2c81ab3f62</td>\n",
       "      <td>13547</td>\n",
       "      <td>Рассада зелени для кухни Розмарина в кассете п...</td>\n",
       "      <td>1</td>\n",
       "      <td>207.0</td>\n",
       "      <td>2018-11-01</td>\n",
       "    </tr>\n",
       "    <tr>\n",
       "      <td>759</td>\n",
       "      <td>2018-11-10</td>\n",
       "      <td>b80e4826-7218-4bf9-ac08-eb2c81ab3f62</td>\n",
       "      <td>13547</td>\n",
       "      <td>Рассада зелени для кухни Розмарина в кассете п...</td>\n",
       "      <td>1</td>\n",
       "      <td>207.0</td>\n",
       "      <td>2018-11-01</td>\n",
       "    </tr>\n",
       "    <tr>\n",
       "      <td>817</td>\n",
       "      <td>2018-11-15</td>\n",
       "      <td>b80e4826-7218-4bf9-ac08-eb2c81ab3f62</td>\n",
       "      <td>13547</td>\n",
       "      <td>Рассада зелени для кухни Розмарина в кассете п...</td>\n",
       "      <td>1</td>\n",
       "      <td>207.0</td>\n",
       "      <td>2018-11-01</td>\n",
       "    </tr>\n",
       "    <tr>\n",
       "      <td>828</td>\n",
       "      <td>2018-11-16</td>\n",
       "      <td>b80e4826-7218-4bf9-ac08-eb2c81ab3f62</td>\n",
       "      <td>13547</td>\n",
       "      <td>Рассада зелени для кухни Розмарина в кассете п...</td>\n",
       "      <td>1</td>\n",
       "      <td>207.0</td>\n",
       "      <td>2018-11-01</td>\n",
       "    </tr>\n",
       "    <tr>\n",
       "      <td>378</td>\n",
       "      <td>2018-10-23</td>\n",
       "      <td>b80e4826-7218-4bf9-ac08-eb2c81ab3f62</td>\n",
       "      <td>13547</td>\n",
       "      <td>Рассада зелени для кухни Тимьяна в кассете по ...</td>\n",
       "      <td>1</td>\n",
       "      <td>162.0</td>\n",
       "      <td>2018-10-01</td>\n",
       "    </tr>\n",
       "    <tr>\n",
       "      <td>511</td>\n",
       "      <td>2018-10-28</td>\n",
       "      <td>b80e4826-7218-4bf9-ac08-eb2c81ab3f62</td>\n",
       "      <td>13547</td>\n",
       "      <td>Рассада зелени для кухни Тимьяна в кассете по ...</td>\n",
       "      <td>1</td>\n",
       "      <td>162.0</td>\n",
       "      <td>2018-10-01</td>\n",
       "    </tr>\n",
       "    <tr>\n",
       "      <td>590</td>\n",
       "      <td>2018-11-02</td>\n",
       "      <td>b80e4826-7218-4bf9-ac08-eb2c81ab3f62</td>\n",
       "      <td>13547</td>\n",
       "      <td>Рассада зелени для кухни Тимьяна в кассете по ...</td>\n",
       "      <td>1</td>\n",
       "      <td>162.0</td>\n",
       "      <td>2018-11-01</td>\n",
       "    </tr>\n",
       "    <tr>\n",
       "      <td>760</td>\n",
       "      <td>2018-11-10</td>\n",
       "      <td>b80e4826-7218-4bf9-ac08-eb2c81ab3f62</td>\n",
       "      <td>13547</td>\n",
       "      <td>Рассада зелени для кухни Тимьяна в кассете по ...</td>\n",
       "      <td>1</td>\n",
       "      <td>162.0</td>\n",
       "      <td>2018-11-01</td>\n",
       "    </tr>\n",
       "    <tr>\n",
       "      <td>818</td>\n",
       "      <td>2018-11-15</td>\n",
       "      <td>b80e4826-7218-4bf9-ac08-eb2c81ab3f62</td>\n",
       "      <td>13547</td>\n",
       "      <td>Рассада зелени для кухни Тимьяна в кассете по ...</td>\n",
       "      <td>1</td>\n",
       "      <td>162.0</td>\n",
       "      <td>2018-11-01</td>\n",
       "    </tr>\n",
       "    <tr>\n",
       "      <td>829</td>\n",
       "      <td>2018-11-16</td>\n",
       "      <td>b80e4826-7218-4bf9-ac08-eb2c81ab3f62</td>\n",
       "      <td>13547</td>\n",
       "      <td>Рассада зелени для кухни Тимьяна в кассете по ...</td>\n",
       "      <td>1</td>\n",
       "      <td>162.0</td>\n",
       "      <td>2018-11-01</td>\n",
       "    </tr>\n",
       "    <tr>\n",
       "      <td>491</td>\n",
       "      <td>2018-10-28</td>\n",
       "      <td>3ee43256-af7d-4036-90d4-eeefa1afc767</td>\n",
       "      <td>14500</td>\n",
       "      <td>Многолетнее растение Душица-орегано розовый об...</td>\n",
       "      <td>1</td>\n",
       "      <td>89.0</td>\n",
       "      <td>2018-10-01</td>\n",
       "    </tr>\n",
       "    <tr>\n",
       "      <td>543</td>\n",
       "      <td>2018-10-31</td>\n",
       "      <td>3ee43256-af7d-4036-90d4-eeefa1afc767</td>\n",
       "      <td>14500</td>\n",
       "      <td>Многолетнее растение Душица-орегано розовый об...</td>\n",
       "      <td>1</td>\n",
       "      <td>89.0</td>\n",
       "      <td>2018-10-01</td>\n",
       "    </tr>\n",
       "  </tbody>\n",
       "</table>\n",
       "</div>"
      ],
      "text/plain": [
       "          date                           customer_id  order_id  \\\n",
       "376 2018-10-23  b80e4826-7218-4bf9-ac08-eb2c81ab3f62     13547   \n",
       "509 2018-10-28  b80e4826-7218-4bf9-ac08-eb2c81ab3f62     13547   \n",
       "588 2018-11-02  b80e4826-7218-4bf9-ac08-eb2c81ab3f62     13547   \n",
       "758 2018-11-10  b80e4826-7218-4bf9-ac08-eb2c81ab3f62     13547   \n",
       "816 2018-11-15  b80e4826-7218-4bf9-ac08-eb2c81ab3f62     13547   \n",
       "827 2018-11-16  b80e4826-7218-4bf9-ac08-eb2c81ab3f62     13547   \n",
       "377 2018-10-23  b80e4826-7218-4bf9-ac08-eb2c81ab3f62     13547   \n",
       "510 2018-10-28  b80e4826-7218-4bf9-ac08-eb2c81ab3f62     13547   \n",
       "589 2018-11-02  b80e4826-7218-4bf9-ac08-eb2c81ab3f62     13547   \n",
       "759 2018-11-10  b80e4826-7218-4bf9-ac08-eb2c81ab3f62     13547   \n",
       "817 2018-11-15  b80e4826-7218-4bf9-ac08-eb2c81ab3f62     13547   \n",
       "828 2018-11-16  b80e4826-7218-4bf9-ac08-eb2c81ab3f62     13547   \n",
       "378 2018-10-23  b80e4826-7218-4bf9-ac08-eb2c81ab3f62     13547   \n",
       "511 2018-10-28  b80e4826-7218-4bf9-ac08-eb2c81ab3f62     13547   \n",
       "590 2018-11-02  b80e4826-7218-4bf9-ac08-eb2c81ab3f62     13547   \n",
       "760 2018-11-10  b80e4826-7218-4bf9-ac08-eb2c81ab3f62     13547   \n",
       "818 2018-11-15  b80e4826-7218-4bf9-ac08-eb2c81ab3f62     13547   \n",
       "829 2018-11-16  b80e4826-7218-4bf9-ac08-eb2c81ab3f62     13547   \n",
       "491 2018-10-28  3ee43256-af7d-4036-90d4-eeefa1afc767     14500   \n",
       "543 2018-10-31  3ee43256-af7d-4036-90d4-eeefa1afc767     14500   \n",
       "\n",
       "                                               product  quantity  price  \\\n",
       "376  Рассада зелени для кухни Лаванды в кассете по ...         1  315.0   \n",
       "509  Рассада зелени для кухни Лаванды в кассете по ...         1  315.0   \n",
       "588  Рассада зелени для кухни Лаванды в кассете по ...         1  315.0   \n",
       "758  Рассада зелени для кухни Лаванды в кассете по ...         1  315.0   \n",
       "816  Рассада зелени для кухни Лаванды в кассете по ...         1  315.0   \n",
       "827  Рассада зелени для кухни Лаванды в кассете по ...         1  315.0   \n",
       "377  Рассада зелени для кухни Розмарина в кассете п...         1  207.0   \n",
       "510  Рассада зелени для кухни Розмарина в кассете п...         1  207.0   \n",
       "589  Рассада зелени для кухни Розмарина в кассете п...         1  207.0   \n",
       "759  Рассада зелени для кухни Розмарина в кассете п...         1  207.0   \n",
       "817  Рассада зелени для кухни Розмарина в кассете п...         1  207.0   \n",
       "828  Рассада зелени для кухни Розмарина в кассете п...         1  207.0   \n",
       "378  Рассада зелени для кухни Тимьяна в кассете по ...         1  162.0   \n",
       "511  Рассада зелени для кухни Тимьяна в кассете по ...         1  162.0   \n",
       "590  Рассада зелени для кухни Тимьяна в кассете по ...         1  162.0   \n",
       "760  Рассада зелени для кухни Тимьяна в кассете по ...         1  162.0   \n",
       "818  Рассада зелени для кухни Тимьяна в кассете по ...         1  162.0   \n",
       "829  Рассада зелени для кухни Тимьяна в кассете по ...         1  162.0   \n",
       "491  Многолетнее растение Душица-орегано розовый об...         1   89.0   \n",
       "543  Многолетнее растение Душица-орегано розовый об...         1   89.0   \n",
       "\n",
       "         month  \n",
       "376 2018-10-01  \n",
       "509 2018-10-01  \n",
       "588 2018-11-01  \n",
       "758 2018-11-01  \n",
       "816 2018-11-01  \n",
       "827 2018-11-01  \n",
       "377 2018-10-01  \n",
       "510 2018-10-01  \n",
       "589 2018-11-01  \n",
       "759 2018-11-01  \n",
       "817 2018-11-01  \n",
       "828 2018-11-01  \n",
       "378 2018-10-01  \n",
       "511 2018-10-01  \n",
       "590 2018-11-01  \n",
       "760 2018-11-01  \n",
       "818 2018-11-01  \n",
       "829 2018-11-01  \n",
       "491 2018-10-01  \n",
       "543 2018-10-01  "
      ]
     },
     "execution_count": 7,
     "metadata": {},
     "output_type": "execute_result"
    }
   ],
   "source": [
    "orders[orders.duplicated(subset=['customer_id', 'order_id', 'product'])].sort_values(by=['order_id', 'product']).head(20)"
   ]
  },
  {
   "cell_type": "markdown",
   "metadata": {},
   "source": [
    "В датасете есть заказы, которые повторяются по несколько раз, но с разными датами. Оставим только первые записи по задублированным заказам"
   ]
  },
  {
   "cell_type": "code",
   "execution_count": 8,
   "metadata": {},
   "outputs": [],
   "source": [
    "orders.drop_duplicates(subset=['customer_id', 'order_id', 'product'], keep='first', inplace=True)"
   ]
  },
  {
   "cell_type": "code",
   "execution_count": 9,
   "metadata": {},
   "outputs": [
    {
     "name": "stdout",
     "output_type": "stream",
     "text": [
      "<class 'pandas.core.frame.DataFrame'>\n",
      "Int64Index: 4851 entries, 0 to 6735\n",
      "Data columns (total 7 columns):\n",
      "date           4851 non-null datetime64[ns]\n",
      "customer_id    4851 non-null object\n",
      "order_id       4851 non-null int64\n",
      "product        4851 non-null object\n",
      "quantity       4851 non-null int64\n",
      "price          4851 non-null float64\n",
      "month          4851 non-null datetime64[ns]\n",
      "dtypes: datetime64[ns](2), float64(1), int64(2), object(2)\n",
      "memory usage: 303.2+ KB\n"
     ]
    }
   ],
   "source": [
    "orders.info()"
   ]
  },
  {
   "cell_type": "code",
   "execution_count": 10,
   "metadata": {},
   "outputs": [
    {
     "data": {
      "text/html": [
       "<div>\n",
       "<style scoped>\n",
       "    .dataframe tbody tr th:only-of-type {\n",
       "        vertical-align: middle;\n",
       "    }\n",
       "\n",
       "    .dataframe tbody tr th {\n",
       "        vertical-align: top;\n",
       "    }\n",
       "\n",
       "    .dataframe thead th {\n",
       "        text-align: right;\n",
       "    }\n",
       "</style>\n",
       "<table border=\"1\" class=\"dataframe\">\n",
       "  <thead>\n",
       "    <tr style=\"text-align: right;\">\n",
       "      <th></th>\n",
       "      <th>date</th>\n",
       "      <th>customer_id</th>\n",
       "      <th>order_id</th>\n",
       "      <th>product</th>\n",
       "      <th>quantity</th>\n",
       "      <th>price</th>\n",
       "      <th>month</th>\n",
       "    </tr>\n",
       "  </thead>\n",
       "  <tbody>\n",
       "  </tbody>\n",
       "</table>\n",
       "</div>"
      ],
      "text/plain": [
       "Empty DataFrame\n",
       "Columns: [date, customer_id, order_id, product, quantity, price, month]\n",
       "Index: []"
      ]
     },
     "execution_count": 10,
     "metadata": {},
     "output_type": "execute_result"
    }
   ],
   "source": [
    "orders[orders.duplicated()]"
   ]
  },
  {
   "cell_type": "markdown",
   "metadata": {},
   "source": [
    "Удалены задублированные записи по заказам"
   ]
  },
  {
   "cell_type": "markdown",
   "metadata": {},
   "source": [
    "__Проверим наличие некорректных данных искажающих общую картину - выбросов__  \n",
    "- заказы с очень большой или, наоборот, очень маленькой общей стоимостью\n",
    "- заказы с большим числом товаров\n",
    "- пользователи с большим числом заказов"
   ]
  },
  {
   "cell_type": "code",
   "execution_count": 11,
   "metadata": {},
   "outputs": [],
   "source": [
    "# общая стоимость одной позиции заказа\n",
    "orders['amount'] = orders['price'] * orders['quantity']"
   ]
  },
  {
   "cell_type": "code",
   "execution_count": 12,
   "metadata": {},
   "outputs": [],
   "source": [
    "def describe_orders():\n",
    "    df = orders.groupby('order_id').agg({'amount': 'sum', 'quantity': 'sum', 'customer_id': 'count'})\n",
    "    df.columns = ['price_total', 'items_count', 'goods_count']\n",
    "    print(df.describe())\n",
    "    \n",
    "    return df"
   ]
  },
  {
   "cell_type": "code",
   "execution_count": 13,
   "metadata": {},
   "outputs": [
    {
     "name": "stdout",
     "output_type": "stream",
     "text": [
      "         price_total  items_count  goods_count\n",
      "count    2784.000000  2784.000000  2784.000000\n",
      "mean     1483.696480     4.937500     1.742457\n",
      "std     12964.143331    24.061733     2.796766\n",
      "min        14.000000     1.000000     1.000000\n",
      "25%       289.750000     1.000000     1.000000\n",
      "50%       689.000000     1.000000     1.000000\n",
      "75%      1473.500000     3.000000     1.000000\n",
      "max    675000.000000  1000.000000    51.000000\n"
     ]
    }
   ],
   "source": [
    "df = describe_orders()"
   ]
  },
  {
   "cell_type": "markdown",
   "metadata": {},
   "source": [
    "Всего у нас данные по 2784 заказам. \n",
    "Средний чек - примерно 1500 руб, в большенстве заказов только одна позиция и менее 3 единиц товара.\n",
    "\n",
    "Удалим заказы, в которых более 30 единиц товара. Таких заказов единицы, они не вписываются в общую картину и искажают метрики.\n",
    "Порог в 30 единиц выбран экспертно. Можно, конечно, построить box_plot, но и так очевидно, что он покажет. Отбрасывать заказы с 4 и больше товаров считаю неправильно, т.к. в выборке много растений и рассады, а в этом сегменте заказы в десятки позиций вполне нормальное явления. Поэтому порог выбран экспертно."
   ]
  },
  {
   "cell_type": "code",
   "execution_count": 14,
   "metadata": {},
   "outputs": [
    {
     "name": "stdout",
     "output_type": "stream",
     "text": [
      "        price_total  items_count  goods_count\n",
      "count   2733.000000  2733.000000  2733.000000\n",
      "mean    1142.262715     3.140871     1.669228\n",
      "std     1735.795400     4.903489     2.371514\n",
      "min       14.000000     1.000000     1.000000\n",
      "25%      277.000000     1.000000     1.000000\n",
      "50%      674.000000     1.000000     1.000000\n",
      "75%     1408.000000     3.000000     1.000000\n",
      "max    47385.000000    30.000000    30.000000\n"
     ]
    }
   ],
   "source": [
    "df = df.query('items_count > 30').reset_index()\n",
    "\n",
    "orders = orders[~orders['order_id'].isin(df['order_id'])]\n",
    "df = describe_orders()"
   ]
  },
  {
   "cell_type": "code",
   "execution_count": 15,
   "metadata": {},
   "outputs": [
    {
     "data": {
      "text/html": [
       "<div>\n",
       "<style scoped>\n",
       "    .dataframe tbody tr th:only-of-type {\n",
       "        vertical-align: middle;\n",
       "    }\n",
       "\n",
       "    .dataframe tbody tr th {\n",
       "        vertical-align: top;\n",
       "    }\n",
       "\n",
       "    .dataframe thead th {\n",
       "        text-align: right;\n",
       "    }\n",
       "</style>\n",
       "<table border=\"1\" class=\"dataframe\">\n",
       "  <thead>\n",
       "    <tr style=\"text-align: right;\">\n",
       "      <th></th>\n",
       "      <th>orders_count</th>\n",
       "    </tr>\n",
       "  </thead>\n",
       "  <tbody>\n",
       "    <tr>\n",
       "      <td>count</td>\n",
       "      <td>2403.000000</td>\n",
       "    </tr>\n",
       "    <tr>\n",
       "      <td>mean</td>\n",
       "      <td>1.149397</td>\n",
       "    </tr>\n",
       "    <tr>\n",
       "      <td>std</td>\n",
       "      <td>2.650889</td>\n",
       "    </tr>\n",
       "    <tr>\n",
       "      <td>min</td>\n",
       "      <td>1.000000</td>\n",
       "    </tr>\n",
       "    <tr>\n",
       "      <td>25%</td>\n",
       "      <td>1.000000</td>\n",
       "    </tr>\n",
       "    <tr>\n",
       "      <td>50%</td>\n",
       "      <td>1.000000</td>\n",
       "    </tr>\n",
       "    <tr>\n",
       "      <td>75%</td>\n",
       "      <td>1.000000</td>\n",
       "    </tr>\n",
       "    <tr>\n",
       "      <td>max</td>\n",
       "      <td>125.000000</td>\n",
       "    </tr>\n",
       "  </tbody>\n",
       "</table>\n",
       "</div>"
      ],
      "text/plain": [
       "       orders_count\n",
       "count   2403.000000\n",
       "mean       1.149397\n",
       "std        2.650889\n",
       "min        1.000000\n",
       "25%        1.000000\n",
       "50%        1.000000\n",
       "75%        1.000000\n",
       "max      125.000000"
      ]
     },
     "execution_count": 15,
     "metadata": {},
     "output_type": "execute_result"
    }
   ],
   "source": [
    "orders_by_customer = orders.groupby('customer_id').agg({'order_id': 'nunique'}).reset_index()\n",
    "orders_by_customer.columns = ['customer_id', 'orders_count']\n",
    "orders_by_customer.describe()"
   ]
  },
  {
   "cell_type": "markdown",
   "metadata": {},
   "source": [
    "Большенство покупателей совершают только один заказ. Удалим тех, кто совершил больше 10 заказов (не думаю, что кто-то так любит этот магазин, что покупает чаще)"
   ]
  },
  {
   "cell_type": "code",
   "execution_count": 16,
   "metadata": {},
   "outputs": [],
   "source": [
    "df = orders_by_customer.query('orders_count > 10')\n",
    "orders = orders[~orders['customer_id'].isin(df['customer_id'])]"
   ]
  },
  {
   "cell_type": "code",
   "execution_count": 17,
   "metadata": {},
   "outputs": [
    {
     "name": "stdout",
     "output_type": "stream",
     "text": [
      "<class 'pandas.core.frame.DataFrame'>\n",
      "Int64Index: 4361 entries, 0 to 6734\n",
      "Data columns (total 8 columns):\n",
      "date           4361 non-null datetime64[ns]\n",
      "customer_id    4361 non-null object\n",
      "order_id       4361 non-null int64\n",
      "product        4361 non-null object\n",
      "quantity       4361 non-null int64\n",
      "price          4361 non-null float64\n",
      "month          4361 non-null datetime64[ns]\n",
      "amount         4361 non-null float64\n",
      "dtypes: datetime64[ns](2), float64(2), int64(2), object(2)\n",
      "memory usage: 306.6+ KB\n"
     ]
    }
   ],
   "source": [
    "orders.info()"
   ]
  },
  {
   "cell_type": "markdown",
   "metadata": {},
   "source": [
    "#### Вывод\n",
    "Исходные данные проверены на наличие дубликатов, удалены выбросы, изменен тип данных колонки date. Данные корректные, можно приступать к анализу."
   ]
  },
  {
   "cell_type": "markdown",
   "metadata": {},
   "source": [
    "<a id='research'></a>\n",
    "### 2. Исследовательский анализ данных\n",
    "Провести анализ распределения для метрик, построить диаграммы:\n",
    "- число заказов на одного покупателя. Определить, характерны ли повторные покупки для покупателей.\n",
    "- распределение заказов месяцам. Определить, есть ли сезонность в продаже товаров.\n",
    "- распределение заказов по времени дня и по дням недели. Определить, есть ли пиковые часы/дни продаж.\n",
    "- число товаров в заказе.\n",
    "- распределение заказов по среднему чеку.\n",
    "- определить top10 товаров - лидеров продаж\n",
    "\n",
    "По данным о товарах в заказах сформировать список товарных категорий. Провести анализ для метрик, построить диаграммы:\n",
    "- определить, есть ли сезонность продаж с учетом категорий товаров\n",
    "- определить top10 категорий товаров - лидеров продаж по числу покупок и общей стоимости"
   ]
  },
  {
   "cell_type": "code",
   "execution_count": 18,
   "metadata": {},
   "outputs": [
    {
     "data": {
      "text/plain": [
       "<matplotlib.axes._subplots.AxesSubplot at 0x196f47ecc08>"
      ]
     },
     "execution_count": 18,
     "metadata": {},
     "output_type": "execute_result"
    },
    {
     "data": {
      "image/png": "[encoded data removed]",
      "text/plain": [
       "<Figure size 720x360 with 1 Axes>"
      ]
     },
     "metadata": {
      "needs_background": "light"
     },
     "output_type": "display_data"
    }
   ],
   "source": [
    "# число заказов на одного покупателя\n",
    "(orders.groupby('customer_id')\n",
    "    .agg({'order_id': 'nunique'})\n",
    "    .plot(kind='hist',\n",
    "          bins=30,\n",
    "          title='Число заказов на покупателя', \n",
    "          figsize=(10,5)\n",
    "         ))"
   ]
  },
  {
   "cell_type": "markdown",
   "metadata": {},
   "source": [
    "Большенство клиентов не совершают повторных покупок."
   ]
  },
  {
   "cell_type": "code",
   "execution_count": 19,
   "metadata": {},
   "outputs": [
    {
     "name": "stdout",
     "output_type": "stream",
     "text": [
      "Минимальная дата: 2018-10-01 00:00:00 \n",
      "Максимальная дата: 2019-10-31 00:00:00\n"
     ]
    }
   ],
   "source": [
    "# распределение заказов месяцам\n",
    "print('Минимальная дата:',  \n",
    "      orders['date'].min(), '\\n'\n",
    "      'Максимальная дата:', \n",
    "      orders['date'].max()\n",
    "     )"
   ]
  },
  {
   "cell_type": "code",
   "execution_count": 20,
   "metadata": {},
   "outputs": [
    {
     "data": {
      "image/png": "[encoded data removed]",
      "text/plain": [
       "<Figure size 864x360 with 1 Axes>"
      ]
     },
     "metadata": {
      "needs_background": "light"
     },
     "output_type": "display_data"
    }
   ],
   "source": [
    "orders_by_month = orders.groupby('month').agg({'order_id': 'nunique'}).reset_index()\n",
    "orders_by_month.columns = ['month', 'orders_count']\n",
    "\n",
    "fig = plt.figure(figsize=(12,5))\n",
    "\n",
    "ax = fig.add_subplot()\n",
    "ax.bar(orders_by_month['month'], orders_by_month['orders_count'])\n",
    "ax.set(title='Число заказов по месяцам')\n",
    "\n",
    "ax.set_ylabel('Число заказов')\n",
    "ax.set_xlabel('Месяц')\n",
    "plt.xticks(rotation=-45)\n",
    "plt.show()"
   ]
  },
  {
   "cell_type": "markdown",
   "metadata": {},
   "source": [
    "Выраженной сезонности в продажах нет, но сейчас анализируются общее число заказов без учета категорий товаров. Заметно увеличение продаж с февраля по апрель. Учитывая, что в данных по заказах есть много растений, то можно предположить, что сезонность есть, но в отдельных категориях товаров."
   ]
  },
  {
   "cell_type": "code",
   "execution_count": 21,
   "metadata": {},
   "outputs": [
    {
     "data": {
      "text/html": [
       "<div>\n",
       "<style scoped>\n",
       "    .dataframe tbody tr th:only-of-type {\n",
       "        vertical-align: middle;\n",
       "    }\n",
       "\n",
       "    .dataframe tbody tr th {\n",
       "        vertical-align: top;\n",
       "    }\n",
       "\n",
       "    .dataframe thead th {\n",
       "        text-align: right;\n",
       "    }\n",
       "</style>\n",
       "<table border=\"1\" class=\"dataframe\">\n",
       "  <thead>\n",
       "    <tr style=\"text-align: right;\">\n",
       "      <th></th>\n",
       "      <th>date</th>\n",
       "      <th>customer_id</th>\n",
       "      <th>order_id</th>\n",
       "      <th>product</th>\n",
       "      <th>quantity</th>\n",
       "      <th>price</th>\n",
       "      <th>month</th>\n",
       "      <th>amount</th>\n",
       "      <th>day</th>\n",
       "      <th>day_name</th>\n",
       "    </tr>\n",
       "  </thead>\n",
       "  <tbody>\n",
       "    <tr>\n",
       "      <td>0</td>\n",
       "      <td>2018-10-01</td>\n",
       "      <td>ee47d746-6d2f-4d3c-9622-c31412542920</td>\n",
       "      <td>68477</td>\n",
       "      <td>Комнатное растение в горшке Алое Вера, d12, h30</td>\n",
       "      <td>1</td>\n",
       "      <td>142.0</td>\n",
       "      <td>2018-10-01</td>\n",
       "      <td>142.0</td>\n",
       "      <td>0</td>\n",
       "      <td>Monday</td>\n",
       "    </tr>\n",
       "    <tr>\n",
       "      <td>1</td>\n",
       "      <td>2018-10-01</td>\n",
       "      <td>ee47d746-6d2f-4d3c-9622-c31412542920</td>\n",
       "      <td>68477</td>\n",
       "      <td>Комнатное растение в горшке Кофе Арабика, d12,...</td>\n",
       "      <td>1</td>\n",
       "      <td>194.0</td>\n",
       "      <td>2018-10-01</td>\n",
       "      <td>194.0</td>\n",
       "      <td>0</td>\n",
       "      <td>Monday</td>\n",
       "    </tr>\n",
       "    <tr>\n",
       "      <td>2</td>\n",
       "      <td>2018-10-01</td>\n",
       "      <td>ee47d746-6d2f-4d3c-9622-c31412542920</td>\n",
       "      <td>68477</td>\n",
       "      <td>Радермахера d-12 см h-20 см</td>\n",
       "      <td>1</td>\n",
       "      <td>112.0</td>\n",
       "      <td>2018-10-01</td>\n",
       "      <td>112.0</td>\n",
       "      <td>0</td>\n",
       "      <td>Monday</td>\n",
       "    </tr>\n",
       "    <tr>\n",
       "      <td>3</td>\n",
       "      <td>2018-10-01</td>\n",
       "      <td>ee47d746-6d2f-4d3c-9622-c31412542920</td>\n",
       "      <td>68477</td>\n",
       "      <td>Хризолидокарпус Лутесценс d-9 см</td>\n",
       "      <td>1</td>\n",
       "      <td>179.0</td>\n",
       "      <td>2018-10-01</td>\n",
       "      <td>179.0</td>\n",
       "      <td>0</td>\n",
       "      <td>Monday</td>\n",
       "    </tr>\n",
       "    <tr>\n",
       "      <td>4</td>\n",
       "      <td>2018-10-01</td>\n",
       "      <td>ee47d746-6d2f-4d3c-9622-c31412542920</td>\n",
       "      <td>68477</td>\n",
       "      <td>Циперус Зумула d-12 см h-25 см</td>\n",
       "      <td>1</td>\n",
       "      <td>112.0</td>\n",
       "      <td>2018-10-01</td>\n",
       "      <td>112.0</td>\n",
       "      <td>0</td>\n",
       "      <td>Monday</td>\n",
       "    </tr>\n",
       "  </tbody>\n",
       "</table>\n",
       "</div>"
      ],
      "text/plain": [
       "        date                           customer_id  order_id  \\\n",
       "0 2018-10-01  ee47d746-6d2f-4d3c-9622-c31412542920     68477   \n",
       "1 2018-10-01  ee47d746-6d2f-4d3c-9622-c31412542920     68477   \n",
       "2 2018-10-01  ee47d746-6d2f-4d3c-9622-c31412542920     68477   \n",
       "3 2018-10-01  ee47d746-6d2f-4d3c-9622-c31412542920     68477   \n",
       "4 2018-10-01  ee47d746-6d2f-4d3c-9622-c31412542920     68477   \n",
       "\n",
       "                                             product  quantity  price  \\\n",
       "0    Комнатное растение в горшке Алое Вера, d12, h30         1  142.0   \n",
       "1  Комнатное растение в горшке Кофе Арабика, d12,...         1  194.0   \n",
       "2                        Радермахера d-12 см h-20 см         1  112.0   \n",
       "3                   Хризолидокарпус Лутесценс d-9 см         1  179.0   \n",
       "4                     Циперус Зумула d-12 см h-25 см         1  112.0   \n",
       "\n",
       "       month  amount  day day_name  \n",
       "0 2018-10-01   142.0    0   Monday  \n",
       "1 2018-10-01   194.0    0   Monday  \n",
       "2 2018-10-01   112.0    0   Monday  \n",
       "3 2018-10-01   179.0    0   Monday  \n",
       "4 2018-10-01   112.0    0   Monday  "
      ]
     },
     "execution_count": 21,
     "metadata": {},
     "output_type": "execute_result"
    }
   ],
   "source": [
    "# распределение заказов по времени дня и по дням недели\n",
    "orders['day'] = orders['date'].dt.dayofweek\n",
    "orders['day_name'] = orders['date'].dt.day_name()\n",
    "orders.head()"
   ]
  },
  {
   "cell_type": "code",
   "execution_count": 22,
   "metadata": {},
   "outputs": [
    {
     "data": {
      "image/png": "[encoded data removed]",
      "text/plain": [
       "<Figure size 864x360 with 1 Axes>"
      ]
     },
     "metadata": {
      "needs_background": "light"
     },
     "output_type": "display_data"
    }
   ],
   "source": [
    "df = orders.groupby('day').agg({'order_id': 'nunique'}).reset_index()\n",
    "\n",
    "plt.figure(figsize=(12,5))\n",
    "plt.bar(df['day'], \n",
    "        df['order_id'], \n",
    "        tick_label=['Понедельник',\n",
    "                    'Вторник',\n",
    "                    'Среда',\n",
    "                    'Четверг',\n",
    "                    'Пятница',\n",
    "                    'Суббота',\n",
    "                    'Воскресенье']\n",
    "       )\n",
    "plt.title('Распределение заказов по дням недели', fontsize=14)\n",
    "plt.show()"
   ]
  },
  {
   "cell_type": "markdown",
   "metadata": {},
   "source": [
    "Есть небольшое сокращение заказов в пятницу - субботу, дней недели с резким ростом числа заказов также нет. Т.е. можно сделать вывод, что число заказов равномерно распределено по всем дням недели.  \n",
    "Проверить распределение заказов внутри дня нет возможности, т.к. нет данных о времени совершения заказа."
   ]
  },
  {
   "cell_type": "code",
   "execution_count": 23,
   "metadata": {},
   "outputs": [
    {
     "name": "stdout",
     "output_type": "stream",
     "text": [
      "Число заказов с одним наименованием товара:  2183 \n",
      " в % от общего числа заказов: 85.34%\n"
     ]
    }
   ],
   "source": [
    "# число товаров в заказе\n",
    "df = orders.groupby('order_id').agg({'product': 'nunique'}).reset_index()\n",
    "\n",
    "print('Число заказов с одним наименованием товара: ', \n",
    "      df.query('product == 1').shape[0], \n",
    "      '\\n', \n",
    "      'в % от общего числа заказов: {:.2%}'.format(df.query('product == 1').shape[0] / df.shape[0])\n",
    "     )"
   ]
  },
  {
   "cell_type": "code",
   "execution_count": 24,
   "metadata": {},
   "outputs": [
    {
     "data": {
      "text/plain": [
       "<matplotlib.axes._subplots.AxesSubplot at 0x196f4f4ddc8>"
      ]
     },
     "execution_count": 24,
     "metadata": {},
     "output_type": "execute_result"
    },
    {
     "data": {
      "image/png": "[encoded data removed]",
      "text/plain": [
       "<Figure size 720x360 with 1 Axes>"
      ]
     },
     "metadata": {
      "needs_background": "light"
     },
     "output_type": "display_data"
    }
   ],
   "source": [
    "df['product'].plot(kind='hist',\n",
    "          bins=20,\n",
    "          title='Число наименований товаров в заказах', \n",
    "          figsize=(10,5)\n",
    "         )"
   ]
  },
  {
   "cell_type": "markdown",
   "metadata": {},
   "source": [
    "В более 85% заказов только одно наименование товара"
   ]
  },
  {
   "cell_type": "code",
   "execution_count": 25,
   "metadata": {},
   "outputs": [
    {
     "data": {
      "text/html": [
       "<div>\n",
       "<style scoped>\n",
       "    .dataframe tbody tr th:only-of-type {\n",
       "        vertical-align: middle;\n",
       "    }\n",
       "\n",
       "    .dataframe tbody tr th {\n",
       "        vertical-align: top;\n",
       "    }\n",
       "\n",
       "    .dataframe thead th {\n",
       "        text-align: right;\n",
       "    }\n",
       "</style>\n",
       "<table border=\"1\" class=\"dataframe\">\n",
       "  <thead>\n",
       "    <tr style=\"text-align: right;\">\n",
       "      <th></th>\n",
       "      <th>order_id</th>\n",
       "      <th>amount</th>\n",
       "    </tr>\n",
       "  </thead>\n",
       "  <tbody>\n",
       "    <tr>\n",
       "      <td>count</td>\n",
       "      <td>2558.000000</td>\n",
       "      <td>2558.000000</td>\n",
       "    </tr>\n",
       "    <tr>\n",
       "      <td>mean</td>\n",
       "      <td>64366.752541</td>\n",
       "      <td>1129.915168</td>\n",
       "    </tr>\n",
       "    <tr>\n",
       "      <td>std</td>\n",
       "      <td>17980.988995</td>\n",
       "      <td>1754.557652</td>\n",
       "    </tr>\n",
       "    <tr>\n",
       "      <td>min</td>\n",
       "      <td>12624.000000</td>\n",
       "      <td>14.000000</td>\n",
       "    </tr>\n",
       "    <tr>\n",
       "      <td>25%</td>\n",
       "      <td>69173.500000</td>\n",
       "      <td>268.000000</td>\n",
       "    </tr>\n",
       "    <tr>\n",
       "      <td>50%</td>\n",
       "      <td>70573.500000</td>\n",
       "      <td>648.500000</td>\n",
       "    </tr>\n",
       "    <tr>\n",
       "      <td>75%</td>\n",
       "      <td>71906.000000</td>\n",
       "      <td>1349.000000</td>\n",
       "    </tr>\n",
       "    <tr>\n",
       "      <td>max</td>\n",
       "      <td>73162.000000</td>\n",
       "      <td>47385.000000</td>\n",
       "    </tr>\n",
       "  </tbody>\n",
       "</table>\n",
       "</div>"
      ],
      "text/plain": [
       "           order_id        amount\n",
       "count   2558.000000   2558.000000\n",
       "mean   64366.752541   1129.915168\n",
       "std    17980.988995   1754.557652\n",
       "min    12624.000000     14.000000\n",
       "25%    69173.500000    268.000000\n",
       "50%    70573.500000    648.500000\n",
       "75%    71906.000000   1349.000000\n",
       "max    73162.000000  47385.000000"
      ]
     },
     "execution_count": 25,
     "metadata": {},
     "output_type": "execute_result"
    }
   ],
   "source": [
    "# распределение заказов по среднему чеку\n",
    "df = orders.groupby('order_id').agg({'amount': 'sum'}).reset_index()\n",
    "df.describe()"
   ]
  },
  {
   "cell_type": "code",
   "execution_count": 26,
   "metadata": {},
   "outputs": [
    {
     "data": {
      "text/plain": [
       "<matplotlib.axes._subplots.AxesSubplot at 0x196f4fe2cc8>"
      ]
     },
     "execution_count": 26,
     "metadata": {},
     "output_type": "execute_result"
    },
    {
     "data": {
      "image/png": "[encoded data removed]",
      "text/plain": [
       "<Figure size 720x360 with 1 Axes>"
      ]
     },
     "metadata": {
      "needs_background": "light"
     },
     "output_type": "display_data"
    }
   ],
   "source": [
    "df['amount'].plot(kind='hist',\n",
    "          bins=20,\n",
    "          title='Средний чек', \n",
    "          figsize=(10,5)\n",
    "         )"
   ]
  },
  {
   "cell_type": "markdown",
   "metadata": {},
   "source": [
    "Большенство заказов - до 5000 рублей."
   ]
  },
  {
   "cell_type": "code",
   "execution_count": 27,
   "metadata": {},
   "outputs": [
    {
     "name": "stdout",
     "output_type": "stream",
     "text": [
      "Топ10 товаров по числу проданных единиц:\n",
      "                                                    quantity   amount\n",
      "product                                                              \n",
      "Цветок искусственный Гвоздика пластиковая одино...        96   2007.0\n",
      "Щетка-сметка 4-х рядная деревянная 300 мм (фигу...        90   5760.0\n",
      "Ёрш унитазный с деревянной ручкой , Ваир 1712012          85   4616.0\n",
      "Однолетнее растение Петуния махровая в кассете ...        80   6576.0\n",
      "Пеларгония розебудная Red Pandora укорененный ч...        80  10788.0\n",
      "Пеларгония зональная диам. 12 см красная махровая         63  10514.0\n",
      "Муляж Красное яблоко мини полиуретан d-6 см               63   1242.0\n",
      "Пеларгония розебудная Prins Nikolai укорененный...        63   8491.0\n",
      "Пеларгония зональная диам. 12 см сиреневый полу...        62  10630.0\n",
      "Тарелка суповая Luminarc ОКЕАН ЭКЛИПС 20,5 см L...        60   4680.0\n",
      "Топ10 товаров по общей выручке:\n",
      "                                                    quantity   amount\n",
      "product                                                              \n",
      "Простынь вафельная 200х180 см WELLNESS RW180-01...        30  53232.0\n",
      "Сумка-тележка 2-х колесная Gimi Argo синяя                44  47258.0\n",
      "Урна уличная \"Гео\", Hobbyka/Хоббика, 59*37,5см,...         5  24370.0\n",
      "Сумка-тележка хозяйственная Andersen Scala Shop...         4  22796.0\n",
      "Сумка-тележка хозяйственная Andersen Scala Shop...         4  18296.0\n",
      "Гладильная доска НИКА BLUES 124х46 см 5757                 7  17786.0\n",
      "Коврик придверный Attribute NATURE кокосовый 60...        54  16888.0\n",
      "Мусорный контейнер Hailo BigBin Swing 45 0845-0...         3  16536.0\n",
      "Сумка-тележка 3-х колесная Gimi Tris Floral синяя          6  16194.0\n",
      "Одеяло Wellness T142 белое темостеганое 140х205...        10  15680.0\n"
     ]
    }
   ],
   "source": [
    "# определить top10 товаров - лидеров продаж\n",
    "goods_top10 = orders.groupby('product').agg({'quantity': 'sum', 'amount': 'sum'})\n",
    "\n",
    "print('Топ10 товаров по числу проданных единиц:')\n",
    "print(goods_top10.sort_values(by='quantity', ascending=False).head(10))\n",
    "\n",
    "print('Топ10 товаров по общей выручке:')\n",
    "print(goods_top10.sort_values(by='amount', ascending=False).head(10))"
   ]
  },
  {
   "cell_type": "markdown",
   "metadata": {},
   "source": [
    "__Сформируем список товарных категорий и проведем анализ с учетов категорий товаров__  \n",
    "Классификация товаров по категориям придется делать вручную сгруппировав названия по первым словам. Лемматизацию, я думаю, не имеет смысла применять, т.к. будет еще больший список лем, которые нужно будет разбирать вручную. "
   ]
  },
  {
   "cell_type": "code",
   "execution_count": 28,
   "metadata": {},
   "outputs": [
    {
     "name": "stdout",
     "output_type": "stream",
     "text": [
      "<class 'pandas.core.frame.DataFrame'>\n",
      "Int64Index: 2149 entries, 0 to 6730\n",
      "Data columns (total 1 columns):\n",
      "product    2149 non-null object\n",
      "dtypes: object(1)\n",
      "memory usage: 33.6+ KB\n"
     ]
    }
   ],
   "source": [
    "products = orders.loc[:,['product']]\n",
    "products.drop_duplicates(inplace=True)\n",
    "products.info()"
   ]
  },
  {
   "cell_type": "markdown",
   "metadata": {},
   "source": [
    "В выборке по товарам 2149 уникальных товаров"
   ]
  },
  {
   "cell_type": "markdown",
   "metadata": {},
   "source": [
    "Списки ключевых слов для классификации товаров на категории  \n",
    "Я убрал код, которым смотрел категории товаров. В итоге все, все равно, свелось к ручному анализу списка. Смысла нет этот код оставлять тут. Автоматизированного способа выявления категорий я не придумал. Лемматизация и т.д., в итоге, также требуют ручного разбора списка ключевых слов.\n",
    "Но результат получился хороший - товары разбились на категории практически без ошибок."
   ]
  },
  {
   "cell_type": "code",
   "execution_count": 29,
   "metadata": {},
   "outputs": [],
   "source": [
    "# растения\n",
    "plants = ['Агератум', 'Адиантум', 'Азалия', 'Азалия', 'Аквилегия', 'Алиссум', 'Алоэ', 'Альбука', 'Амариллис', 'Анемона', \n",
    "          'Антуриум', 'Аптения', 'Арбуз', 'Аргирантерум', 'Артемизия', 'Аспарагус', 'Астра', 'Афеляндра', 'Бадан', 'Баклажан', \n",
    "          'Бакопа', 'Бальзамин', 'Бархатцы', 'Бегония', 'Буддлея', 'Бузульник', 'Валериана', 'Вербейник', 'Вербена', 'Вигна', \n",
    "          'Газания', 'Гайлардия', 'Гардения', 'Гвоздика', 'Георгина', 'Герань', 'Гербера', 'Гиацинт', 'Гимнокалициум', \n",
    "          'Гиностемма', 'Гипсофила', 'Глоксиния', 'Годеция', 'Горох', 'Гортензия', 'виноград', 'Декабрист', 'Дендробиум', \n",
    "          'Джункус', 'Диффенбахия', 'Драцена', 'Душица', 'Дыня', 'Ель', 'Завертка', 'Замиокулькас', 'Зверобой', 'Земляника', \n",
    "          'Змееголовник', 'Импатиенс', 'Кабачок', 'Каланхое', 'Калатея', 'Календула', 'Калибрахоа', 'Калла', 'Каллуна', \n",
    "          'Калоцефалус', 'Камнеломка', 'Кампанула', 'Капсикум', 'Капуста', 'Кипарисовик', 'Клен', 'Клубника', 'Кодонанта', \n",
    "          'Колеус', 'Колокольчик', 'Комнатное растение', 'Кореопсис', 'Космея', 'Кофе', 'Крассула', 'Лаванда', 'Лаватера', \n",
    "          'Лавр', 'Лантана', 'Лапчатка', 'Левкой', 'Лен', 'Лилейник', 'Литопс', 'Лобелия', 'Лук', 'Львиный зев', 'Любисток', \n",
    "          'Маттиола', 'Мединилла', 'Мелисса', 'Пеперомия', 'Шалфей', 'Мимоза', 'Мирт', 'Многолетнее растение', 'Молодило', \n",
    "          'Монарда', 'Морковь', 'Муррайя', 'Мускари', 'Виола', 'Крокусы', 'Мята', 'Настурция', 'Незабудка', 'Нивянник', \n",
    "          'Новогоднее дерево', 'Нолина', 'Овсянница', 'Огурец', 'Кориандр', 'Котовник', 'Однолетнее растение', 'Осина', \n",
    "          'Папоротник', 'Патиссон', 'Пахира', 'Пеларгония', 'Петрушка', 'Петуния', 'Вероника', 'Платикодон', 'Примула', \n",
    "          'Пряные травы', 'Пуансетия', 'Радермахера', 'Ранункулус', 'Роза', 'Розмарин', 'Рудбекия', 'Седум', \n",
    "          'Сельдерей', 'Синнингия', 'Смолевка', 'Соланум', 'Солидаго', 'Спатифиллум', 'Суккулент', 'Сциндапсус', 'Табак', \n",
    "          'Тимьян', 'Томат', 'Тыква', 'Тюльпан', 'Укроп', 'Фаленопсис', 'Фатсия', 'Фиалка', 'Физостегия', 'Фикус', 'Фиттония', \n",
    "          'Эхинацея', 'Флокс', 'Фуксия', 'Хамедорея', 'Хлорофитум', 'Хоста', 'Хризантема', 'Хризолидокарпус', \n",
    "          'Цветущее комнатное растение', 'Целозия', 'Цикламен', 'Цинерания', 'Циния', 'Циперус', 'Цитрофортунелла', 'Эвкалипт', \n",
    "          'Энотера', 'Цинерария', 'Цинния', 'Чабер', 'Эпипремнум', 'Эхеверия', 'Эхинокактус', 'Эшшольция', 'Юкка', 'Ясколка', \n",
    "          'томата', 'Шеффлера', 'Базилик', 'Пуансеттия', 'Подсолнечник', 'Салат']"
   ]
  },
  {
   "cell_type": "code",
   "execution_count": 30,
   "metadata": {},
   "outputs": [],
   "source": [
    "# рассада\n",
    "seedling = ['Рассада']"
   ]
  },
  {
   "cell_type": "code",
   "execution_count": 31,
   "metadata": {},
   "outputs": [],
   "source": [
    "# для кухни\n",
    "for_kitchen = ['Tepмокружка', 'Банка', 'Бидон', 'Блюдо', 'Блюдце', 'Бульонница', 'Ваза', 'Вакуумный пакет', 'Венчик', 'Вилка', \n",
    "               'Жестяная банка', 'Картофелемялка', 'Кастрюля', 'Ковш', 'Контейнер', 'Кружка', 'Кувшин', 'Ложка', 'Лопатка', \n",
    "               'Мантоварка', 'Мерный стакан', 'Миксер', 'Набор бокалов', 'Набор кружек', 'Набор ножей', 'Набор посуды', \n",
    "               'Набор стаканов', 'Набор столовых приборов', 'Набор форм', 'Набор фужеров', 'Нож', 'Ножеточка', 'Овощеварка', \n",
    "               'Овощечистка', 'Орехоколка', 'Подарочный набор', 'Подставка', 'Половник', 'Разделочная доска', 'Салфетка', \n",
    "               'Салфетница', 'Сахарница', 'Сито', 'Скалка', 'Скатерть', 'Сковорода', 'Соковарка', 'Соковыжималка', 'Сотейник', \n",
    "               'Тарелка', 'Терка', 'Термос', 'Термостакан', 'Толкушка', 'Тортница', 'Форма', 'Хлебница', 'ложка', 'Чайник', \n",
    "               'Чайный набор', 'Пресс для чеснока', 'Противень', 'Электроштопор', 'Кухонное полотенце', \n",
    "               'Набор кухонных полотенец', 'Набор махровых салфеток', 'Полотенце кухонное', 'Полотенце махровое', \n",
    "               'Полотенце прессованное', 'Нетканые салфетки','Шприц', 'Стеклянная крышка', 'Бензин', 'Доска разделочная', \n",
    "               'Пьезозажигалка', 'Масленка', 'Салатник', 'Просеиватель', 'Емкость для соуса', \n",
    "               'Рассекатель пламени на газовую плиту', 'Ополаскиватель для посудомоечных машин', 'Отделитель косточек', \n",
    "               'Крышка оцинкованная']"
   ]
  },
  {
   "cell_type": "code",
   "execution_count": 32,
   "metadata": {},
   "outputs": [],
   "source": [
    "# для уборки\n",
    "for_cleaning = ['Антижир', 'Антинакипин', 'Бальзам для мытья', 'Вантуз', 'Веник', 'Губка', 'мыло', 'Концентрат для мытья', \n",
    "                'Мешок для деликатной', 'Насадка','Окномойка', 'Отжим', 'Перчатки', 'Ролик для чистки', 'Скребок', \n",
    "                'Средство', 'Стиральный', 'Тряпка для кафеля', 'Чистящий', 'Швабра', 'Щетка', 'Окномойка', 'Паста для полировки', \n",
    "                'Сметка', 'Совок', 'швабра и ведро', 'Ведро', ' концентрированный гель', 'Тряпкодержатель', 'Ёрш', 'Ерш', \n",
    "                'Отбеливатель']"
   ]
  },
  {
   "cell_type": "code",
   "execution_count": 33,
   "metadata": {},
   "outputs": [],
   "source": [
    "# средства хранения\n",
    "for_storage = ['Емкость', 'Корзина', 'Корзинка', 'Коробка', 'Корыто', 'Котел', 'Кофр', 'Лоток', 'Миска', 'Таз', 'Ящик', \n",
    "               'коробка', 'Урна', 'Декоративная коробка', 'Бак для']"
   ]
  },
  {
   "cell_type": "code",
   "execution_count": 34,
   "metadata": {},
   "outputs": [],
   "source": [
    "# для дома\n",
    "for_home = ['Весы', 'Вешалка', 'Вкладыши', 'Гладильная', 'Ключница', 'Ковер', 'Коврик', 'Ковёр', 'Комод', 'Комплект махровых', \n",
    "            'Набор вешалок ', 'Набор ковров', 'сушилка', 'гладильная доска', 'Обувница', 'Плед', 'Плечики', 'кашпо', \n",
    "            'Подрукавник', 'Полк', 'Пылесос', 'Рукав', 'Сетка', 'пуф', 'Стеллаж', 'Сушилка', 'Термометр', 'Ткань', 'Утюг', \n",
    "            'Фоторамка', 'Чехол', 'Штора текстильная', 'Этажерка', 'Покрытие для гладильной', 'Сиденье для гладильной', \n",
    "            'Скребок для окон', 'Вешалки мягкие', ' гладильн', 'Подставка для обуви']"
   ]
  },
  {
   "cell_type": "code",
   "execution_count": 35,
   "metadata": {},
   "outputs": [],
   "source": [
    "# искусственные растения\n",
    "plants_dummy = ['Искусственн', 'Муляж', 'Декоративная']"
   ]
  },
  {
   "cell_type": "code",
   "execution_count": 36,
   "metadata": {},
   "outputs": [],
   "source": [
    "# для ванной\n",
    "for_bathroom = ['Ванна', 'Дозатор', 'соль', 'Зубная', 'Карниз', 'Кольца для штор', 'Комплект для ванной', 'Комплект для мытья', \n",
    "                'Махровое полотенц', 'полотенце мохровое' 'Мыльница', 'Основание для пробки', 'Пена', 'Подголовник', \n",
    "                'Пробка для ванны', 'Сиденье в ванну', 'Стакан', 'Увлажняющая маска', 'Штанга для ванной', 'Штора для ванной', \n",
    "                'Фен', 'Штора со встроенными','Махровый халат','Мыльница', 'Держатель для туалетной бумаги']"
   ]
  },
  {
   "cell_type": "code",
   "execution_count": 37,
   "metadata": {},
   "outputs": [],
   "source": [
    "bags = ['сумка', 'тележ', 'Сумка для тележки']"
   ]
  },
  {
   "cell_type": "code",
   "execution_count": 38,
   "metadata": {},
   "outputs": [],
   "source": [
    "# для спальни\n",
    "for_bedroom = ['Наволочка', 'Наматрацник', 'Одеяло', 'Пододеяльник', 'Подушка', 'Покрывало', 'Простын']"
   ]
  },
  {
   "cell_type": "code",
   "execution_count": 39,
   "metadata": {},
   "outputs": [],
   "source": [
    "# для ремонта\n",
    "for_repair = ['Крепеж', 'Крючок', 'Лестница', 'Линейка', 'Набор инструментов', 'напильник', 'сверел', 'Петля', 'Сверло', \n",
    "              'Стремянк', 'Стяжка', 'Уголок', 'Фал капроновый', 'Фиксатор',  'сварка', 'Шило', 'Шнур', 'Штангенциркуль', \n",
    "              'Решетка вентиляционная', 'угольник', 'Шпагат полипропиленовый', 'Мешок для строительного мусора', \n",
    "              'Лестница-стремянка']"
   ]
  },
  {
   "cell_type": "code",
   "execution_count": 40,
   "metadata": {},
   "outputs": [],
   "source": [
    "def define_category(ls, category):\n",
    "    # список превращаем в строку чтобы использовать поиск по regexp\n",
    "    words = [element.lower() for element in ls]\n",
    "    words = '|'.join(words)\n",
    "    \n",
    "    products.loc[products['product'].str.lower().str.contains(words, regex=True), 'category'] = category"
   ]
  },
  {
   "cell_type": "code",
   "execution_count": 41,
   "metadata": {},
   "outputs": [],
   "source": [
    "products['category'] = 'другое'\n",
    "define_category(plants, 'растения')\n",
    "define_category(seedling, 'рассада')\n",
    "define_category(plants_dummy, 'искусственные растения')\n",
    "define_category(for_bedroom, 'для спальни')\n",
    "define_category(for_bathroom, 'для ванной')\n",
    "define_category(for_home, 'для дома')\n",
    "define_category(for_storage, 'упаковка и хранение')\n",
    "define_category(for_cleaning, 'для уборки')\n",
    "define_category(for_kitchen, 'для кухни')\n",
    "define_category(bags, 'сумки и тележки')\n",
    "define_category(for_repair, 'для ремонта')"
   ]
  },
  {
   "cell_type": "code",
   "execution_count": 42,
   "metadata": {},
   "outputs": [
    {
     "data": {
      "text/html": [
       "<div>\n",
       "<style scoped>\n",
       "    .dataframe tbody tr th:only-of-type {\n",
       "        vertical-align: middle;\n",
       "    }\n",
       "\n",
       "    .dataframe tbody tr th {\n",
       "        vertical-align: top;\n",
       "    }\n",
       "\n",
       "    .dataframe thead th {\n",
       "        text-align: right;\n",
       "    }\n",
       "</style>\n",
       "<table border=\"1\" class=\"dataframe\">\n",
       "  <thead>\n",
       "    <tr style=\"text-align: right;\">\n",
       "      <th></th>\n",
       "      <th>category</th>\n",
       "    </tr>\n",
       "    <tr>\n",
       "      <th>product</th>\n",
       "      <th></th>\n",
       "    </tr>\n",
       "  </thead>\n",
       "  <tbody>\n",
       "    <tr>\n",
       "      <td>Сменный блок для ролика 2 шт (R160071), Rozenbal, R510100</td>\n",
       "      <td>1</td>\n",
       "    </tr>\n",
       "  </tbody>\n",
       "</table>\n",
       "</div>"
      ],
      "text/plain": [
       "                                                    category\n",
       "product                                                     \n",
       "Сменный блок для ролика 2 шт (R160071), Rozenba...         1"
      ]
     },
     "execution_count": 42,
     "metadata": {},
     "output_type": "execute_result"
    }
   ],
   "source": [
    "# неразмеченные товары\n",
    "products.query('category == \"другое\"').groupby('product').count()"
   ]
  },
  {
   "cell_type": "markdown",
   "metadata": {},
   "source": [
    "В результате получились категории:\n",
    "- растения\n",
    "- рассада\n",
    "- искусственные растения\n",
    "- товары для дома\n",
    "- товары для кухни\n",
    "- товары для ванной\n",
    "- товары для спальни\n",
    "- товары для уборки\n",
    "- упаковка и хранение\n",
    "- сумки и тележки\n",
    "- товары для ремонта\n",
    "\n",
    "и... сменный блок для ролика... куда его девать не знаю, пусть лежит в неразмеченных товарах."
   ]
  },
  {
   "cell_type": "code",
   "execution_count": 43,
   "metadata": {},
   "outputs": [
    {
     "name": "stdout",
     "output_type": "stream",
     "text": [
      "<class 'pandas.core.frame.DataFrame'>\n",
      "Int64Index: 4361 entries, 0 to 6734\n",
      "Data columns (total 10 columns):\n",
      "date           4361 non-null datetime64[ns]\n",
      "customer_id    4361 non-null object\n",
      "order_id       4361 non-null int64\n",
      "product        4361 non-null object\n",
      "quantity       4361 non-null int64\n",
      "price          4361 non-null float64\n",
      "month          4361 non-null datetime64[ns]\n",
      "amount         4361 non-null float64\n",
      "day            4361 non-null int64\n",
      "day_name       4361 non-null object\n",
      "dtypes: datetime64[ns](2), float64(2), int64(3), object(3)\n",
      "memory usage: 374.8+ KB\n"
     ]
    }
   ],
   "source": [
    "orders.info()"
   ]
  },
  {
   "cell_type": "code",
   "execution_count": 44,
   "metadata": {},
   "outputs": [],
   "source": [
    "# добавим категории в основной датасет\n",
    "products = products.loc[:, ['product', 'category']]\n",
    "orders = pd.merge(orders, products, on='product', how='left')"
   ]
  },
  {
   "cell_type": "code",
   "execution_count": 45,
   "metadata": {},
   "outputs": [
    {
     "name": "stdout",
     "output_type": "stream",
     "text": [
      "<class 'pandas.core.frame.DataFrame'>\n",
      "Int64Index: 4361 entries, 0 to 4360\n",
      "Data columns (total 11 columns):\n",
      "date           4361 non-null datetime64[ns]\n",
      "customer_id    4361 non-null object\n",
      "order_id       4361 non-null int64\n",
      "product        4361 non-null object\n",
      "quantity       4361 non-null int64\n",
      "price          4361 non-null float64\n",
      "month          4361 non-null datetime64[ns]\n",
      "amount         4361 non-null float64\n",
      "day            4361 non-null int64\n",
      "day_name       4361 non-null object\n",
      "category       4361 non-null object\n",
      "dtypes: datetime64[ns](2), float64(2), int64(3), object(4)\n",
      "memory usage: 408.8+ KB\n"
     ]
    }
   ],
   "source": [
    "orders.info()"
   ]
  },
  {
   "cell_type": "code",
   "execution_count": 46,
   "metadata": {},
   "outputs": [
    {
     "data": {
      "text/html": [
       "<div>\n",
       "<style scoped>\n",
       "    .dataframe tbody tr th:only-of-type {\n",
       "        vertical-align: middle;\n",
       "    }\n",
       "\n",
       "    .dataframe tbody tr th {\n",
       "        vertical-align: top;\n",
       "    }\n",
       "\n",
       "    .dataframe thead th {\n",
       "        text-align: right;\n",
       "    }\n",
       "</style>\n",
       "<table border=\"1\" class=\"dataframe\">\n",
       "  <thead>\n",
       "    <tr style=\"text-align: right;\">\n",
       "      <th></th>\n",
       "      <th>date</th>\n",
       "      <th>customer_id</th>\n",
       "      <th>order_id</th>\n",
       "      <th>product</th>\n",
       "      <th>quantity</th>\n",
       "      <th>price</th>\n",
       "      <th>month</th>\n",
       "      <th>amount</th>\n",
       "      <th>day</th>\n",
       "      <th>day_name</th>\n",
       "      <th>category</th>\n",
       "    </tr>\n",
       "  </thead>\n",
       "  <tbody>\n",
       "    <tr>\n",
       "      <td>0</td>\n",
       "      <td>2018-10-01</td>\n",
       "      <td>ee47d746-6d2f-4d3c-9622-c31412542920</td>\n",
       "      <td>68477</td>\n",
       "      <td>Комнатное растение в горшке Алое Вера, d12, h30</td>\n",
       "      <td>1</td>\n",
       "      <td>142.0</td>\n",
       "      <td>2018-10-01</td>\n",
       "      <td>142.0</td>\n",
       "      <td>0</td>\n",
       "      <td>Monday</td>\n",
       "      <td>растения</td>\n",
       "    </tr>\n",
       "    <tr>\n",
       "      <td>1</td>\n",
       "      <td>2018-10-01</td>\n",
       "      <td>ee47d746-6d2f-4d3c-9622-c31412542920</td>\n",
       "      <td>68477</td>\n",
       "      <td>Комнатное растение в горшке Кофе Арабика, d12,...</td>\n",
       "      <td>1</td>\n",
       "      <td>194.0</td>\n",
       "      <td>2018-10-01</td>\n",
       "      <td>194.0</td>\n",
       "      <td>0</td>\n",
       "      <td>Monday</td>\n",
       "      <td>растения</td>\n",
       "    </tr>\n",
       "    <tr>\n",
       "      <td>2</td>\n",
       "      <td>2018-10-01</td>\n",
       "      <td>ee47d746-6d2f-4d3c-9622-c31412542920</td>\n",
       "      <td>68477</td>\n",
       "      <td>Радермахера d-12 см h-20 см</td>\n",
       "      <td>1</td>\n",
       "      <td>112.0</td>\n",
       "      <td>2018-10-01</td>\n",
       "      <td>112.0</td>\n",
       "      <td>0</td>\n",
       "      <td>Monday</td>\n",
       "      <td>растения</td>\n",
       "    </tr>\n",
       "    <tr>\n",
       "      <td>3</td>\n",
       "      <td>2018-10-01</td>\n",
       "      <td>ee47d746-6d2f-4d3c-9622-c31412542920</td>\n",
       "      <td>68477</td>\n",
       "      <td>Хризолидокарпус Лутесценс d-9 см</td>\n",
       "      <td>1</td>\n",
       "      <td>179.0</td>\n",
       "      <td>2018-10-01</td>\n",
       "      <td>179.0</td>\n",
       "      <td>0</td>\n",
       "      <td>Monday</td>\n",
       "      <td>растения</td>\n",
       "    </tr>\n",
       "    <tr>\n",
       "      <td>4</td>\n",
       "      <td>2018-10-01</td>\n",
       "      <td>ee47d746-6d2f-4d3c-9622-c31412542920</td>\n",
       "      <td>68477</td>\n",
       "      <td>Циперус Зумула d-12 см h-25 см</td>\n",
       "      <td>1</td>\n",
       "      <td>112.0</td>\n",
       "      <td>2018-10-01</td>\n",
       "      <td>112.0</td>\n",
       "      <td>0</td>\n",
       "      <td>Monday</td>\n",
       "      <td>растения</td>\n",
       "    </tr>\n",
       "  </tbody>\n",
       "</table>\n",
       "</div>"
      ],
      "text/plain": [
       "        date                           customer_id  order_id  \\\n",
       "0 2018-10-01  ee47d746-6d2f-4d3c-9622-c31412542920     68477   \n",
       "1 2018-10-01  ee47d746-6d2f-4d3c-9622-c31412542920     68477   \n",
       "2 2018-10-01  ee47d746-6d2f-4d3c-9622-c31412542920     68477   \n",
       "3 2018-10-01  ee47d746-6d2f-4d3c-9622-c31412542920     68477   \n",
       "4 2018-10-01  ee47d746-6d2f-4d3c-9622-c31412542920     68477   \n",
       "\n",
       "                                             product  quantity  price  \\\n",
       "0    Комнатное растение в горшке Алое Вера, d12, h30         1  142.0   \n",
       "1  Комнатное растение в горшке Кофе Арабика, d12,...         1  194.0   \n",
       "2                        Радермахера d-12 см h-20 см         1  112.0   \n",
       "3                   Хризолидокарпус Лутесценс d-9 см         1  179.0   \n",
       "4                     Циперус Зумула d-12 см h-25 см         1  112.0   \n",
       "\n",
       "       month  amount  day day_name  category  \n",
       "0 2018-10-01   142.0    0   Monday  растения  \n",
       "1 2018-10-01   194.0    0   Monday  растения  \n",
       "2 2018-10-01   112.0    0   Monday  растения  \n",
       "3 2018-10-01   179.0    0   Monday  растения  \n",
       "4 2018-10-01   112.0    0   Monday  растения  "
      ]
     },
     "execution_count": 46,
     "metadata": {},
     "output_type": "execute_result"
    }
   ],
   "source": [
    "orders.head()"
   ]
  },
  {
   "cell_type": "markdown",
   "metadata": {},
   "source": [
    "__Распределение товаров по категориям__"
   ]
  },
  {
   "cell_type": "code",
   "execution_count": 47,
   "metadata": {},
   "outputs": [],
   "source": [
    "def draw_bar(df1, df2, label):\n",
    "    plt.figure(figsize=(12,5))\n",
    "    plt.bar(df1, \n",
    "            df2\n",
    "           )\n",
    "    plt.xticks(rotation=-45)\n",
    "    plt.title(label, fontsize=14)\n",
    "    plt.show()"
   ]
  },
  {
   "cell_type": "code",
   "execution_count": 48,
   "metadata": {},
   "outputs": [
    {
     "data": {
      "text/html": [
       "<div>\n",
       "<style scoped>\n",
       "    .dataframe tbody tr th:only-of-type {\n",
       "        vertical-align: middle;\n",
       "    }\n",
       "\n",
       "    .dataframe tbody tr th {\n",
       "        vertical-align: top;\n",
       "    }\n",
       "\n",
       "    .dataframe thead th {\n",
       "        text-align: right;\n",
       "    }\n",
       "</style>\n",
       "<table border=\"1\" class=\"dataframe\">\n",
       "  <thead>\n",
       "    <tr style=\"text-align: right;\">\n",
       "      <th></th>\n",
       "      <th>category</th>\n",
       "      <th>goods_count</th>\n",
       "    </tr>\n",
       "  </thead>\n",
       "  <tbody>\n",
       "    <tr>\n",
       "      <td>9</td>\n",
       "      <td>растения</td>\n",
       "      <td>628</td>\n",
       "    </tr>\n",
       "    <tr>\n",
       "      <td>1</td>\n",
       "      <td>для дома</td>\n",
       "      <td>424</td>\n",
       "    </tr>\n",
       "    <tr>\n",
       "      <td>2</td>\n",
       "      <td>для кухни</td>\n",
       "      <td>311</td>\n",
       "    </tr>\n",
       "    <tr>\n",
       "      <td>8</td>\n",
       "      <td>рассада</td>\n",
       "      <td>207</td>\n",
       "    </tr>\n",
       "    <tr>\n",
       "      <td>7</td>\n",
       "      <td>искусственные растения</td>\n",
       "      <td>123</td>\n",
       "    </tr>\n",
       "    <tr>\n",
       "      <td>10</td>\n",
       "      <td>сумки и тележки</td>\n",
       "      <td>101</td>\n",
       "    </tr>\n",
       "    <tr>\n",
       "      <td>5</td>\n",
       "      <td>для уборки</td>\n",
       "      <td>93</td>\n",
       "    </tr>\n",
       "    <tr>\n",
       "      <td>0</td>\n",
       "      <td>для ванной</td>\n",
       "      <td>90</td>\n",
       "    </tr>\n",
       "    <tr>\n",
       "      <td>11</td>\n",
       "      <td>упаковка и хранение</td>\n",
       "      <td>88</td>\n",
       "    </tr>\n",
       "    <tr>\n",
       "      <td>3</td>\n",
       "      <td>для ремонта</td>\n",
       "      <td>69</td>\n",
       "    </tr>\n",
       "    <tr>\n",
       "      <td>4</td>\n",
       "      <td>для спальни</td>\n",
       "      <td>14</td>\n",
       "    </tr>\n",
       "    <tr>\n",
       "      <td>6</td>\n",
       "      <td>другое</td>\n",
       "      <td>1</td>\n",
       "    </tr>\n",
       "  </tbody>\n",
       "</table>\n",
       "</div>"
      ],
      "text/plain": [
       "                  category  goods_count\n",
       "9                 растения          628\n",
       "1                 для дома          424\n",
       "2                для кухни          311\n",
       "8                  рассада          207\n",
       "7   искусственные растения          123\n",
       "10         сумки и тележки          101\n",
       "5               для уборки           93\n",
       "0               для ванной           90\n",
       "11     упаковка и хранение           88\n",
       "3              для ремонта           69\n",
       "4              для спальни           14\n",
       "6                   другое            1"
      ]
     },
     "execution_count": 48,
     "metadata": {},
     "output_type": "execute_result"
    }
   ],
   "source": [
    "df = orders.groupby('category').agg({'product': 'nunique'}).reset_index()\n",
    "df.columns = ['category', 'goods_count']\n",
    "df.sort_values(by='goods_count', ascending=False, inplace=True)\n",
    "df"
   ]
  },
  {
   "cell_type": "code",
   "execution_count": 49,
   "metadata": {},
   "outputs": [
    {
     "data": {
      "image/png": "[encoded data removed]",
      "text/plain": [
       "<Figure size 864x360 with 1 Axes>"
      ]
     },
     "metadata": {
      "needs_background": "light"
     },
     "output_type": "display_data"
    }
   ],
   "source": [
    "draw_bar(df['category'], \n",
    "         df['goods_count'], \n",
    "         'Распределение товаров по категориям'\n",
    "        )"
   ]
  },
  {
   "cell_type": "markdown",
   "metadata": {},
   "source": [
    "Максимальное число товаров в категориях:\n",
    "- растения\n",
    "- товары для дома\n",
    "- товары для кухни\n",
    "- рассада\n",
    "- искусственные растения"
   ]
  },
  {
   "cell_type": "markdown",
   "metadata": {},
   "source": [
    "__Определим top5 категорий товаров - лидеров продаж по числу покупок и общей стоимости__"
   ]
  },
  {
   "cell_type": "code",
   "execution_count": 50,
   "metadata": {},
   "outputs": [
    {
     "data": {
      "text/html": [
       "<div>\n",
       "<style scoped>\n",
       "    .dataframe tbody tr th:only-of-type {\n",
       "        vertical-align: middle;\n",
       "    }\n",
       "\n",
       "    .dataframe tbody tr th {\n",
       "        vertical-align: top;\n",
       "    }\n",
       "\n",
       "    .dataframe thead th {\n",
       "        text-align: right;\n",
       "    }\n",
       "</style>\n",
       "<table border=\"1\" class=\"dataframe\">\n",
       "  <thead>\n",
       "    <tr style=\"text-align: right;\">\n",
       "      <th></th>\n",
       "      <th>category</th>\n",
       "      <th>total_amount</th>\n",
       "      <th>total_items</th>\n",
       "    </tr>\n",
       "  </thead>\n",
       "  <tbody>\n",
       "    <tr>\n",
       "      <td>1</td>\n",
       "      <td>для дома</td>\n",
       "      <td>890071.0</td>\n",
       "      <td>1235</td>\n",
       "    </tr>\n",
       "    <tr>\n",
       "      <td>10</td>\n",
       "      <td>сумки и тележки</td>\n",
       "      <td>619408.0</td>\n",
       "      <td>321</td>\n",
       "    </tr>\n",
       "    <tr>\n",
       "      <td>9</td>\n",
       "      <td>растения</td>\n",
       "      <td>352768.0</td>\n",
       "      <td>2467</td>\n",
       "    </tr>\n",
       "    <tr>\n",
       "      <td>2</td>\n",
       "      <td>для кухни</td>\n",
       "      <td>301961.0</td>\n",
       "      <td>992</td>\n",
       "    </tr>\n",
       "    <tr>\n",
       "      <td>11</td>\n",
       "      <td>упаковка и хранение</td>\n",
       "      <td>138262.0</td>\n",
       "      <td>216</td>\n",
       "    </tr>\n",
       "    <tr>\n",
       "      <td>3</td>\n",
       "      <td>для ремонта</td>\n",
       "      <td>120636.0</td>\n",
       "      <td>249</td>\n",
       "    </tr>\n",
       "    <tr>\n",
       "      <td>0</td>\n",
       "      <td>для ванной</td>\n",
       "      <td>114586.0</td>\n",
       "      <td>186</td>\n",
       "    </tr>\n",
       "    <tr>\n",
       "      <td>5</td>\n",
       "      <td>для уборки</td>\n",
       "      <td>112439.0</td>\n",
       "      <td>416</td>\n",
       "    </tr>\n",
       "    <tr>\n",
       "      <td>4</td>\n",
       "      <td>для спальни</td>\n",
       "      <td>91388.0</td>\n",
       "      <td>54</td>\n",
       "    </tr>\n",
       "    <tr>\n",
       "      <td>8</td>\n",
       "      <td>рассада</td>\n",
       "      <td>90416.0</td>\n",
       "      <td>756</td>\n",
       "    </tr>\n",
       "    <tr>\n",
       "      <td>7</td>\n",
       "      <td>искусственные растения</td>\n",
       "      <td>58350.0</td>\n",
       "      <td>1245</td>\n",
       "    </tr>\n",
       "    <tr>\n",
       "      <td>6</td>\n",
       "      <td>другое</td>\n",
       "      <td>38.0</td>\n",
       "      <td>1</td>\n",
       "    </tr>\n",
       "  </tbody>\n",
       "</table>\n",
       "</div>"
      ],
      "text/plain": [
       "                  category  total_amount  total_items\n",
       "1                 для дома      890071.0         1235\n",
       "10         сумки и тележки      619408.0          321\n",
       "9                 растения      352768.0         2467\n",
       "2                для кухни      301961.0          992\n",
       "11     упаковка и хранение      138262.0          216\n",
       "3              для ремонта      120636.0          249\n",
       "0               для ванной      114586.0          186\n",
       "5               для уборки      112439.0          416\n",
       "4              для спальни       91388.0           54\n",
       "8                  рассада       90416.0          756\n",
       "7   искусственные растения       58350.0         1245\n",
       "6                   другое          38.0            1"
      ]
     },
     "execution_count": 50,
     "metadata": {},
     "output_type": "execute_result"
    }
   ],
   "source": [
    "df = orders.groupby('category').agg({'amount': 'sum', 'quantity': 'sum'}).reset_index()\n",
    "df.columns = ['category', 'total_amount', 'total_items']\n",
    "df.sort_values(by='total_amount', ascending=False, inplace=True)\n",
    "df"
   ]
  },
  {
   "cell_type": "code",
   "execution_count": 51,
   "metadata": {},
   "outputs": [
    {
     "data": {
      "image/png": "[encoded data removed]",
      "text/plain": [
       "<Figure size 864x360 with 1 Axes>"
      ]
     },
     "metadata": {
      "needs_background": "light"
     },
     "output_type": "display_data"
    }
   ],
   "source": [
    "# Топ категорий по выручке\n",
    "draw_bar(df['category'], \n",
    "         df['total_amount'], \n",
    "         'Топ категорий товаров по выручке'\n",
    "        )"
   ]
  },
  {
   "cell_type": "markdown",
   "metadata": {},
   "source": [
    "Наибольшую выручку приносят категории:\n",
    "- для дома\n",
    "- сумки и тележки\n",
    "- растения\t\n",
    "- для кухни\n",
    "- упаковка и хранение"
   ]
  },
  {
   "cell_type": "code",
   "execution_count": 52,
   "metadata": {},
   "outputs": [
    {
     "data": {
      "text/html": [
       "<div>\n",
       "<style scoped>\n",
       "    .dataframe tbody tr th:only-of-type {\n",
       "        vertical-align: middle;\n",
       "    }\n",
       "\n",
       "    .dataframe tbody tr th {\n",
       "        vertical-align: top;\n",
       "    }\n",
       "\n",
       "    .dataframe thead th {\n",
       "        text-align: right;\n",
       "    }\n",
       "</style>\n",
       "<table border=\"1\" class=\"dataframe\">\n",
       "  <thead>\n",
       "    <tr style=\"text-align: right;\">\n",
       "      <th></th>\n",
       "      <th>category</th>\n",
       "      <th>total_amount</th>\n",
       "      <th>total_items</th>\n",
       "    </tr>\n",
       "  </thead>\n",
       "  <tbody>\n",
       "    <tr>\n",
       "      <td>9</td>\n",
       "      <td>растения</td>\n",
       "      <td>352768.0</td>\n",
       "      <td>2467</td>\n",
       "    </tr>\n",
       "    <tr>\n",
       "      <td>7</td>\n",
       "      <td>искусственные растения</td>\n",
       "      <td>58350.0</td>\n",
       "      <td>1245</td>\n",
       "    </tr>\n",
       "    <tr>\n",
       "      <td>1</td>\n",
       "      <td>для дома</td>\n",
       "      <td>890071.0</td>\n",
       "      <td>1235</td>\n",
       "    </tr>\n",
       "    <tr>\n",
       "      <td>2</td>\n",
       "      <td>для кухни</td>\n",
       "      <td>301961.0</td>\n",
       "      <td>992</td>\n",
       "    </tr>\n",
       "    <tr>\n",
       "      <td>8</td>\n",
       "      <td>рассада</td>\n",
       "      <td>90416.0</td>\n",
       "      <td>756</td>\n",
       "    </tr>\n",
       "    <tr>\n",
       "      <td>5</td>\n",
       "      <td>для уборки</td>\n",
       "      <td>112439.0</td>\n",
       "      <td>416</td>\n",
       "    </tr>\n",
       "    <tr>\n",
       "      <td>10</td>\n",
       "      <td>сумки и тележки</td>\n",
       "      <td>619408.0</td>\n",
       "      <td>321</td>\n",
       "    </tr>\n",
       "    <tr>\n",
       "      <td>3</td>\n",
       "      <td>для ремонта</td>\n",
       "      <td>120636.0</td>\n",
       "      <td>249</td>\n",
       "    </tr>\n",
       "    <tr>\n",
       "      <td>11</td>\n",
       "      <td>упаковка и хранение</td>\n",
       "      <td>138262.0</td>\n",
       "      <td>216</td>\n",
       "    </tr>\n",
       "    <tr>\n",
       "      <td>0</td>\n",
       "      <td>для ванной</td>\n",
       "      <td>114586.0</td>\n",
       "      <td>186</td>\n",
       "    </tr>\n",
       "    <tr>\n",
       "      <td>4</td>\n",
       "      <td>для спальни</td>\n",
       "      <td>91388.0</td>\n",
       "      <td>54</td>\n",
       "    </tr>\n",
       "    <tr>\n",
       "      <td>6</td>\n",
       "      <td>другое</td>\n",
       "      <td>38.0</td>\n",
       "      <td>1</td>\n",
       "    </tr>\n",
       "  </tbody>\n",
       "</table>\n",
       "</div>"
      ],
      "text/plain": [
       "                  category  total_amount  total_items\n",
       "9                 растения      352768.0         2467\n",
       "7   искусственные растения       58350.0         1245\n",
       "1                 для дома      890071.0         1235\n",
       "2                для кухни      301961.0          992\n",
       "8                  рассада       90416.0          756\n",
       "5               для уборки      112439.0          416\n",
       "10         сумки и тележки      619408.0          321\n",
       "3              для ремонта      120636.0          249\n",
       "11     упаковка и хранение      138262.0          216\n",
       "0               для ванной      114586.0          186\n",
       "4              для спальни       91388.0           54\n",
       "6                   другое          38.0            1"
      ]
     },
     "execution_count": 52,
     "metadata": {},
     "output_type": "execute_result"
    }
   ],
   "source": [
    "df.sort_values(by='total_items', ascending=False, inplace=True)\n",
    "df"
   ]
  },
  {
   "cell_type": "code",
   "execution_count": 53,
   "metadata": {},
   "outputs": [
    {
     "data": {
      "image/png": "[encoded data removed]",
      "text/plain": [
       "<Figure size 864x360 with 1 Axes>"
      ]
     },
     "metadata": {
      "needs_background": "light"
     },
     "output_type": "display_data"
    }
   ],
   "source": [
    "# Топ категорий по выручке\n",
    "draw_bar(df['category'], \n",
    "         df['total_items'], \n",
    "         'Топ категорий товаров по числу проданных товаров'\n",
    "        )"
   ]
  },
  {
   "cell_type": "markdown",
   "metadata": {},
   "source": [
    "При этом лидеры по числу проданных единиц товара:\n",
    "- растения\n",
    "- искусственные растения\n",
    "- товары для дома\n",
    "- товары для кухни\n",
    "- рассада\n",
    "\n",
    "Искусственные растения явно лишние в этом списке. Продаж много, выручки минимум. "
   ]
  },
  {
   "cell_type": "markdown",
   "metadata": {},
   "source": [
    "__Средний чек по категориям__"
   ]
  },
  {
   "cell_type": "code",
   "execution_count": 54,
   "metadata": {},
   "outputs": [
    {
     "data": {
      "text/html": [
       "<div>\n",
       "<style scoped>\n",
       "    .dataframe tbody tr th:only-of-type {\n",
       "        vertical-align: middle;\n",
       "    }\n",
       "\n",
       "    .dataframe tbody tr th {\n",
       "        vertical-align: top;\n",
       "    }\n",
       "\n",
       "    .dataframe thead th {\n",
       "        text-align: right;\n",
       "    }\n",
       "</style>\n",
       "<table border=\"1\" class=\"dataframe\">\n",
       "  <thead>\n",
       "    <tr style=\"text-align: right;\">\n",
       "      <th></th>\n",
       "      <th>category</th>\n",
       "      <th>amount</th>\n",
       "    </tr>\n",
       "  </thead>\n",
       "  <tbody>\n",
       "    <tr>\n",
       "      <td>4</td>\n",
       "      <td>для спальни</td>\n",
       "      <td>6092.533333</td>\n",
       "    </tr>\n",
       "    <tr>\n",
       "      <td>10</td>\n",
       "      <td>сумки и тележки</td>\n",
       "      <td>1998.090323</td>\n",
       "    </tr>\n",
       "    <tr>\n",
       "      <td>3</td>\n",
       "      <td>для ремонта</td>\n",
       "      <td>1566.701299</td>\n",
       "    </tr>\n",
       "    <tr>\n",
       "      <td>1</td>\n",
       "      <td>для дома</td>\n",
       "      <td>1344.518127</td>\n",
       "    </tr>\n",
       "    <tr>\n",
       "      <td>11</td>\n",
       "      <td>упаковка и хранение</td>\n",
       "      <td>1191.913793</td>\n",
       "    </tr>\n",
       "    <tr>\n",
       "      <td>5</td>\n",
       "      <td>для уборки</td>\n",
       "      <td>1041.101852</td>\n",
       "    </tr>\n",
       "    <tr>\n",
       "      <td>0</td>\n",
       "      <td>для ванной</td>\n",
       "      <td>954.883333</td>\n",
       "    </tr>\n",
       "    <tr>\n",
       "      <td>2</td>\n",
       "      <td>для кухни</td>\n",
       "      <td>952.558360</td>\n",
       "    </tr>\n",
       "    <tr>\n",
       "      <td>8</td>\n",
       "      <td>рассада</td>\n",
       "      <td>706.375000</td>\n",
       "    </tr>\n",
       "    <tr>\n",
       "      <td>9</td>\n",
       "      <td>растения</td>\n",
       "      <td>534.496970</td>\n",
       "    </tr>\n",
       "    <tr>\n",
       "      <td>7</td>\n",
       "      <td>искусственные растения</td>\n",
       "      <td>324.166667</td>\n",
       "    </tr>\n",
       "    <tr>\n",
       "      <td>6</td>\n",
       "      <td>другое</td>\n",
       "      <td>38.000000</td>\n",
       "    </tr>\n",
       "  </tbody>\n",
       "</table>\n",
       "</div>"
      ],
      "text/plain": [
       "                  category       amount\n",
       "4              для спальни  6092.533333\n",
       "10         сумки и тележки  1998.090323\n",
       "3              для ремонта  1566.701299\n",
       "1                 для дома  1344.518127\n",
       "11     упаковка и хранение  1191.913793\n",
       "5               для уборки  1041.101852\n",
       "0               для ванной   954.883333\n",
       "2                для кухни   952.558360\n",
       "8                  рассада   706.375000\n",
       "9                 растения   534.496970\n",
       "7   искусственные растения   324.166667\n",
       "6                   другое    38.000000"
      ]
     },
     "execution_count": 54,
     "metadata": {},
     "output_type": "execute_result"
    }
   ],
   "source": [
    "df = orders.groupby(['order_id', 'category']).agg({'amount': 'sum'}).reset_index()\n",
    "df = df.groupby('category').agg({'amount': 'mean'}).reset_index()\n",
    "df.sort_values(by='amount', ascending=False, inplace=True)\n",
    "df"
   ]
  },
  {
   "cell_type": "code",
   "execution_count": 55,
   "metadata": {},
   "outputs": [
    {
     "data": {
      "image/png": "[encoded data removed]",
      "text/plain": [
       "<Figure size 864x360 with 1 Axes>"
      ]
     },
     "metadata": {
      "needs_background": "light"
     },
     "output_type": "display_data"
    }
   ],
   "source": [
    "draw_bar(df['category'], \n",
    "         df['amount'], \n",
    "         'Средний чек по категориям'\n",
    "        )"
   ]
  },
  {
   "cell_type": "markdown",
   "metadata": {},
   "source": [
    "__Сезонность продаж с учетом категорий товаров__  \n",
    "Проверим сезонность для отдельных категорий, которые приносят наибольшую выручку. Предполагаю, что есть сезонность в категориях Рассада и Растения, в остальных категориях сезонности нет."
   ]
  },
  {
   "cell_type": "code",
   "execution_count": 56,
   "metadata": {},
   "outputs": [],
   "source": [
    "def check_seasons(category_name):\n",
    "    df = (orders.query('category == @category_name')\n",
    "                .groupby('month')\n",
    "                .agg({'quantity': 'sum'})\n",
    "                .reset_index()\n",
    "                .sort_values(by='month')\n",
    "         )\n",
    "\n",
    "    plt.figure(figsize=(12,5))\n",
    "    plt.bar(df['month'], \n",
    "            df['quantity']\n",
    "           )\n",
    "    plt.title('Продажи по месяцам в категории - ' + category_name)\n",
    "    plt.show()"
   ]
  },
  {
   "cell_type": "code",
   "execution_count": 57,
   "metadata": {},
   "outputs": [
    {
     "data": {
      "image/png": "[encoded data removed]",
      "text/plain": [
       "<Figure size 864x360 with 1 Axes>"
      ]
     },
     "metadata": {
      "needs_background": "light"
     },
     "output_type": "display_data"
    }
   ],
   "source": [
    "check_seasons('растения')"
   ]
  },
  {
   "cell_type": "code",
   "execution_count": 58,
   "metadata": {},
   "outputs": [
    {
     "data": {
      "image/png": "[encoded data removed]",
      "text/plain": [
       "<Figure size 864x360 with 1 Axes>"
      ]
     },
     "metadata": {
      "needs_background": "light"
     },
     "output_type": "display_data"
    }
   ],
   "source": [
    "check_seasons('рассада')"
   ]
  },
  {
   "cell_type": "code",
   "execution_count": 59,
   "metadata": {},
   "outputs": [
    {
     "data": {
      "image/png": "[encoded data removed]",
      "text/plain": [
       "<Figure size 864x360 with 1 Axes>"
      ]
     },
     "metadata": {
      "needs_background": "light"
     },
     "output_type": "display_data"
    }
   ],
   "source": [
    "check_seasons('для дома')"
   ]
  },
  {
   "cell_type": "code",
   "execution_count": 60,
   "metadata": {},
   "outputs": [
    {
     "data": {
      "image/png": "[encoded data removed]",
      "text/plain": [
       "<Figure size 864x360 with 1 Axes>"
      ]
     },
     "metadata": {
      "needs_background": "light"
     },
     "output_type": "display_data"
    }
   ],
   "source": [
    "check_seasons('сумки и тележки')"
   ]
  },
  {
   "cell_type": "markdown",
   "metadata": {},
   "source": [
    "Сезонность продаж есть в категориях Растения и Рассада."
   ]
  },
  {
   "cell_type": "markdown",
   "metadata": {},
   "source": [
    "### Выводы\n",
    "В исследовательском анализе нужно было ответить на вопросы:\n",
    "- Определить, характерны ли повторные покупки для покупателей - нет, повторные покупки не характерны. Большенство покупателей совершают только один заказ.\n",
    "- Определить, есть ли сезонность в продаже товаров. Если рассматривать продажи в целом без учета категорий товаров, то сезонности нет. Но если учитывать категории товаров, то сезонность есть в категориях Растения и Рассада - весной продажи заметно растут.\n",
    "- Определить, есть ли пиковые дни продаж - нет, таких дней нет. Заказы равномерно распределены по всем дням недели.\n",
    "- Определить число товаров в заказе - в большенстве заказов всего один товар\n",
    "- Средний чек - 1130 руб. При этом 75% заказов с чеком до 1350 руб\n",
    "- Определить top10 товаров - лидеров продаж. Выборка см. выше."
   ]
  },
  {
   "cell_type": "markdown",
   "metadata": {},
   "source": [
    "По данным заказов сформированы товарные категории:\n",
    "- растения\n",
    "- рассада\n",
    "- искусственные растения\n",
    "- товары для дома\n",
    "- товары для кухни\n",
    "- товары для ванной\n",
    "- товары для спальни\n",
    "- товары для уборки\n",
    "- упаковка и хранение\n",
    "- сумки и тележки\n",
    "- товары для ремонта\n",
    "\n",
    "Максимальное число товаров в категориях:\n",
    "- растения\n",
    "- товары для дома\n",
    "- товары для кухни\n",
    "- рассада\n",
    "- искусственные растения\n",
    "\n",
    "Наибольшую выручку приносят категории:\n",
    "- для дома\n",
    "- сумки и тележки\n",
    "- растения\t\n",
    "- для кухни\n",
    "- упаковка и хранение\n",
    "\n",
    "При этом лидеры по числу проданных единиц товара:\n",
    "- растения\n",
    "- искусственные растения\n",
    "- товары для дома\n",
    "- товары для кухни\n",
    "- рассада\n",
    "\n",
    "Искусственные растения явно лишние в этом списке. Продаж много, выручки минимум. "
   ]
  },
  {
   "cell_type": "markdown",
   "metadata": {},
   "source": [
    "<a id='segments'></a>\n",
    "### 3. Сегментация покупателей\n",
    "Цель шага - сделать сегментацию покупателей по различным признакам для дальнейшего использования в маркетинговых активностях.\n",
    "\n",
    "Выделить сегменты покупателей:\n",
    "- по числу заказов на одного покупателя. Маркетинг сможет использовать сегменты для повышения LTV.\n",
    "- по категориям товаров. Может использоваться для персонализированных рекламных рассылок только по интересным для покупателям категориям\n",
    "- по среднему чеку. Может использоваться для персонализированных рекламных рассылок в заданном ценовом диапазоне.\n",
    "- по давности последнего заказа. Маркетинговые рассылки для клиентов, которые давно не покупали. Например, с предложением скидки, с целью вернуть клиента в магазин."
   ]
  },
  {
   "cell_type": "markdown",
   "metadata": {},
   "source": [
    "__Построим матрицу признаков для покупателей__"
   ]
  },
  {
   "cell_type": "code",
   "execution_count": 61,
   "metadata": {},
   "outputs": [
    {
     "data": {
      "text/html": [
       "<div>\n",
       "<style scoped>\n",
       "    .dataframe tbody tr th:only-of-type {\n",
       "        vertical-align: middle;\n",
       "    }\n",
       "\n",
       "    .dataframe tbody tr th {\n",
       "        vertical-align: top;\n",
       "    }\n",
       "\n",
       "    .dataframe thead th {\n",
       "        text-align: right;\n",
       "    }\n",
       "</style>\n",
       "<table border=\"1\" class=\"dataframe\">\n",
       "  <thead>\n",
       "    <tr style=\"text-align: right;\">\n",
       "      <th></th>\n",
       "      <th>date</th>\n",
       "      <th>customer_id</th>\n",
       "      <th>order_id</th>\n",
       "      <th>product</th>\n",
       "      <th>quantity</th>\n",
       "      <th>price</th>\n",
       "      <th>month</th>\n",
       "      <th>amount</th>\n",
       "      <th>day</th>\n",
       "      <th>day_name</th>\n",
       "      <th>category</th>\n",
       "    </tr>\n",
       "  </thead>\n",
       "  <tbody>\n",
       "    <tr>\n",
       "      <td>0</td>\n",
       "      <td>2018-10-01</td>\n",
       "      <td>ee47d746-6d2f-4d3c-9622-c31412542920</td>\n",
       "      <td>68477</td>\n",
       "      <td>Комнатное растение в горшке Алое Вера, d12, h30</td>\n",
       "      <td>1</td>\n",
       "      <td>142.0</td>\n",
       "      <td>2018-10-01</td>\n",
       "      <td>142.0</td>\n",
       "      <td>0</td>\n",
       "      <td>Monday</td>\n",
       "      <td>растения</td>\n",
       "    </tr>\n",
       "    <tr>\n",
       "      <td>1</td>\n",
       "      <td>2018-10-01</td>\n",
       "      <td>ee47d746-6d2f-4d3c-9622-c31412542920</td>\n",
       "      <td>68477</td>\n",
       "      <td>Комнатное растение в горшке Кофе Арабика, d12,...</td>\n",
       "      <td>1</td>\n",
       "      <td>194.0</td>\n",
       "      <td>2018-10-01</td>\n",
       "      <td>194.0</td>\n",
       "      <td>0</td>\n",
       "      <td>Monday</td>\n",
       "      <td>растения</td>\n",
       "    </tr>\n",
       "    <tr>\n",
       "      <td>2</td>\n",
       "      <td>2018-10-01</td>\n",
       "      <td>ee47d746-6d2f-4d3c-9622-c31412542920</td>\n",
       "      <td>68477</td>\n",
       "      <td>Радермахера d-12 см h-20 см</td>\n",
       "      <td>1</td>\n",
       "      <td>112.0</td>\n",
       "      <td>2018-10-01</td>\n",
       "      <td>112.0</td>\n",
       "      <td>0</td>\n",
       "      <td>Monday</td>\n",
       "      <td>растения</td>\n",
       "    </tr>\n",
       "    <tr>\n",
       "      <td>3</td>\n",
       "      <td>2018-10-01</td>\n",
       "      <td>ee47d746-6d2f-4d3c-9622-c31412542920</td>\n",
       "      <td>68477</td>\n",
       "      <td>Хризолидокарпус Лутесценс d-9 см</td>\n",
       "      <td>1</td>\n",
       "      <td>179.0</td>\n",
       "      <td>2018-10-01</td>\n",
       "      <td>179.0</td>\n",
       "      <td>0</td>\n",
       "      <td>Monday</td>\n",
       "      <td>растения</td>\n",
       "    </tr>\n",
       "    <tr>\n",
       "      <td>4</td>\n",
       "      <td>2018-10-01</td>\n",
       "      <td>ee47d746-6d2f-4d3c-9622-c31412542920</td>\n",
       "      <td>68477</td>\n",
       "      <td>Циперус Зумула d-12 см h-25 см</td>\n",
       "      <td>1</td>\n",
       "      <td>112.0</td>\n",
       "      <td>2018-10-01</td>\n",
       "      <td>112.0</td>\n",
       "      <td>0</td>\n",
       "      <td>Monday</td>\n",
       "      <td>растения</td>\n",
       "    </tr>\n",
       "  </tbody>\n",
       "</table>\n",
       "</div>"
      ],
      "text/plain": [
       "        date                           customer_id  order_id  \\\n",
       "0 2018-10-01  ee47d746-6d2f-4d3c-9622-c31412542920     68477   \n",
       "1 2018-10-01  ee47d746-6d2f-4d3c-9622-c31412542920     68477   \n",
       "2 2018-10-01  ee47d746-6d2f-4d3c-9622-c31412542920     68477   \n",
       "3 2018-10-01  ee47d746-6d2f-4d3c-9622-c31412542920     68477   \n",
       "4 2018-10-01  ee47d746-6d2f-4d3c-9622-c31412542920     68477   \n",
       "\n",
       "                                             product  quantity  price  \\\n",
       "0    Комнатное растение в горшке Алое Вера, d12, h30         1  142.0   \n",
       "1  Комнатное растение в горшке Кофе Арабика, d12,...         1  194.0   \n",
       "2                        Радермахера d-12 см h-20 см         1  112.0   \n",
       "3                   Хризолидокарпус Лутесценс d-9 см         1  179.0   \n",
       "4                     Циперус Зумула d-12 см h-25 см         1  112.0   \n",
       "\n",
       "       month  amount  day day_name  category  \n",
       "0 2018-10-01   142.0    0   Monday  растения  \n",
       "1 2018-10-01   194.0    0   Monday  растения  \n",
       "2 2018-10-01   112.0    0   Monday  растения  \n",
       "3 2018-10-01   179.0    0   Monday  растения  \n",
       "4 2018-10-01   112.0    0   Monday  растения  "
      ]
     },
     "execution_count": 61,
     "metadata": {},
     "output_type": "execute_result"
    }
   ],
   "source": [
    "orders.head()"
   ]
  },
  {
   "cell_type": "code",
   "execution_count": 62,
   "metadata": {},
   "outputs": [
    {
     "data": {
      "text/html": [
       "<div>\n",
       "<style scoped>\n",
       "    .dataframe tbody tr th:only-of-type {\n",
       "        vertical-align: middle;\n",
       "    }\n",
       "\n",
       "    .dataframe tbody tr th {\n",
       "        vertical-align: top;\n",
       "    }\n",
       "\n",
       "    .dataframe thead th {\n",
       "        text-align: right;\n",
       "    }\n",
       "</style>\n",
       "<table border=\"1\" class=\"dataframe\">\n",
       "  <thead>\n",
       "    <tr style=\"text-align: right;\">\n",
       "      <th></th>\n",
       "      <th>customer_id</th>\n",
       "      <th>avg_items</th>\n",
       "      <th>orders_total_amount</th>\n",
       "      <th>orders_avg_amount</th>\n",
       "    </tr>\n",
       "  </thead>\n",
       "  <tbody>\n",
       "    <tr>\n",
       "      <td>0</td>\n",
       "      <td>000d6849-084e-4d9f-ac03-37174eaf60c4</td>\n",
       "      <td>4.0</td>\n",
       "      <td>555.0</td>\n",
       "      <td>555.0</td>\n",
       "    </tr>\n",
       "    <tr>\n",
       "      <td>1</td>\n",
       "      <td>001cee7f-0b29-4716-b202-0042213ab038</td>\n",
       "      <td>1.0</td>\n",
       "      <td>442.0</td>\n",
       "      <td>442.0</td>\n",
       "    </tr>\n",
       "    <tr>\n",
       "      <td>2</td>\n",
       "      <td>00299f34-5385-4d13-9aea-c80b81658e1b</td>\n",
       "      <td>2.0</td>\n",
       "      <td>914.0</td>\n",
       "      <td>914.0</td>\n",
       "    </tr>\n",
       "    <tr>\n",
       "      <td>3</td>\n",
       "      <td>002d4d3a-4a59-406b-86ec-c3314357e498</td>\n",
       "      <td>1.0</td>\n",
       "      <td>1649.0</td>\n",
       "      <td>1649.0</td>\n",
       "    </tr>\n",
       "    <tr>\n",
       "      <td>4</td>\n",
       "      <td>003bbd39-0000-41ff-b7f9-2ddaec152037</td>\n",
       "      <td>2.0</td>\n",
       "      <td>2324.0</td>\n",
       "      <td>2324.0</td>\n",
       "    </tr>\n",
       "  </tbody>\n",
       "</table>\n",
       "</div>"
      ],
      "text/plain": [
       "                            customer_id  avg_items  orders_total_amount  \\\n",
       "0  000d6849-084e-4d9f-ac03-37174eaf60c4        4.0                555.0   \n",
       "1  001cee7f-0b29-4716-b202-0042213ab038        1.0                442.0   \n",
       "2  00299f34-5385-4d13-9aea-c80b81658e1b        2.0                914.0   \n",
       "3  002d4d3a-4a59-406b-86ec-c3314357e498        1.0               1649.0   \n",
       "4  003bbd39-0000-41ff-b7f9-2ddaec152037        2.0               2324.0   \n",
       "\n",
       "   orders_avg_amount  \n",
       "0              555.0  \n",
       "1              442.0  \n",
       "2              914.0  \n",
       "3             1649.0  \n",
       "4             2324.0  "
      ]
     },
     "execution_count": 62,
     "metadata": {},
     "output_type": "execute_result"
    }
   ],
   "source": [
    "# сначала сгруппируем данные по заказам\n",
    "orders_grouped = orders.groupby(['customer_id',\n",
    "                                 'order_id']\n",
    "                               ).agg({'quantity': 'sum', \n",
    "                                      'amount': 'sum'}\n",
    "                                    ).reset_index()\n",
    "\n",
    "orders_grouped.columns = ['customer_id', 'order_id', 'items_count', 'total_amount']\n",
    "\n",
    "# ср. число товаров в заказе, общая стоимость всех заказов, ср. стоимость заказа\n",
    "orders_grouped = orders_grouped.groupby('customer_id').agg({'items_count': 'mean', \n",
    "                                                            'total_amount':['sum', 'mean']}\n",
    "                                                          ).reset_index()\n",
    "\n",
    "orders_grouped.columns = ['customer_id', 'avg_items', 'orders_total_amount', 'orders_avg_amount']\n",
    "orders_grouped.head()"
   ]
  },
  {
   "cell_type": "code",
   "execution_count": 63,
   "metadata": {},
   "outputs": [
    {
     "data": {
      "text/html": [
       "<div>\n",
       "<style scoped>\n",
       "    .dataframe tbody tr th:only-of-type {\n",
       "        vertical-align: middle;\n",
       "    }\n",
       "\n",
       "    .dataframe tbody tr th {\n",
       "        vertical-align: top;\n",
       "    }\n",
       "\n",
       "    .dataframe thead th {\n",
       "        text-align: right;\n",
       "    }\n",
       "</style>\n",
       "<table border=\"1\" class=\"dataframe\">\n",
       "  <thead>\n",
       "    <tr style=\"text-align: right;\">\n",
       "      <th></th>\n",
       "      <th>customer_id</th>\n",
       "      <th>orders</th>\n",
       "      <th>category</th>\n",
       "      <th>last_order_date</th>\n",
       "    </tr>\n",
       "  </thead>\n",
       "  <tbody>\n",
       "    <tr>\n",
       "      <td>0</td>\n",
       "      <td>000d6849-084e-4d9f-ac03-37174eaf60c4</td>\n",
       "      <td>1</td>\n",
       "      <td>1</td>\n",
       "      <td>2019-10-16</td>\n",
       "    </tr>\n",
       "    <tr>\n",
       "      <td>1</td>\n",
       "      <td>001cee7f-0b29-4716-b202-0042213ab038</td>\n",
       "      <td>1</td>\n",
       "      <td>1</td>\n",
       "      <td>2019-02-16</td>\n",
       "    </tr>\n",
       "    <tr>\n",
       "      <td>2</td>\n",
       "      <td>00299f34-5385-4d13-9aea-c80b81658e1b</td>\n",
       "      <td>1</td>\n",
       "      <td>1</td>\n",
       "      <td>2019-10-14</td>\n",
       "    </tr>\n",
       "    <tr>\n",
       "      <td>3</td>\n",
       "      <td>002d4d3a-4a59-406b-86ec-c3314357e498</td>\n",
       "      <td>1</td>\n",
       "      <td>1</td>\n",
       "      <td>2019-01-27</td>\n",
       "    </tr>\n",
       "    <tr>\n",
       "      <td>4</td>\n",
       "      <td>003bbd39-0000-41ff-b7f9-2ddaec152037</td>\n",
       "      <td>1</td>\n",
       "      <td>1</td>\n",
       "      <td>2019-09-29</td>\n",
       "    </tr>\n",
       "  </tbody>\n",
       "</table>\n",
       "</div>"
      ],
      "text/plain": [
       "                            customer_id  orders  category last_order_date\n",
       "0  000d6849-084e-4d9f-ac03-37174eaf60c4       1         1      2019-10-16\n",
       "1  001cee7f-0b29-4716-b202-0042213ab038       1         1      2019-02-16\n",
       "2  00299f34-5385-4d13-9aea-c80b81658e1b       1         1      2019-10-14\n",
       "3  002d4d3a-4a59-406b-86ec-c3314357e498       1         1      2019-01-27\n",
       "4  003bbd39-0000-41ff-b7f9-2ddaec152037       1         1      2019-09-29"
      ]
     },
     "execution_count": 63,
     "metadata": {},
     "output_type": "execute_result"
    }
   ],
   "source": [
    "customers = orders.groupby('customer_id').agg({'order_id': 'nunique', 'category': 'nunique', 'date': 'max'}).reset_index()\n",
    "customers.columns = ['customer_id', 'orders', 'category', 'last_order_date']\n",
    "customers.head()"
   ]
  },
  {
   "cell_type": "code",
   "execution_count": 64,
   "metadata": {},
   "outputs": [
    {
     "name": "stdout",
     "output_type": "stream",
     "text": [
      "<class 'pandas.core.frame.DataFrame'>\n",
      "RangeIndex: 2400 entries, 0 to 2399\n",
      "Data columns (total 4 columns):\n",
      "customer_id        2400 non-null object\n",
      "orders             2400 non-null int64\n",
      "category           2400 non-null int64\n",
      "last_order_date    2400 non-null datetime64[ns]\n",
      "dtypes: datetime64[ns](1), int64(2), object(1)\n",
      "memory usage: 75.1+ KB\n"
     ]
    }
   ],
   "source": [
    "customers.info()"
   ]
  },
  {
   "cell_type": "code",
   "execution_count": 65,
   "metadata": {},
   "outputs": [
    {
     "name": "stdout",
     "output_type": "stream",
     "text": [
      "<class 'pandas.core.frame.DataFrame'>\n",
      "RangeIndex: 2400 entries, 0 to 2399\n",
      "Data columns (total 4 columns):\n",
      "customer_id            2400 non-null object\n",
      "avg_items              2400 non-null float64\n",
      "orders_total_amount    2400 non-null float64\n",
      "orders_avg_amount      2400 non-null float64\n",
      "dtypes: float64(3), object(1)\n",
      "memory usage: 75.1+ KB\n"
     ]
    }
   ],
   "source": [
    "orders_grouped.info()"
   ]
  },
  {
   "cell_type": "code",
   "execution_count": 66,
   "metadata": {},
   "outputs": [
    {
     "name": "stdout",
     "output_type": "stream",
     "text": [
      "<class 'pandas.core.frame.DataFrame'>\n",
      "Int64Index: 2400 entries, 0 to 2399\n",
      "Data columns (total 7 columns):\n",
      "customer_id            2400 non-null object\n",
      "orders                 2400 non-null int64\n",
      "category               2400 non-null int64\n",
      "last_order_date        2400 non-null datetime64[ns]\n",
      "avg_items              2400 non-null float64\n",
      "orders_total_amount    2400 non-null float64\n",
      "orders_avg_amount      2400 non-null float64\n",
      "dtypes: datetime64[ns](1), float64(3), int64(2), object(1)\n",
      "memory usage: 150.0+ KB\n"
     ]
    }
   ],
   "source": [
    "customers = pd.merge(customers, orders_grouped, on='customer_id')\n",
    "customers.info()"
   ]
  },
  {
   "cell_type": "code",
   "execution_count": 67,
   "metadata": {},
   "outputs": [
    {
     "data": {
      "text/html": [
       "<div>\n",
       "<style scoped>\n",
       "    .dataframe tbody tr th:only-of-type {\n",
       "        vertical-align: middle;\n",
       "    }\n",
       "\n",
       "    .dataframe tbody tr th {\n",
       "        vertical-align: top;\n",
       "    }\n",
       "\n",
       "    .dataframe thead th {\n",
       "        text-align: right;\n",
       "    }\n",
       "</style>\n",
       "<table border=\"1\" class=\"dataframe\">\n",
       "  <thead>\n",
       "    <tr style=\"text-align: right;\">\n",
       "      <th></th>\n",
       "      <th>customer_id</th>\n",
       "      <th>orders</th>\n",
       "      <th>category</th>\n",
       "      <th>last_order_date</th>\n",
       "      <th>avg_items</th>\n",
       "      <th>orders_total_amount</th>\n",
       "      <th>orders_avg_amount</th>\n",
       "    </tr>\n",
       "  </thead>\n",
       "  <tbody>\n",
       "    <tr>\n",
       "      <td>0</td>\n",
       "      <td>000d6849-084e-4d9f-ac03-37174eaf60c4</td>\n",
       "      <td>1</td>\n",
       "      <td>1</td>\n",
       "      <td>2019-10-16</td>\n",
       "      <td>4.0</td>\n",
       "      <td>555.0</td>\n",
       "      <td>555.0</td>\n",
       "    </tr>\n",
       "    <tr>\n",
       "      <td>1</td>\n",
       "      <td>001cee7f-0b29-4716-b202-0042213ab038</td>\n",
       "      <td>1</td>\n",
       "      <td>1</td>\n",
       "      <td>2019-02-16</td>\n",
       "      <td>1.0</td>\n",
       "      <td>442.0</td>\n",
       "      <td>442.0</td>\n",
       "    </tr>\n",
       "    <tr>\n",
       "      <td>2</td>\n",
       "      <td>00299f34-5385-4d13-9aea-c80b81658e1b</td>\n",
       "      <td>1</td>\n",
       "      <td>1</td>\n",
       "      <td>2019-10-14</td>\n",
       "      <td>2.0</td>\n",
       "      <td>914.0</td>\n",
       "      <td>914.0</td>\n",
       "    </tr>\n",
       "    <tr>\n",
       "      <td>3</td>\n",
       "      <td>002d4d3a-4a59-406b-86ec-c3314357e498</td>\n",
       "      <td>1</td>\n",
       "      <td>1</td>\n",
       "      <td>2019-01-27</td>\n",
       "      <td>1.0</td>\n",
       "      <td>1649.0</td>\n",
       "      <td>1649.0</td>\n",
       "    </tr>\n",
       "    <tr>\n",
       "      <td>4</td>\n",
       "      <td>003bbd39-0000-41ff-b7f9-2ddaec152037</td>\n",
       "      <td>1</td>\n",
       "      <td>1</td>\n",
       "      <td>2019-09-29</td>\n",
       "      <td>2.0</td>\n",
       "      <td>2324.0</td>\n",
       "      <td>2324.0</td>\n",
       "    </tr>\n",
       "  </tbody>\n",
       "</table>\n",
       "</div>"
      ],
      "text/plain": [
       "                            customer_id  orders  category last_order_date  \\\n",
       "0  000d6849-084e-4d9f-ac03-37174eaf60c4       1         1      2019-10-16   \n",
       "1  001cee7f-0b29-4716-b202-0042213ab038       1         1      2019-02-16   \n",
       "2  00299f34-5385-4d13-9aea-c80b81658e1b       1         1      2019-10-14   \n",
       "3  002d4d3a-4a59-406b-86ec-c3314357e498       1         1      2019-01-27   \n",
       "4  003bbd39-0000-41ff-b7f9-2ddaec152037       1         1      2019-09-29   \n",
       "\n",
       "   avg_items  orders_total_amount  orders_avg_amount  \n",
       "0        4.0                555.0              555.0  \n",
       "1        1.0                442.0              442.0  \n",
       "2        2.0                914.0              914.0  \n",
       "3        1.0               1649.0             1649.0  \n",
       "4        2.0               2324.0             2324.0  "
      ]
     },
     "execution_count": 67,
     "metadata": {},
     "output_type": "execute_result"
    }
   ],
   "source": [
    "customers.head()"
   ]
  },
  {
   "cell_type": "code",
   "execution_count": 68,
   "metadata": {},
   "outputs": [
    {
     "data": {
      "text/html": [
       "<div>\n",
       "<style scoped>\n",
       "    .dataframe tbody tr th:only-of-type {\n",
       "        vertical-align: middle;\n",
       "    }\n",
       "\n",
       "    .dataframe tbody tr th {\n",
       "        vertical-align: top;\n",
       "    }\n",
       "\n",
       "    .dataframe thead th {\n",
       "        text-align: right;\n",
       "    }\n",
       "</style>\n",
       "<table border=\"1\" class=\"dataframe\">\n",
       "  <thead>\n",
       "    <tr style=\"text-align: right;\">\n",
       "      <th></th>\n",
       "      <th>customer_id</th>\n",
       "      <th>orders</th>\n",
       "      <th>category</th>\n",
       "      <th>avg_items</th>\n",
       "      <th>orders_total_amount</th>\n",
       "      <th>orders_avg_amount</th>\n",
       "      <th>no_order_days</th>\n",
       "    </tr>\n",
       "  </thead>\n",
       "  <tbody>\n",
       "    <tr>\n",
       "      <td>0</td>\n",
       "      <td>000d6849-084e-4d9f-ac03-37174eaf60c4</td>\n",
       "      <td>1</td>\n",
       "      <td>1</td>\n",
       "      <td>4.0</td>\n",
       "      <td>555.0</td>\n",
       "      <td>555.0</td>\n",
       "      <td>16</td>\n",
       "    </tr>\n",
       "    <tr>\n",
       "      <td>1</td>\n",
       "      <td>001cee7f-0b29-4716-b202-0042213ab038</td>\n",
       "      <td>1</td>\n",
       "      <td>1</td>\n",
       "      <td>1.0</td>\n",
       "      <td>442.0</td>\n",
       "      <td>442.0</td>\n",
       "      <td>258</td>\n",
       "    </tr>\n",
       "    <tr>\n",
       "      <td>2</td>\n",
       "      <td>00299f34-5385-4d13-9aea-c80b81658e1b</td>\n",
       "      <td>1</td>\n",
       "      <td>1</td>\n",
       "      <td>2.0</td>\n",
       "      <td>914.0</td>\n",
       "      <td>914.0</td>\n",
       "      <td>18</td>\n",
       "    </tr>\n",
       "    <tr>\n",
       "      <td>3</td>\n",
       "      <td>002d4d3a-4a59-406b-86ec-c3314357e498</td>\n",
       "      <td>1</td>\n",
       "      <td>1</td>\n",
       "      <td>1.0</td>\n",
       "      <td>1649.0</td>\n",
       "      <td>1649.0</td>\n",
       "      <td>278</td>\n",
       "    </tr>\n",
       "    <tr>\n",
       "      <td>4</td>\n",
       "      <td>003bbd39-0000-41ff-b7f9-2ddaec152037</td>\n",
       "      <td>1</td>\n",
       "      <td>1</td>\n",
       "      <td>2.0</td>\n",
       "      <td>2324.0</td>\n",
       "      <td>2324.0</td>\n",
       "      <td>33</td>\n",
       "    </tr>\n",
       "  </tbody>\n",
       "</table>\n",
       "</div>"
      ],
      "text/plain": [
       "                            customer_id  orders  category  avg_items  \\\n",
       "0  000d6849-084e-4d9f-ac03-37174eaf60c4       1         1        4.0   \n",
       "1  001cee7f-0b29-4716-b202-0042213ab038       1         1        1.0   \n",
       "2  00299f34-5385-4d13-9aea-c80b81658e1b       1         1        2.0   \n",
       "3  002d4d3a-4a59-406b-86ec-c3314357e498       1         1        1.0   \n",
       "4  003bbd39-0000-41ff-b7f9-2ddaec152037       1         1        2.0   \n",
       "\n",
       "   orders_total_amount  orders_avg_amount  no_order_days  \n",
       "0                555.0              555.0             16  \n",
       "1                442.0              442.0            258  \n",
       "2                914.0              914.0             18  \n",
       "3               1649.0             1649.0            278  \n",
       "4               2324.0             2324.0             33  "
      ]
     },
     "execution_count": 68,
     "metadata": {},
     "output_type": "execute_result"
    }
   ],
   "source": [
    "# посчитаем число дней с даты последнего заказа\n",
    "\n",
    "# за точку отсчета берем макс. дату заказа + 1 день\n",
    "max_date = orders['date'].max() + pd.Timedelta('1d')\n",
    "\n",
    "customers ['no_order_days'] = customers['last_order_date'].apply(lambda x: (max_date - x).days)\n",
    "# ненужный столбец удаляем\n",
    "customers.drop(['last_order_date'], axis=1, inplace=True)\n",
    "customers.head()"
   ]
  },
  {
   "cell_type": "code",
   "execution_count": 69,
   "metadata": {},
   "outputs": [
    {
     "data": {
      "text/html": [
       "<div>\n",
       "<style scoped>\n",
       "    .dataframe tbody tr th:only-of-type {\n",
       "        vertical-align: middle;\n",
       "    }\n",
       "\n",
       "    .dataframe tbody tr th {\n",
       "        vertical-align: top;\n",
       "    }\n",
       "\n",
       "    .dataframe thead th {\n",
       "        text-align: right;\n",
       "    }\n",
       "</style>\n",
       "<table border=\"1\" class=\"dataframe\">\n",
       "  <thead>\n",
       "    <tr style=\"text-align: right;\">\n",
       "      <th></th>\n",
       "      <th>orders</th>\n",
       "      <th>category</th>\n",
       "      <th>avg_items</th>\n",
       "      <th>orders_total_amount</th>\n",
       "      <th>orders_avg_amount</th>\n",
       "      <th>no_order_days</th>\n",
       "    </tr>\n",
       "  </thead>\n",
       "  <tbody>\n",
       "    <tr>\n",
       "      <td>count</td>\n",
       "      <td>2400.000000</td>\n",
       "      <td>2400.000000</td>\n",
       "      <td>2400.000000</td>\n",
       "      <td>2400.000000</td>\n",
       "      <td>2400.000000</td>\n",
       "      <td>2400.000000</td>\n",
       "    </tr>\n",
       "    <tr>\n",
       "      <td>mean</td>\n",
       "      <td>1.077917</td>\n",
       "      <td>1.065000</td>\n",
       "      <td>3.080263</td>\n",
       "      <td>1204.301250</td>\n",
       "      <td>1114.674906</td>\n",
       "      <td>204.573333</td>\n",
       "    </tr>\n",
       "    <tr>\n",
       "      <td>std</td>\n",
       "      <td>0.330743</td>\n",
       "      <td>0.298572</td>\n",
       "      <td>4.834733</td>\n",
       "      <td>1990.758951</td>\n",
       "      <td>1540.709818</td>\n",
       "      <td>110.643958</td>\n",
       "    </tr>\n",
       "    <tr>\n",
       "      <td>min</td>\n",
       "      <td>1.000000</td>\n",
       "      <td>1.000000</td>\n",
       "      <td>1.000000</td>\n",
       "      <td>14.000000</td>\n",
       "      <td>14.000000</td>\n",
       "      <td>1.000000</td>\n",
       "    </tr>\n",
       "    <tr>\n",
       "      <td>25%</td>\n",
       "      <td>1.000000</td>\n",
       "      <td>1.000000</td>\n",
       "      <td>1.000000</td>\n",
       "      <td>296.000000</td>\n",
       "      <td>276.875000</td>\n",
       "      <td>110.000000</td>\n",
       "    </tr>\n",
       "    <tr>\n",
       "      <td>50%</td>\n",
       "      <td>1.000000</td>\n",
       "      <td>1.000000</td>\n",
       "      <td>1.000000</td>\n",
       "      <td>675.500000</td>\n",
       "      <td>652.000000</td>\n",
       "      <td>212.000000</td>\n",
       "    </tr>\n",
       "    <tr>\n",
       "      <td>75%</td>\n",
       "      <td>1.000000</td>\n",
       "      <td>1.000000</td>\n",
       "      <td>2.000000</td>\n",
       "      <td>1481.500000</td>\n",
       "      <td>1349.250000</td>\n",
       "      <td>295.000000</td>\n",
       "    </tr>\n",
       "    <tr>\n",
       "      <td>max</td>\n",
       "      <td>7.000000</td>\n",
       "      <td>5.000000</td>\n",
       "      <td>30.000000</td>\n",
       "      <td>53232.000000</td>\n",
       "      <td>26616.000000</td>\n",
       "      <td>396.000000</td>\n",
       "    </tr>\n",
       "  </tbody>\n",
       "</table>\n",
       "</div>"
      ],
      "text/plain": [
       "            orders     category    avg_items  orders_total_amount  \\\n",
       "count  2400.000000  2400.000000  2400.000000          2400.000000   \n",
       "mean      1.077917     1.065000     3.080263          1204.301250   \n",
       "std       0.330743     0.298572     4.834733          1990.758951   \n",
       "min       1.000000     1.000000     1.000000            14.000000   \n",
       "25%       1.000000     1.000000     1.000000           296.000000   \n",
       "50%       1.000000     1.000000     1.000000           675.500000   \n",
       "75%       1.000000     1.000000     2.000000          1481.500000   \n",
       "max       7.000000     5.000000    30.000000         53232.000000   \n",
       "\n",
       "       orders_avg_amount  no_order_days  \n",
       "count        2400.000000    2400.000000  \n",
       "mean         1114.674906     204.573333  \n",
       "std          1540.709818     110.643958  \n",
       "min            14.000000       1.000000  \n",
       "25%           276.875000     110.000000  \n",
       "50%           652.000000     212.000000  \n",
       "75%          1349.250000     295.000000  \n",
       "max         26616.000000     396.000000  "
      ]
     },
     "execution_count": 69,
     "metadata": {},
     "output_type": "execute_result"
    }
   ],
   "source": [
    "customers.describe()"
   ]
  },
  {
   "cell_type": "markdown",
   "metadata": {},
   "source": [
    "__Посмотрим на распределения признаков клиентов__"
   ]
  },
  {
   "cell_type": "code",
   "execution_count": 70,
   "metadata": {},
   "outputs": [
    {
     "data": {
      "image/png": "[encoded data removed]",
      "text/plain": [
       "<Figure size 432x288 with 1 Axes>"
      ]
     },
     "metadata": {
      "needs_background": "light"
     },
     "output_type": "display_data"
    },
    {
     "data": {
      "image/png": "[encoded data removed]",
      "text/plain": [
       "<Figure size 432x288 with 1 Axes>"
      ]
     },
     "metadata": {
      "needs_background": "light"
     },
     "output_type": "display_data"
    },
    {
     "data": {
      "image/png": "[encoded data removed]",
      "text/plain": [
       "<Figure size 432x288 with 1 Axes>"
      ]
     },
     "metadata": {
      "needs_background": "light"
     },
     "output_type": "display_data"
    },
    {
     "data": {
      "image/png": "[encoded data removed]",
      "text/plain": [
       "<Figure size 432x288 with 1 Axes>"
      ]
     },
     "metadata": {
      "needs_background": "light"
     },
     "output_type": "display_data"
    },
    {
     "data": {
      "image/png": "[encoded data removed]",
      "text/plain": [
       "<Figure size 432x288 with 1 Axes>"
      ]
     },
     "metadata": {
      "needs_background": "light"
     },
     "output_type": "display_data"
    },
    {
     "data": {
      "image/png": "[encoded data removed]",
      "text/plain": [
       "<Figure size 432x288 with 1 Axes>"
      ]
     },
     "metadata": {
      "needs_background": "light"
     },
     "output_type": "display_data"
    }
   ],
   "source": [
    "for col in customers.drop(['customer_id'], axis=1).columns:\n",
    "  sns.distplot(customers[col], bins = 10)\n",
    "  plt.show()"
   ]
  },
  {
   "cell_type": "markdown",
   "metadata": {},
   "source": [
    "Распределения признаков ничего нового о поведении покупателях не показали, выше эти выводы уже сделаны. Добавился новый показатель - число дней с последнего заказа. Видно, что признак распределен нормально."
   ]
  },
  {
   "cell_type": "markdown",
   "metadata": {},
   "source": [
    "__Построим тепловую карту для корреляции признаков__"
   ]
  },
  {
   "cell_type": "code",
   "execution_count": 71,
   "metadata": {},
   "outputs": [
    {
     "data": {
      "image/png": "[encoded data removed]",
      "text/plain": [
       "<Figure size 576x576 with 2 Axes>"
      ]
     },
     "metadata": {
      "needs_background": "light"
     },
     "output_type": "display_data"
    }
   ],
   "source": [
    "#построим и отрисуем матрицу корреляций\n",
    "cm = customers.drop(['customer_id'], axis=1).corr()\n",
    "fig = plt.figure(figsize=(8,8))\n",
    "# тепловая карта для матрицы корреляций\n",
    "sns.heatmap(cm, \n",
    "            annot=True, \n",
    "            square=True,\n",
    "            linewidths=.5, \n",
    "            linecolor='gray',\n",
    "            fmt='.1%'\n",
    "           )\n",
    "\n",
    "# фикс кривизны отрисовки карты\n",
    "b, t = plt.ylim()\n",
    "b += 0.5\n",
    "t -= 0.5\n",
    "plt.ylim(b, t)\n",
    "\n",
    "plt.show()"
   ]
  },
  {
   "cell_type": "markdown",
   "metadata": {},
   "source": [
    "Взаимосвязи можно выявить по тепловой карте:\n",
    "- кол-во категорий, в которых покупатель выбирал товары, связано с числом заказов на покупателя\n",
    "- ср. число товаров в заказе связано с общей стоимостью заказов\n",
    "- ср. чек связан с общей суммой по заказам. Т.к. тут связь сильная, то один из параметров стоит исключить из дальнейшего рассмотрения."
   ]
  },
  {
   "cell_type": "code",
   "execution_count": 72,
   "metadata": {},
   "outputs": [],
   "source": [
    "# уберем orders_total_amount из матрицы признаков\n",
    "customers.drop(['orders_total_amount'], axis=1, inplace=True)"
   ]
  },
  {
   "cell_type": "markdown",
   "metadata": {},
   "source": [
    "__Сделаем кластеризацию покупателей с использованием машинного обучения. Предварительно построим дендрограмму и выберем оптимальное число кластеров__"
   ]
  },
  {
   "cell_type": "code",
   "execution_count": 73,
   "metadata": {},
   "outputs": [],
   "source": [
    "# стандартизируем данные \n",
    "scaler = StandardScaler()\n",
    "X_sc = scaler.fit_transform(customers.drop(columns = ['customer_id']))"
   ]
  },
  {
   "cell_type": "code",
   "execution_count": 74,
   "metadata": {},
   "outputs": [
    {
     "data": {
      "image/png": "[encoded data removed]",
      "text/plain": [
       "<Figure size 1080x720 with 1 Axes>"
      ]
     },
     "metadata": {
      "needs_background": "light"
     },
     "output_type": "display_data"
    }
   ],
   "source": [
    "# дендрограмма\n",
    "linked = linkage(X_sc, method = 'ward')\n",
    "\n",
    "plt.figure(figsize=(15, 10))  \n",
    "dendrogram(linked, orientation='top')\n",
    "plt.show()"
   ]
  },
  {
   "cell_type": "code",
   "execution_count": 75,
   "metadata": {},
   "outputs": [],
   "source": [
    "# прогнозирование кластеров покупателей\n",
    "km = KMeans(n_clusters = 3, random_state = 0) # задаём число кластеров, равное 3\n",
    "labels = km.fit_predict(X_sc)"
   ]
  },
  {
   "cell_type": "markdown",
   "metadata": {},
   "source": [
    "Пробовал задавать разное число кластеров, но при значениях 5 и больше уже непонятно, чем кластеры отличаются друг от друга и, соответственно, будет непонятно как для таких кластеров делать персонализированные предложения и маркетинг.  \n",
    "Поэтому было выбрано число кластеров = 3."
   ]
  },
  {
   "cell_type": "code",
   "execution_count": 76,
   "metadata": {},
   "outputs": [
    {
     "data": {
      "text/html": [
       "<div>\n",
       "<style scoped>\n",
       "    .dataframe tbody tr th:only-of-type {\n",
       "        vertical-align: middle;\n",
       "    }\n",
       "\n",
       "    .dataframe tbody tr th {\n",
       "        vertical-align: top;\n",
       "    }\n",
       "\n",
       "    .dataframe thead th {\n",
       "        text-align: right;\n",
       "    }\n",
       "</style>\n",
       "<table border=\"1\" class=\"dataframe\">\n",
       "  <thead>\n",
       "    <tr style=\"text-align: right;\">\n",
       "      <th></th>\n",
       "      <th>customer_id</th>\n",
       "      <th>orders</th>\n",
       "      <th>category</th>\n",
       "      <th>avg_items</th>\n",
       "      <th>orders_avg_amount</th>\n",
       "      <th>no_order_days</th>\n",
       "      <th>cluster</th>\n",
       "    </tr>\n",
       "  </thead>\n",
       "  <tbody>\n",
       "    <tr>\n",
       "      <td>0</td>\n",
       "      <td>000d6849-084e-4d9f-ac03-37174eaf60c4</td>\n",
       "      <td>1</td>\n",
       "      <td>1</td>\n",
       "      <td>4.0</td>\n",
       "      <td>555.0</td>\n",
       "      <td>16</td>\n",
       "      <td>0</td>\n",
       "    </tr>\n",
       "    <tr>\n",
       "      <td>1</td>\n",
       "      <td>001cee7f-0b29-4716-b202-0042213ab038</td>\n",
       "      <td>1</td>\n",
       "      <td>1</td>\n",
       "      <td>1.0</td>\n",
       "      <td>442.0</td>\n",
       "      <td>258</td>\n",
       "      <td>0</td>\n",
       "    </tr>\n",
       "    <tr>\n",
       "      <td>2</td>\n",
       "      <td>00299f34-5385-4d13-9aea-c80b81658e1b</td>\n",
       "      <td>1</td>\n",
       "      <td>1</td>\n",
       "      <td>2.0</td>\n",
       "      <td>914.0</td>\n",
       "      <td>18</td>\n",
       "      <td>0</td>\n",
       "    </tr>\n",
       "    <tr>\n",
       "      <td>3</td>\n",
       "      <td>002d4d3a-4a59-406b-86ec-c3314357e498</td>\n",
       "      <td>1</td>\n",
       "      <td>1</td>\n",
       "      <td>1.0</td>\n",
       "      <td>1649.0</td>\n",
       "      <td>278</td>\n",
       "      <td>0</td>\n",
       "    </tr>\n",
       "    <tr>\n",
       "      <td>4</td>\n",
       "      <td>003bbd39-0000-41ff-b7f9-2ddaec152037</td>\n",
       "      <td>1</td>\n",
       "      <td>1</td>\n",
       "      <td>2.0</td>\n",
       "      <td>2324.0</td>\n",
       "      <td>33</td>\n",
       "      <td>0</td>\n",
       "    </tr>\n",
       "  </tbody>\n",
       "</table>\n",
       "</div>"
      ],
      "text/plain": [
       "                            customer_id  orders  category  avg_items  \\\n",
       "0  000d6849-084e-4d9f-ac03-37174eaf60c4       1         1        4.0   \n",
       "1  001cee7f-0b29-4716-b202-0042213ab038       1         1        1.0   \n",
       "2  00299f34-5385-4d13-9aea-c80b81658e1b       1         1        2.0   \n",
       "3  002d4d3a-4a59-406b-86ec-c3314357e498       1         1        1.0   \n",
       "4  003bbd39-0000-41ff-b7f9-2ddaec152037       1         1        2.0   \n",
       "\n",
       "   orders_avg_amount  no_order_days  cluster  \n",
       "0              555.0             16        0  \n",
       "1              442.0            258        0  \n",
       "2              914.0             18        0  \n",
       "3             1649.0            278        0  \n",
       "4             2324.0             33        0  "
      ]
     },
     "execution_count": 76,
     "metadata": {},
     "output_type": "execute_result"
    }
   ],
   "source": [
    "customers['cluster'] = labels\n",
    "customers.head()"
   ]
  },
  {
   "cell_type": "markdown",
   "metadata": {},
   "source": [
    "__Сравним средние значения признаков по кластерам__"
   ]
  },
  {
   "cell_type": "code",
   "execution_count": 77,
   "metadata": {},
   "outputs": [
    {
     "data": {
      "text/html": [
       "<div>\n",
       "<style scoped>\n",
       "    .dataframe tbody tr th:only-of-type {\n",
       "        vertical-align: middle;\n",
       "    }\n",
       "\n",
       "    .dataframe tbody tr th {\n",
       "        vertical-align: top;\n",
       "    }\n",
       "\n",
       "    .dataframe thead th {\n",
       "        text-align: right;\n",
       "    }\n",
       "</style>\n",
       "<table border=\"1\" class=\"dataframe\">\n",
       "  <thead>\n",
       "    <tr style=\"text-align: right;\">\n",
       "      <th></th>\n",
       "      <th>orders</th>\n",
       "      <th>category</th>\n",
       "      <th>avg_items</th>\n",
       "      <th>orders_avg_amount</th>\n",
       "      <th>no_order_days</th>\n",
       "    </tr>\n",
       "    <tr>\n",
       "      <th>cluster</th>\n",
       "      <th></th>\n",
       "      <th></th>\n",
       "      <th></th>\n",
       "      <th></th>\n",
       "      <th></th>\n",
       "    </tr>\n",
       "  </thead>\n",
       "  <tbody>\n",
       "    <tr>\n",
       "      <td>0</td>\n",
       "      <td>1.000000</td>\n",
       "      <td>1.000000</td>\n",
       "      <td>1.901808</td>\n",
       "      <td>1011.985833</td>\n",
       "      <td>203.851490</td>\n",
       "    </tr>\n",
       "    <tr>\n",
       "      <td>1</td>\n",
       "      <td>1.034146</td>\n",
       "      <td>1.575610</td>\n",
       "      <td>14.958537</td>\n",
       "      <td>2259.409756</td>\n",
       "      <td>231.160976</td>\n",
       "    </tr>\n",
       "    <tr>\n",
       "      <td>2</td>\n",
       "      <td>2.216216</td>\n",
       "      <td>1.256757</td>\n",
       "      <td>2.926560</td>\n",
       "      <td>949.363337</td>\n",
       "      <td>177.729730</td>\n",
       "    </tr>\n",
       "  </tbody>\n",
       "</table>\n",
       "</div>"
      ],
      "text/plain": [
       "           orders  category  avg_items  orders_avg_amount  no_order_days\n",
       "cluster                                                                 \n",
       "0        1.000000  1.000000   1.901808        1011.985833     203.851490\n",
       "1        1.034146  1.575610  14.958537        2259.409756     231.160976\n",
       "2        2.216216  1.256757   2.926560         949.363337     177.729730"
      ]
     },
     "execution_count": 77,
     "metadata": {},
     "output_type": "execute_result"
    }
   ],
   "source": [
    "customers.groupby('cluster').mean()"
   ]
  },
  {
   "cell_type": "markdown",
   "metadata": {},
   "source": [
    "Выделено 3 кластера, которые различаются: \n",
    "- по числу заказов\n",
    "- по среднему чеку\n",
    "- по числу дней с последнего заказа\n",
    "\n",
    "По этим кластерам покупателей можно строить маркетинговые активности для повышения LTV, ср. чек, реактивации покупателей."
   ]
  },
  {
   "cell_type": "markdown",
   "metadata": {},
   "source": [
    "__Проверим наличие связей между категориями товаров__"
   ]
  },
  {
   "cell_type": "code",
   "execution_count": 78,
   "metadata": {},
   "outputs": [
    {
     "data": {
      "text/html": [
       "<div>\n",
       "<style scoped>\n",
       "    .dataframe tbody tr th:only-of-type {\n",
       "        vertical-align: middle;\n",
       "    }\n",
       "\n",
       "    .dataframe tbody tr th {\n",
       "        vertical-align: top;\n",
       "    }\n",
       "\n",
       "    .dataframe thead th {\n",
       "        text-align: right;\n",
       "    }\n",
       "</style>\n",
       "<table border=\"1\" class=\"dataframe\">\n",
       "  <thead>\n",
       "    <tr style=\"text-align: right;\">\n",
       "      <th></th>\n",
       "      <th>customer_id</th>\n",
       "      <th>category_name</th>\n",
       "      <th>items_count</th>\n",
       "    </tr>\n",
       "  </thead>\n",
       "  <tbody>\n",
       "    <tr>\n",
       "      <td>0</td>\n",
       "      <td>000d6849-084e-4d9f-ac03-37174eaf60c4</td>\n",
       "      <td>растения</td>\n",
       "      <td>4</td>\n",
       "    </tr>\n",
       "    <tr>\n",
       "      <td>1</td>\n",
       "      <td>001cee7f-0b29-4716-b202-0042213ab038</td>\n",
       "      <td>для дома</td>\n",
       "      <td>1</td>\n",
       "    </tr>\n",
       "    <tr>\n",
       "      <td>2</td>\n",
       "      <td>00299f34-5385-4d13-9aea-c80b81658e1b</td>\n",
       "      <td>для дома</td>\n",
       "      <td>2</td>\n",
       "    </tr>\n",
       "    <tr>\n",
       "      <td>3</td>\n",
       "      <td>002d4d3a-4a59-406b-86ec-c3314357e498</td>\n",
       "      <td>сумки и тележки</td>\n",
       "      <td>1</td>\n",
       "    </tr>\n",
       "    <tr>\n",
       "      <td>4</td>\n",
       "      <td>003bbd39-0000-41ff-b7f9-2ddaec152037</td>\n",
       "      <td>для дома</td>\n",
       "      <td>2</td>\n",
       "    </tr>\n",
       "  </tbody>\n",
       "</table>\n",
       "</div>"
      ],
      "text/plain": [
       "                            customer_id    category_name  items_count\n",
       "0  000d6849-084e-4d9f-ac03-37174eaf60c4         растения            4\n",
       "1  001cee7f-0b29-4716-b202-0042213ab038         для дома            1\n",
       "2  00299f34-5385-4d13-9aea-c80b81658e1b         для дома            2\n",
       "3  002d4d3a-4a59-406b-86ec-c3314357e498  сумки и тележки            1\n",
       "4  003bbd39-0000-41ff-b7f9-2ddaec152037         для дома            2"
      ]
     },
     "execution_count": 78,
     "metadata": {},
     "output_type": "execute_result"
    }
   ],
   "source": [
    "# посчитаем в каких категориях и сколько товаров купил каждый покупатель\n",
    "category = orders.groupby(['customer_id', 'category']).agg({'quantity': 'sum'}).reset_index()\n",
    "category.columns = ['customer_id', 'category_name', 'items_count']\n",
    "category.head()"
   ]
  },
  {
   "cell_type": "code",
   "execution_count": 79,
   "metadata": {},
   "outputs": [
    {
     "data": {
      "text/html": [
       "<div>\n",
       "<style scoped>\n",
       "    .dataframe tbody tr th:only-of-type {\n",
       "        vertical-align: middle;\n",
       "    }\n",
       "\n",
       "    .dataframe tbody tr th {\n",
       "        vertical-align: top;\n",
       "    }\n",
       "\n",
       "    .dataframe thead th {\n",
       "        text-align: right;\n",
       "    }\n",
       "</style>\n",
       "<table border=\"1\" class=\"dataframe\">\n",
       "  <thead>\n",
       "    <tr style=\"text-align: right;\">\n",
       "      <th>category_name</th>\n",
       "      <th>для ванной</th>\n",
       "      <th>для дома</th>\n",
       "      <th>для кухни</th>\n",
       "      <th>для ремонта</th>\n",
       "      <th>для спальни</th>\n",
       "      <th>для уборки</th>\n",
       "      <th>другое</th>\n",
       "      <th>искусственные растения</th>\n",
       "      <th>рассада</th>\n",
       "      <th>растения</th>\n",
       "      <th>сумки и тележки</th>\n",
       "      <th>упаковка и хранение</th>\n",
       "    </tr>\n",
       "    <tr>\n",
       "      <th>customer_id</th>\n",
       "      <th></th>\n",
       "      <th></th>\n",
       "      <th></th>\n",
       "      <th></th>\n",
       "      <th></th>\n",
       "      <th></th>\n",
       "      <th></th>\n",
       "      <th></th>\n",
       "      <th></th>\n",
       "      <th></th>\n",
       "      <th></th>\n",
       "      <th></th>\n",
       "    </tr>\n",
       "  </thead>\n",
       "  <tbody>\n",
       "    <tr>\n",
       "      <td>000d6849-084e-4d9f-ac03-37174eaf60c4</td>\n",
       "      <td>0.0</td>\n",
       "      <td>0.0</td>\n",
       "      <td>0.0</td>\n",
       "      <td>0.0</td>\n",
       "      <td>0.0</td>\n",
       "      <td>0.0</td>\n",
       "      <td>0.0</td>\n",
       "      <td>0.0</td>\n",
       "      <td>0.0</td>\n",
       "      <td>4.0</td>\n",
       "      <td>0.0</td>\n",
       "      <td>0.0</td>\n",
       "    </tr>\n",
       "    <tr>\n",
       "      <td>001cee7f-0b29-4716-b202-0042213ab038</td>\n",
       "      <td>0.0</td>\n",
       "      <td>1.0</td>\n",
       "      <td>0.0</td>\n",
       "      <td>0.0</td>\n",
       "      <td>0.0</td>\n",
       "      <td>0.0</td>\n",
       "      <td>0.0</td>\n",
       "      <td>0.0</td>\n",
       "      <td>0.0</td>\n",
       "      <td>0.0</td>\n",
       "      <td>0.0</td>\n",
       "      <td>0.0</td>\n",
       "    </tr>\n",
       "    <tr>\n",
       "      <td>00299f34-5385-4d13-9aea-c80b81658e1b</td>\n",
       "      <td>0.0</td>\n",
       "      <td>2.0</td>\n",
       "      <td>0.0</td>\n",
       "      <td>0.0</td>\n",
       "      <td>0.0</td>\n",
       "      <td>0.0</td>\n",
       "      <td>0.0</td>\n",
       "      <td>0.0</td>\n",
       "      <td>0.0</td>\n",
       "      <td>0.0</td>\n",
       "      <td>0.0</td>\n",
       "      <td>0.0</td>\n",
       "    </tr>\n",
       "    <tr>\n",
       "      <td>002d4d3a-4a59-406b-86ec-c3314357e498</td>\n",
       "      <td>0.0</td>\n",
       "      <td>0.0</td>\n",
       "      <td>0.0</td>\n",
       "      <td>0.0</td>\n",
       "      <td>0.0</td>\n",
       "      <td>0.0</td>\n",
       "      <td>0.0</td>\n",
       "      <td>0.0</td>\n",
       "      <td>0.0</td>\n",
       "      <td>0.0</td>\n",
       "      <td>1.0</td>\n",
       "      <td>0.0</td>\n",
       "    </tr>\n",
       "    <tr>\n",
       "      <td>003bbd39-0000-41ff-b7f9-2ddaec152037</td>\n",
       "      <td>0.0</td>\n",
       "      <td>2.0</td>\n",
       "      <td>0.0</td>\n",
       "      <td>0.0</td>\n",
       "      <td>0.0</td>\n",
       "      <td>0.0</td>\n",
       "      <td>0.0</td>\n",
       "      <td>0.0</td>\n",
       "      <td>0.0</td>\n",
       "      <td>0.0</td>\n",
       "      <td>0.0</td>\n",
       "      <td>0.0</td>\n",
       "    </tr>\n",
       "  </tbody>\n",
       "</table>\n",
       "</div>"
      ],
      "text/plain": [
       "category_name                         для ванной  для дома  для кухни  \\\n",
       "customer_id                                                             \n",
       "000d6849-084e-4d9f-ac03-37174eaf60c4         0.0       0.0        0.0   \n",
       "001cee7f-0b29-4716-b202-0042213ab038         0.0       1.0        0.0   \n",
       "00299f34-5385-4d13-9aea-c80b81658e1b         0.0       2.0        0.0   \n",
       "002d4d3a-4a59-406b-86ec-c3314357e498         0.0       0.0        0.0   \n",
       "003bbd39-0000-41ff-b7f9-2ddaec152037         0.0       2.0        0.0   \n",
       "\n",
       "category_name                         для ремонта  для спальни  для уборки  \\\n",
       "customer_id                                                                  \n",
       "000d6849-084e-4d9f-ac03-37174eaf60c4          0.0          0.0         0.0   \n",
       "001cee7f-0b29-4716-b202-0042213ab038          0.0          0.0         0.0   \n",
       "00299f34-5385-4d13-9aea-c80b81658e1b          0.0          0.0         0.0   \n",
       "002d4d3a-4a59-406b-86ec-c3314357e498          0.0          0.0         0.0   \n",
       "003bbd39-0000-41ff-b7f9-2ddaec152037          0.0          0.0         0.0   \n",
       "\n",
       "category_name                         другое  искусственные растения  рассада  \\\n",
       "customer_id                                                                     \n",
       "000d6849-084e-4d9f-ac03-37174eaf60c4     0.0                     0.0      0.0   \n",
       "001cee7f-0b29-4716-b202-0042213ab038     0.0                     0.0      0.0   \n",
       "00299f34-5385-4d13-9aea-c80b81658e1b     0.0                     0.0      0.0   \n",
       "002d4d3a-4a59-406b-86ec-c3314357e498     0.0                     0.0      0.0   \n",
       "003bbd39-0000-41ff-b7f9-2ddaec152037     0.0                     0.0      0.0   \n",
       "\n",
       "category_name                         растения  сумки и тележки  \\\n",
       "customer_id                                                       \n",
       "000d6849-084e-4d9f-ac03-37174eaf60c4       4.0              0.0   \n",
       "001cee7f-0b29-4716-b202-0042213ab038       0.0              0.0   \n",
       "00299f34-5385-4d13-9aea-c80b81658e1b       0.0              0.0   \n",
       "002d4d3a-4a59-406b-86ec-c3314357e498       0.0              1.0   \n",
       "003bbd39-0000-41ff-b7f9-2ddaec152037       0.0              0.0   \n",
       "\n",
       "category_name                         упаковка и хранение  \n",
       "customer_id                                                \n",
       "000d6849-084e-4d9f-ac03-37174eaf60c4                  0.0  \n",
       "001cee7f-0b29-4716-b202-0042213ab038                  0.0  \n",
       "00299f34-5385-4d13-9aea-c80b81658e1b                  0.0  \n",
       "002d4d3a-4a59-406b-86ec-c3314357e498                  0.0  \n",
       "003bbd39-0000-41ff-b7f9-2ddaec152037                  0.0  "
      ]
     },
     "execution_count": 79,
     "metadata": {},
     "output_type": "execute_result"
    }
   ],
   "source": [
    "category_matrix = category.pivot_table(index = 'customer_id', \n",
    "                                       columns = 'category_name', \n",
    "                                       values='items_count', \n",
    "                                       aggfunc='sum')\n",
    "category_matrix.fillna(0, inplace=True)\n",
    "category_matrix.head()"
   ]
  },
  {
   "cell_type": "code",
   "execution_count": 80,
   "metadata": {},
   "outputs": [
    {
     "name": "stdout",
     "output_type": "stream",
     "text": [
      "<class 'pandas.core.frame.DataFrame'>\n",
      "Index: 2400 entries, 000d6849-084e-4d9f-ac03-37174eaf60c4 to ffe82299-3f5b-4214-87fe-3d36ecccfac3\n",
      "Data columns (total 12 columns):\n",
      "для ванной                2400 non-null float64\n",
      "для дома                  2400 non-null float64\n",
      "для кухни                 2400 non-null float64\n",
      "для ремонта               2400 non-null float64\n",
      "для спальни               2400 non-null float64\n",
      "для уборки                2400 non-null float64\n",
      "другое                    2400 non-null float64\n",
      "искусственные растения    2400 non-null float64\n",
      "рассада                   2400 non-null float64\n",
      "растения                  2400 non-null float64\n",
      "сумки и тележки           2400 non-null float64\n",
      "упаковка и хранение       2400 non-null float64\n",
      "dtypes: float64(12)\n",
      "memory usage: 243.8+ KB\n"
     ]
    }
   ],
   "source": [
    "category_matrix.info()"
   ]
  },
  {
   "cell_type": "code",
   "execution_count": 81,
   "metadata": {},
   "outputs": [
    {
     "data": {
      "image/png": "[encoded data removed]",
      "text/plain": [
       "<Figure size 720x720 with 2 Axes>"
      ]
     },
     "metadata": {
      "needs_background": "light"
     },
     "output_type": "display_data"
    }
   ],
   "source": [
    "#построим и отрисуем матрицу корреляций\n",
    "cm = category_matrix.corr()\n",
    "fig = plt.figure(figsize=(10,10))\n",
    "# тепловая карта для матрицы корреляций\n",
    "sns.heatmap(cm, \n",
    "            annot=True, \n",
    "            square=True,\n",
    "            linewidths=.5, \n",
    "            linecolor='gray',\n",
    "            vmin=0,\n",
    "            vmax=0.3,\n",
    "            fmt='.1%'\n",
    "           )\n",
    "\n",
    "# фикс кривизны отрисовки карты\n",
    "b, t = plt.ylim()\n",
    "b += 0.5\n",
    "t -= 0.5\n",
    "plt.ylim(b, t)\n",
    "\n",
    "plt.show()"
   ]
  },
  {
   "cell_type": "markdown",
   "metadata": {},
   "source": [
    "Можно сделать вывод, что корреляция существует для категорий товаров:\n",
    "- Растения и рассада\n",
    "- слабая между Товары для дома и Тележки\n",
    "\n",
    "Внедрение рекомендательной системы должно, в первую очередь, исправить эту картину. Если покупателям будут показываться товары из связанных категорий, то должно увеличиться число заказов с товарами из рахных категорий, увеличится ср. чек."
   ]
  },
  {
   "cell_type": "markdown",
   "metadata": {},
   "source": [
    "Матрица category_matrix может использоваться для формирования персонализированных предложений клиентах на основе категорий их прошлых покупок."
   ]
  },
  {
   "cell_type": "markdown",
   "metadata": {},
   "source": [
    "### Вывод\n",
    "- сформирована матрица признаков покупателей, проверены распределения и зависимости между признаками. Распределения признаков подтвердили выводы про число повторных покупок, ср. чек и т.д. сделаные ранее\n",
    "- с помощью методов машинного обучения выполнена кластеризация покупателей, выделены 3 сегмента, которые затем могут использоваться в маркетинговых активностях.\n",
    "- выявлены связи между категориями товаров. Хотя и большенство покупателей покупают товары только из одной категории, существует взаимосвязь между категоряими Растения и Рассада"
   ]
  },
  {
   "cell_type": "markdown",
   "metadata": {},
   "source": [
    "<a id='ideas'></a>\n",
    "### 4. Проверка гипотез\n",
    "Цель шага - проверить гипотезы и сформулировать на основе них рекомендации.\n",
    "\n",
    "Проверить гипотезы:\n",
    "- большенство покупателей делают только один заказ. Сделать вывод о необходимости дальнейшего анализа причин низкого LTV.\n",
    "- большенство покупателей покупают товары из одной категории. Сделать вывод о формировании персонализированных рекомендаций покупателям."
   ]
  },
  {
   "cell_type": "markdown",
   "metadata": {},
   "source": [
    "__Проверка гипотезы: большенство покупателей делают только один заказ__"
   ]
  },
  {
   "cell_type": "code",
   "execution_count": 82,
   "metadata": {},
   "outputs": [
    {
     "data": {
      "text/plain": [
       "<matplotlib.axes._subplots.AxesSubplot at 0x196f5288a48>"
      ]
     },
     "execution_count": 82,
     "metadata": {},
     "output_type": "execute_result"
    },
    {
     "data": {
      "image/png": "[encoded data removed]",
      "text/plain": [
       "<Figure size 720x360 with 1 Axes>"
      ]
     },
     "metadata": {
      "needs_background": "light"
     },
     "output_type": "display_data"
    }
   ],
   "source": [
    "customers['orders'].plot(kind='hist',\n",
    "          bins=10,\n",
    "          title='Повторные заказы', \n",
    "          figsize=(10,5)\n",
    "         )"
   ]
  },
  {
   "cell_type": "code",
   "execution_count": 83,
   "metadata": {},
   "outputs": [
    {
     "name": "stdout",
     "output_type": "stream",
     "text": [
      "Число покупателей с одним заказом: 2245 \n",
      " в % от общего числа покупателей: 93.54% \n",
      "\n"
     ]
    }
   ],
   "source": [
    "print('Число покупателей с одним заказом:', \n",
    "      customers.query('orders == 1').shape[0],\n",
    "      '\\n',\n",
    "      'в % от общего числа покупателей: {:.2%}'.format(customers.query('orders == 1').shape[0] / customers.shape[0]), \n",
    "      '\\n'\n",
    "     )"
   ]
  },
  {
   "cell_type": "markdown",
   "metadata": {},
   "source": [
    "Можно сделать вывод, что более 93% покупателей сделали только один заказ. Необходимо проводить анализ поведения покупателей, выявлять причины отсутствия повторных покупок. Повышение LTV - это сильная точка роста выручки этого магазина. "
   ]
  },
  {
   "cell_type": "markdown",
   "metadata": {},
   "source": [
    "__Проверка гипотезы: большенство покупателей покупают товары из одной категории__"
   ]
  },
  {
   "cell_type": "code",
   "execution_count": 84,
   "metadata": {},
   "outputs": [
    {
     "name": "stdout",
     "output_type": "stream",
     "text": [
      "Покупатели с товарами из одной категории: 2268 \n",
      " в % от общего числа покупателей: 94.50%\n"
     ]
    }
   ],
   "source": [
    "df = orders.groupby('customer_id').agg({'category': 'nunique'}).reset_index()\n",
    "\n",
    "print('Покупатели с товарами из одной категории:', \n",
    "      df.query('category == 1').shape[0], \n",
    "      '\\n',\n",
    "      'в % от общего числа покупателей: {:.2%}'.format(df.query('category == 1').shape[0] / df.shape[0])\n",
    "     )"
   ]
  },
  {
   "cell_type": "markdown",
   "metadata": {},
   "source": [
    "Аналогичная ситуация - более 94% покупателей покупают товары только из одной категории."
   ]
  },
  {
   "cell_type": "markdown",
   "metadata": {},
   "source": [
    "### Вывод\n",
    "Обе гипотезы подтвердились:\n",
    "- более 93% покупателей сделали только один заказ\n",
    "- более 94% покупателей покупают товары только из одной категории\n",
    "\n",
    "статистические методы проверки гипотез не применялись, нет смысла."
   ]
  },
  {
   "cell_type": "markdown",
   "metadata": {},
   "source": [
    "<a id='recomendations'></a>\n",
    "## Выводы и рекомендации\n",
    "\n",
    "### Презентация\n",
    "https://drive.google.com/file/d/1lcg2x-bqpwJHxRHTigu3zKcKaFz3SfxE/view?usp=sharing\n",
    "\n",
    "### Профили потребления\n",
    "Из анализа данных по заказам выявлены следующие особенности поведения покупателей:\n",
    "- более 93% покупателей сделали только один заказ. Одиночные заказы - это норма поведения покупателей, повторные заказы, в данном случае, исключительная ситуация. LTV клиентов не будет высоким в этом случае.\n",
    "- в более 85% заказов только одно наименование товара. Это может говорить о том, что нет рекомендательной системы или система поиска товаров сложная или неудобная. Покупатель ищет конкретный товар и ему не предлагаются связанные или дополнительные товары.\n",
    "- в продажах товаров категорий Растения и Рассада есть сезонность - весной продажи заметно растут.\n",
    "- дней с повышенным числом заказов не выявлено. Заказы равномерно распределены по всем дням недели.\n",
    "- средний чек - 1130 руб. При этом 75% заказов с чеком до 1350 руб.\n",
    "\n",
    "Максимальное число товаров в категориях:\n",
    "- растения\n",
    "- товары для дома\n",
    "- товары для кухни\n",
    "- рассада\n",
    "- искусственные растения\n",
    "\n",
    "Наибольшую выручку приносят категории:\n",
    "- для дома\n",
    "- сумки и тележки\n",
    "- растения\t\n",
    "- для кухни\n",
    "- упаковка и хранение\n",
    "\n",
    "При этом лидеры по числу проданных единиц товара:\n",
    "- растения\n",
    "- искусственные растения\n",
    "- товары для дома\n",
    "- товары для кухни\n",
    "- рассада\n",
    "\n",
    "### Сегменты покупателей\n",
    "С помощью методов машинного обучения выполнена кластеризация покупателей выделены 3 сегмента, которые различаются: \n",
    "- по числу заказов\n",
    "- по среднему чеку\n",
    "- по числу дней с последнего заказа\n",
    "По этим кластерам покупателей можно строить маркетинговые активности для повышения LTV, ср. чек, реактивации покупателей.\n",
    "\n",
    "Выявлены связи между категориями товаров. Хотя и большенство покупателей покупают товары только из одной категории, существует взаимосвязь между категоряими Растения и Рассада\n",
    "\n",
    "### Рекомендации\n",
    "- выполнить дополнительный анализ поведения покупателей, выявить причины низкого числа повторных покупок. Увеличение LTV приведет к росту выручки магазина.\n",
    "- внедрить рекомендательную систему, проанализировать структуру каталога, навигацию, поиск и т.д. влияющие на поведение клиента при поиске товары. Клиенты выбирают один товар из одной категории - это плохой показатель и это сказывается на низком ср. чеке и ср. выручке заказа.\n",
    "- формировать персонализированные предложения на основе сформированных сегментов покупателей."
   ]
  }
 ],
 "metadata": {
  "kernelspec": {
   "display_name": "Python 3",
   "language": "python",
   "name": "python3"
  },
  "language_info": {
   "codemirror_mode": {
    "name": "ipython",
    "version": 3
   },
   "file_extension": ".py",
   "mimetype": "text/x-python",
   "name": "python",
   "nbconvert_exporter": "python",
   "pygments_lexer": "ipython3",
   "version": "3.7.4"
  }
 },
 "nbformat": 4,
 "nbformat_minor": 2
}
