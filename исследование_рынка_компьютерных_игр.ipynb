{
 "cells": [
  {
   "cell_type": "markdown",
   "metadata": {},
   "source": [
    "# Определение закономерностей определяющих успешность компьютерной игры\n",
    "\n",
    "Вы работаете в интернет-магазине «Стримчик», который продаёт по всему миру компьютерные игры.  \n",
    "Из открытых источников доступны исторические данные о продажах игр, оценки пользователей и экспертов, жанры и платформы (например, Xbox или PlayStation). Вам нужно выявить определяющие успешность игры закономерности. Это позволит сделать ставку на потенциально популярный продукт и спланировать рекламные кампании.  \n",
    "Перед вами данные до 2016 года. Представим, что сейчас декабрь 2016 г., и вы планируете кампанию на 2017-й. Нужно отработать принцип работы с данными. Не важно, прогнозируете ли вы продажи на 2017 год по данным 2016-го или же 2027-й — по данным 2026 года."
   ]
  },
  {
   "cell_type": "markdown",
   "metadata": {},
   "source": [
    "## Задачи исследования\n",
    "- подготовить данные для анализа\n",
    "- провести исследовательский анализ данных  \n",
    " - Посмотрите, сколько игр выпускалось в разные годы. Важны ли данные за все периоды?\n",
    " - Посмотрите, как менялись продажи по платформам. Выберите платформы с наибольшими суммарными продажами и постройте распределение по годам. За какой характерный срок появляются новые и исчезают старые платформы?\n",
    " - Возьмите данные за соответствующий актуальный период. Актуальный период определите самостоятельно в результате исследования предыдущих вопросов. Основной фактор — эти данные помогут построить прогноз на 2017 год.\n",
    " - Какие платформы лидируют по продажам, растут или падают? Выберите несколько потенциально прибыльных платформ.\n",
    " - Постройте график «ящик с усами» по глобальным продажам игр в разбивке по платформам. Опишите результат.\n",
    " - Посмотрите, как влияют на продажи внутри одной популярной платформы отзывы пользователей и критиков. Постройте диаграмму рассеяния и посчитайте корреляцию между отзывами и продажами. Сформулируйте выводы.\n",
    " - Соотнесите выводы с продажами игр на других платформах.\n",
    " - Посмотрите на общее распределение игр по жанрам. Что можно сказать о самых прибыльных жанрах? Выделяются ли жанры с высокими и низкими продажами?\n",
    "- составить \"портрет\" пользователя для каждого региона\n",
    " - Самые популярные платформы (топ-5). Опишите различия в долях продаж.\n",
    " - Самые популярные жанры (топ-5). Поясните разницу.\n",
    " - Влияет ли рейтинг ESRB на продажи в отдельном регионе?\n",
    "- проверить гипотезы\n",
    " - Средние пользовательские рейтинги платформ Xbox One и PC одинаковые;\n",
    " - Средние пользовательские рейтинги жанров Action (англ. «действие», экшен-игры) и Sports (англ. «спортивные соревнования») разные."
   ]
  },
  {
   "cell_type": "markdown",
   "metadata": {},
   "source": [
    "## Описание данных\n",
    "- Name — название игры\n",
    "- Platform — платформа\n",
    "- Year_of_Release — год выпуска\n",
    "- Genre — жанр игры\n",
    "- NA_sales — продажи в Северной Америке (миллионы долларов)\n",
    "- EU_sales — продажи в Европе (миллионы долларов)\n",
    "- JP_sales — продажи в Японии (миллионы долларов)\n",
    "- Other_sales — продажи в других странах (миллионы долларов)\n",
    "- Critic_Score — оценка критиков (максимум 100)\n",
    "- User_Score — оценка пользователей (максимум 10)\n",
    "- Rating — рейтинг от организации ESRB (англ. Entertainment Software Rating Board). Эта ассоциация определяет рейтинг компьютерных игр и присваивает им подходящую возрастную категорию."
   ]
  },
  {
   "cell_type": "markdown",
   "metadata": {},
   "source": [
    "### Шаг 1. Откройте файл с данными и изучите общую информацию"
   ]
  },
  {
   "cell_type": "code",
   "execution_count": 1,
   "metadata": {},
   "outputs": [],
   "source": [
    "# настраиваем окружение\n",
    "import pandas as pd\n",
    "import matplotlib.pyplot as plt\n",
    "from collections import Counter\n",
    "from math import ceil\n",
    "import seaborn as sns\n",
    "import numpy as np\n",
    "from scipy import stats as st\n",
    "\n",
    "pd.set_option('display.max_columns', None)\n",
    "pd.set_option('display.max_rows', None)"
   ]
  },
  {
   "cell_type": "code",
   "execution_count": 2,
   "metadata": {},
   "outputs": [
    {
     "name": "stdout",
     "output_type": "stream",
     "text": [
      "<class 'pandas.core.frame.DataFrame'>\n",
      "RangeIndex: 16715 entries, 0 to 16714\n",
      "Data columns (total 11 columns):\n",
      "Name               16713 non-null object\n",
      "Platform           16715 non-null object\n",
      "Year_of_Release    16446 non-null float64\n",
      "Genre              16713 non-null object\n",
      "NA_sales           16715 non-null float64\n",
      "EU_sales           16715 non-null float64\n",
      "JP_sales           16715 non-null float64\n",
      "Other_sales        16715 non-null float64\n",
      "Critic_Score       8137 non-null float64\n",
      "User_Score         10014 non-null object\n",
      "Rating             9949 non-null object\n",
      "dtypes: float64(6), object(5)\n",
      "memory usage: 1.4+ MB\n"
     ]
    },
    {
     "data": {
      "text/html": [
       "<div>\n",
       "<style scoped>\n",
       "    .dataframe tbody tr th:only-of-type {\n",
       "        vertical-align: middle;\n",
       "    }\n",
       "\n",
       "    .dataframe tbody tr th {\n",
       "        vertical-align: top;\n",
       "    }\n",
       "\n",
       "    .dataframe thead th {\n",
       "        text-align: right;\n",
       "    }\n",
       "</style>\n",
       "<table border=\"1\" class=\"dataframe\">\n",
       "  <thead>\n",
       "    <tr style=\"text-align: right;\">\n",
       "      <th></th>\n",
       "      <th>Name</th>\n",
       "      <th>Platform</th>\n",
       "      <th>Year_of_Release</th>\n",
       "      <th>Genre</th>\n",
       "      <th>NA_sales</th>\n",
       "      <th>EU_sales</th>\n",
       "      <th>JP_sales</th>\n",
       "      <th>Other_sales</th>\n",
       "      <th>Critic_Score</th>\n",
       "      <th>User_Score</th>\n",
       "      <th>Rating</th>\n",
       "    </tr>\n",
       "  </thead>\n",
       "  <tbody>\n",
       "    <tr>\n",
       "      <td>0</td>\n",
       "      <td>Wii Sports</td>\n",
       "      <td>Wii</td>\n",
       "      <td>2006.0</td>\n",
       "      <td>Sports</td>\n",
       "      <td>41.36</td>\n",
       "      <td>28.96</td>\n",
       "      <td>3.77</td>\n",
       "      <td>8.45</td>\n",
       "      <td>76.0</td>\n",
       "      <td>8</td>\n",
       "      <td>E</td>\n",
       "    </tr>\n",
       "    <tr>\n",
       "      <td>1</td>\n",
       "      <td>Super Mario Bros.</td>\n",
       "      <td>NES</td>\n",
       "      <td>1985.0</td>\n",
       "      <td>Platform</td>\n",
       "      <td>29.08</td>\n",
       "      <td>3.58</td>\n",
       "      <td>6.81</td>\n",
       "      <td>0.77</td>\n",
       "      <td>NaN</td>\n",
       "      <td>NaN</td>\n",
       "      <td>NaN</td>\n",
       "    </tr>\n",
       "    <tr>\n",
       "      <td>2</td>\n",
       "      <td>Mario Kart Wii</td>\n",
       "      <td>Wii</td>\n",
       "      <td>2008.0</td>\n",
       "      <td>Racing</td>\n",
       "      <td>15.68</td>\n",
       "      <td>12.76</td>\n",
       "      <td>3.79</td>\n",
       "      <td>3.29</td>\n",
       "      <td>82.0</td>\n",
       "      <td>8.3</td>\n",
       "      <td>E</td>\n",
       "    </tr>\n",
       "    <tr>\n",
       "      <td>3</td>\n",
       "      <td>Wii Sports Resort</td>\n",
       "      <td>Wii</td>\n",
       "      <td>2009.0</td>\n",
       "      <td>Sports</td>\n",
       "      <td>15.61</td>\n",
       "      <td>10.93</td>\n",
       "      <td>3.28</td>\n",
       "      <td>2.95</td>\n",
       "      <td>80.0</td>\n",
       "      <td>8</td>\n",
       "      <td>E</td>\n",
       "    </tr>\n",
       "    <tr>\n",
       "      <td>4</td>\n",
       "      <td>Pokemon Red/Pokemon Blue</td>\n",
       "      <td>GB</td>\n",
       "      <td>1996.0</td>\n",
       "      <td>Role-Playing</td>\n",
       "      <td>11.27</td>\n",
       "      <td>8.89</td>\n",
       "      <td>10.22</td>\n",
       "      <td>1.00</td>\n",
       "      <td>NaN</td>\n",
       "      <td>NaN</td>\n",
       "      <td>NaN</td>\n",
       "    </tr>\n",
       "  </tbody>\n",
       "</table>\n",
       "</div>"
      ],
      "text/plain": [
       "                       Name Platform  Year_of_Release         Genre  NA_sales  \\\n",
       "0                Wii Sports      Wii           2006.0        Sports     41.36   \n",
       "1         Super Mario Bros.      NES           1985.0      Platform     29.08   \n",
       "2            Mario Kart Wii      Wii           2008.0        Racing     15.68   \n",
       "3         Wii Sports Resort      Wii           2009.0        Sports     15.61   \n",
       "4  Pokemon Red/Pokemon Blue       GB           1996.0  Role-Playing     11.27   \n",
       "\n",
       "   EU_sales  JP_sales  Other_sales  Critic_Score User_Score Rating  \n",
       "0     28.96      3.77         8.45          76.0          8      E  \n",
       "1      3.58      6.81         0.77           NaN        NaN    NaN  \n",
       "2     12.76      3.79         3.29          82.0        8.3      E  \n",
       "3     10.93      3.28         2.95          80.0          8      E  \n",
       "4      8.89     10.22         1.00           NaN        NaN    NaN  "
      ]
     },
     "execution_count": 2,
     "metadata": {},
     "output_type": "execute_result"
    }
   ],
   "source": [
    "#games = pd.read_csv('C:\\\\Y.Practikum\\\\project_4\\\\dataset\\\\games.csv', sep=',')\n",
    "games = pd.read_csv('/datasets/games.csv', sep=',')\n",
    "\n",
    "games.info()\n",
    "games.head()"
   ]
  },
  {
   "cell_type": "code",
   "execution_count": 3,
   "metadata": {},
   "outputs": [
    {
     "data": {
      "text/html": [
       "<div>\n",
       "<style scoped>\n",
       "    .dataframe tbody tr th:only-of-type {\n",
       "        vertical-align: middle;\n",
       "    }\n",
       "\n",
       "    .dataframe tbody tr th {\n",
       "        vertical-align: top;\n",
       "    }\n",
       "\n",
       "    .dataframe thead th {\n",
       "        text-align: right;\n",
       "    }\n",
       "</style>\n",
       "<table border=\"1\" class=\"dataframe\">\n",
       "  <thead>\n",
       "    <tr style=\"text-align: right;\">\n",
       "      <th></th>\n",
       "      <th>Year_of_Release</th>\n",
       "      <th>NA_sales</th>\n",
       "      <th>EU_sales</th>\n",
       "      <th>JP_sales</th>\n",
       "      <th>Other_sales</th>\n",
       "      <th>Critic_Score</th>\n",
       "    </tr>\n",
       "  </thead>\n",
       "  <tbody>\n",
       "    <tr>\n",
       "      <td>count</td>\n",
       "      <td>16446.000000</td>\n",
       "      <td>16715.000000</td>\n",
       "      <td>16715.000000</td>\n",
       "      <td>16715.000000</td>\n",
       "      <td>16715.000000</td>\n",
       "      <td>8137.000000</td>\n",
       "    </tr>\n",
       "    <tr>\n",
       "      <td>mean</td>\n",
       "      <td>2006.484616</td>\n",
       "      <td>0.263377</td>\n",
       "      <td>0.145060</td>\n",
       "      <td>0.077617</td>\n",
       "      <td>0.047342</td>\n",
       "      <td>68.967679</td>\n",
       "    </tr>\n",
       "    <tr>\n",
       "      <td>std</td>\n",
       "      <td>5.877050</td>\n",
       "      <td>0.813604</td>\n",
       "      <td>0.503339</td>\n",
       "      <td>0.308853</td>\n",
       "      <td>0.186731</td>\n",
       "      <td>13.938165</td>\n",
       "    </tr>\n",
       "    <tr>\n",
       "      <td>min</td>\n",
       "      <td>1980.000000</td>\n",
       "      <td>0.000000</td>\n",
       "      <td>0.000000</td>\n",
       "      <td>0.000000</td>\n",
       "      <td>0.000000</td>\n",
       "      <td>13.000000</td>\n",
       "    </tr>\n",
       "    <tr>\n",
       "      <td>25%</td>\n",
       "      <td>2003.000000</td>\n",
       "      <td>0.000000</td>\n",
       "      <td>0.000000</td>\n",
       "      <td>0.000000</td>\n",
       "      <td>0.000000</td>\n",
       "      <td>60.000000</td>\n",
       "    </tr>\n",
       "    <tr>\n",
       "      <td>50%</td>\n",
       "      <td>2007.000000</td>\n",
       "      <td>0.080000</td>\n",
       "      <td>0.020000</td>\n",
       "      <td>0.000000</td>\n",
       "      <td>0.010000</td>\n",
       "      <td>71.000000</td>\n",
       "    </tr>\n",
       "    <tr>\n",
       "      <td>75%</td>\n",
       "      <td>2010.000000</td>\n",
       "      <td>0.240000</td>\n",
       "      <td>0.110000</td>\n",
       "      <td>0.040000</td>\n",
       "      <td>0.030000</td>\n",
       "      <td>79.000000</td>\n",
       "    </tr>\n",
       "    <tr>\n",
       "      <td>max</td>\n",
       "      <td>2016.000000</td>\n",
       "      <td>41.360000</td>\n",
       "      <td>28.960000</td>\n",
       "      <td>10.220000</td>\n",
       "      <td>10.570000</td>\n",
       "      <td>98.000000</td>\n",
       "    </tr>\n",
       "  </tbody>\n",
       "</table>\n",
       "</div>"
      ],
      "text/plain": [
       "       Year_of_Release      NA_sales      EU_sales      JP_sales  \\\n",
       "count     16446.000000  16715.000000  16715.000000  16715.000000   \n",
       "mean       2006.484616      0.263377      0.145060      0.077617   \n",
       "std           5.877050      0.813604      0.503339      0.308853   \n",
       "min        1980.000000      0.000000      0.000000      0.000000   \n",
       "25%        2003.000000      0.000000      0.000000      0.000000   \n",
       "50%        2007.000000      0.080000      0.020000      0.000000   \n",
       "75%        2010.000000      0.240000      0.110000      0.040000   \n",
       "max        2016.000000     41.360000     28.960000     10.220000   \n",
       "\n",
       "        Other_sales  Critic_Score  \n",
       "count  16715.000000   8137.000000  \n",
       "mean       0.047342     68.967679  \n",
       "std        0.186731     13.938165  \n",
       "min        0.000000     13.000000  \n",
       "25%        0.000000     60.000000  \n",
       "50%        0.010000     71.000000  \n",
       "75%        0.030000     79.000000  \n",
       "max       10.570000     98.000000  "
      ]
     },
     "execution_count": 3,
     "metadata": {},
     "output_type": "execute_result"
    }
   ],
   "source": [
    "games.describe()"
   ]
  },
  {
   "cell_type": "markdown",
   "metadata": {},
   "source": [
    "### Вывод\n",
    "- датасет содержит 16715 записей\n",
    "- в данных есть пропуски\n",
    "- названия столбцов нужно привести к нижнему регистру\n",
    "- требуется преобразование типов данных"
   ]
  },
  {
   "cell_type": "markdown",
   "metadata": {},
   "source": [
    "### Шаг 2. Подготовьте данные\n",
    "__План подготовки данных__\n",
    "- Замените названия столбцов (приведите к нижнему регистру);\n",
    "- Преобразуйте данные в нужные типы. Опишите, в каких столбцах заменили тип данных и почему;\n",
    "- Обработайте пропуски при необходимости;\n",
    "- Обратите внимание на аббревиатуру 'tbd' в столбцах с рейтингом. Отдельно разберите это значение и опишите, как его обработать;\n",
    "- Посчитайте суммарные продажи во всех регионах и запишите их в отдельный столбец."
   ]
  },
  {
   "cell_type": "code",
   "execution_count": 4,
   "metadata": {},
   "outputs": [
    {
     "name": "stdout",
     "output_type": "stream",
     "text": [
      "<class 'pandas.core.frame.DataFrame'>\n",
      "RangeIndex: 16715 entries, 0 to 16714\n",
      "Data columns (total 11 columns):\n",
      "name               16713 non-null object\n",
      "platform           16715 non-null object\n",
      "year_of_release    16446 non-null float64\n",
      "genre              16713 non-null object\n",
      "na_sales           16715 non-null float64\n",
      "eu_sales           16715 non-null float64\n",
      "jp_sales           16715 non-null float64\n",
      "other_sales        16715 non-null float64\n",
      "critic_score       8137 non-null float64\n",
      "user_score         10014 non-null object\n",
      "rating             9949 non-null object\n",
      "dtypes: float64(6), object(5)\n",
      "memory usage: 1.4+ MB\n"
     ]
    }
   ],
   "source": [
    "# приведем названия стобцов к нижнему регистру\n",
    "games.set_axis(['name', \n",
    "                'platform', \n",
    "                'year_of_release', \n",
    "                'genre', \n",
    "                'na_sales', \n",
    "                'eu_sales', \n",
    "                'jp_sales', \n",
    "                'other_sales',\n",
    "                'critic_score',\n",
    "                'user_score',\n",
    "                'rating'], axis='columns', inplace=True)\n",
    "\n",
    "games.info()"
   ]
  },
  {
   "cell_type": "code",
   "execution_count": 5,
   "metadata": {},
   "outputs": [],
   "source": [
    "# удаляем записи с пропусками\n",
    "# игры без даты выпуска или без жанра бесполезны для анализа\n",
    "games = games.dropna(subset=['year_of_release', 'genre'], axis='index')\n",
    "\n",
    "# в столбцах с рейтингами заполняем пропуски нулями\n",
    "games['critic_score'].fillna(0, inplace=True)\n",
    "games['user_score'].fillna(0, inplace=True)"
   ]
  },
  {
   "cell_type": "code",
   "execution_count": 6,
   "metadata": {},
   "outputs": [],
   "source": [
    "# tbd в рейтинге игры означает To Be Determined, т.е. будет определено позже. \n",
    "# Игра еще не вышла или совсем новая, рейтинга еще нет \n",
    "\n",
    "# В числовых значениях нам tbd точно не нужно, заменим на 0\n",
    "games['user_score'].replace('tbd', 0, inplace=True)"
   ]
  },
  {
   "cell_type": "code",
   "execution_count": 7,
   "metadata": {},
   "outputs": [
    {
     "name": "stdout",
     "output_type": "stream",
     "text": [
      "<class 'pandas.core.frame.DataFrame'>\n",
      "Int64Index: 16444 entries, 0 to 16714\n",
      "Data columns (total 11 columns):\n",
      "name               16444 non-null object\n",
      "platform           16444 non-null object\n",
      "year_of_release    16444 non-null int64\n",
      "genre              16444 non-null object\n",
      "na_sales           16444 non-null float64\n",
      "eu_sales           16444 non-null float64\n",
      "jp_sales           16444 non-null float64\n",
      "other_sales        16444 non-null float64\n",
      "critic_score       16444 non-null float64\n",
      "user_score         16444 non-null float64\n",
      "rating             9768 non-null object\n",
      "dtypes: float64(6), int64(1), object(4)\n",
      "memory usage: 1.5+ MB\n"
     ]
    }
   ],
   "source": [
    "# тип заменим на корректный чтобы удобнее было работать с числовыми данными\n",
    "# год выпуска приводим к int64\n",
    "# рейтинг к float\n",
    "games = games.astype({'year_of_release': 'int64', \n",
    "                      'user_score': 'float64'})\n",
    "games.info()"
   ]
  },
  {
   "cell_type": "code",
   "execution_count": 30,
   "metadata": {},
   "outputs": [],
   "source": [
    "# пропуски в рейтинге заменим на константу, чтобы затем проще было группировать игры по рейтингу\n",
    "games['rating'] = games['rating'].fillna('Not defined')"
   ]
  },
  {
   "cell_type": "code",
   "execution_count": 32,
   "metadata": {},
   "outputs": [
    {
     "data": {
      "text/html": [
       "<div>\n",
       "<style scoped>\n",
       "    .dataframe tbody tr th:only-of-type {\n",
       "        vertical-align: middle;\n",
       "    }\n",
       "\n",
       "    .dataframe tbody tr th {\n",
       "        vertical-align: top;\n",
       "    }\n",
       "\n",
       "    .dataframe thead th {\n",
       "        text-align: right;\n",
       "    }\n",
       "</style>\n",
       "<table border=\"1\" class=\"dataframe\">\n",
       "  <thead>\n",
       "    <tr style=\"text-align: right;\">\n",
       "      <th></th>\n",
       "      <th>year_of_release</th>\n",
       "      <th>na_sales</th>\n",
       "      <th>eu_sales</th>\n",
       "      <th>jp_sales</th>\n",
       "      <th>other_sales</th>\n",
       "      <th>critic_score</th>\n",
       "      <th>user_score</th>\n",
       "      <th>world_sales</th>\n",
       "    </tr>\n",
       "  </thead>\n",
       "  <tbody>\n",
       "    <tr>\n",
       "      <td>count</td>\n",
       "      <td>6676.000000</td>\n",
       "      <td>6676.000000</td>\n",
       "      <td>6676.000000</td>\n",
       "      <td>6676.000000</td>\n",
       "      <td>6676.000000</td>\n",
       "      <td>6676.000000</td>\n",
       "      <td>6676.000000</td>\n",
       "      <td>6676.000000</td>\n",
       "    </tr>\n",
       "    <tr>\n",
       "      <td>mean</td>\n",
       "      <td>2004.883463</td>\n",
       "      <td>0.183619</td>\n",
       "      <td>0.091320</td>\n",
       "      <td>0.125336</td>\n",
       "      <td>0.022449</td>\n",
       "      <td>0.835980</td>\n",
       "      <td>0.087133</td>\n",
       "      <td>0.422723</td>\n",
       "    </tr>\n",
       "    <tr>\n",
       "      <td>std</td>\n",
       "      <td>7.491332</td>\n",
       "      <td>0.800182</td>\n",
       "      <td>0.349929</td>\n",
       "      <td>0.385235</td>\n",
       "      <td>0.092573</td>\n",
       "      <td>7.667641</td>\n",
       "      <td>0.792370</td>\n",
       "      <td>1.363695</td>\n",
       "    </tr>\n",
       "    <tr>\n",
       "      <td>min</td>\n",
       "      <td>1980.000000</td>\n",
       "      <td>0.000000</td>\n",
       "      <td>0.000000</td>\n",
       "      <td>0.000000</td>\n",
       "      <td>0.000000</td>\n",
       "      <td>0.000000</td>\n",
       "      <td>0.000000</td>\n",
       "      <td>0.000000</td>\n",
       "    </tr>\n",
       "    <tr>\n",
       "      <td>25%</td>\n",
       "      <td>1999.000000</td>\n",
       "      <td>0.000000</td>\n",
       "      <td>0.000000</td>\n",
       "      <td>0.000000</td>\n",
       "      <td>0.000000</td>\n",
       "      <td>0.000000</td>\n",
       "      <td>0.000000</td>\n",
       "      <td>0.040000</td>\n",
       "    </tr>\n",
       "    <tr>\n",
       "      <td>50%</td>\n",
       "      <td>2007.000000</td>\n",
       "      <td>0.000000</td>\n",
       "      <td>0.000000</td>\n",
       "      <td>0.020000</td>\n",
       "      <td>0.000000</td>\n",
       "      <td>0.000000</td>\n",
       "      <td>0.000000</td>\n",
       "      <td>0.110000</td>\n",
       "    </tr>\n",
       "    <tr>\n",
       "      <td>75%</td>\n",
       "      <td>2011.000000</td>\n",
       "      <td>0.120000</td>\n",
       "      <td>0.050000</td>\n",
       "      <td>0.100000</td>\n",
       "      <td>0.010000</td>\n",
       "      <td>0.000000</td>\n",
       "      <td>0.000000</td>\n",
       "      <td>0.330000</td>\n",
       "    </tr>\n",
       "    <tr>\n",
       "      <td>max</td>\n",
       "      <td>2016.000000</td>\n",
       "      <td>29.080000</td>\n",
       "      <td>10.950000</td>\n",
       "      <td>10.220000</td>\n",
       "      <td>2.740000</td>\n",
       "      <td>93.000000</td>\n",
       "      <td>9.200000</td>\n",
       "      <td>40.240000</td>\n",
       "    </tr>\n",
       "  </tbody>\n",
       "</table>\n",
       "</div>"
      ],
      "text/plain": [
       "       year_of_release     na_sales     eu_sales     jp_sales  other_sales  \\\n",
       "count      6676.000000  6676.000000  6676.000000  6676.000000  6676.000000   \n",
       "mean       2004.883463     0.183619     0.091320     0.125336     0.022449   \n",
       "std           7.491332     0.800182     0.349929     0.385235     0.092573   \n",
       "min        1980.000000     0.000000     0.000000     0.000000     0.000000   \n",
       "25%        1999.000000     0.000000     0.000000     0.000000     0.000000   \n",
       "50%        2007.000000     0.000000     0.000000     0.020000     0.000000   \n",
       "75%        2011.000000     0.120000     0.050000     0.100000     0.010000   \n",
       "max        2016.000000    29.080000    10.950000    10.220000     2.740000   \n",
       "\n",
       "       critic_score   user_score  world_sales  \n",
       "count   6676.000000  6676.000000  6676.000000  \n",
       "mean       0.835980     0.087133     0.422723  \n",
       "std        7.667641     0.792370     1.363695  \n",
       "min        0.000000     0.000000     0.000000  \n",
       "25%        0.000000     0.000000     0.040000  \n",
       "50%        0.000000     0.000000     0.110000  \n",
       "75%        0.000000     0.000000     0.330000  \n",
       "max       93.000000     9.200000    40.240000  "
      ]
     },
     "execution_count": 32,
     "metadata": {},
     "output_type": "execute_result"
    }
   ],
   "source": [
    "# проанализируем у каких игр отсутствует рейтинг\n",
    "games.query('rating == \"Not defined\"').describe()"
   ]
  },
  {
   "cell_type": "markdown",
   "metadata": {},
   "source": [
    "tbd в рейтинге игры означает To Be Determined, т.е. будет определено позже. Игра еще не вышла или совсем новая, рейтинга еще нет   \n",
    "Отсутствие рейтинга ESRB у игры не связано с годом выпуска игры, жанром и т.д. Но у большенства игр без рейтинга ESRB также нет оценки критиков и игроков."
   ]
  },
  {
   "cell_type": "code",
   "execution_count": 9,
   "metadata": {},
   "outputs": [
    {
     "data": {
      "text/html": [
       "<div>\n",
       "<style scoped>\n",
       "    .dataframe tbody tr th:only-of-type {\n",
       "        vertical-align: middle;\n",
       "    }\n",
       "\n",
       "    .dataframe tbody tr th {\n",
       "        vertical-align: top;\n",
       "    }\n",
       "\n",
       "    .dataframe thead th {\n",
       "        text-align: right;\n",
       "    }\n",
       "</style>\n",
       "<table border=\"1\" class=\"dataframe\">\n",
       "  <thead>\n",
       "    <tr style=\"text-align: right;\">\n",
       "      <th></th>\n",
       "      <th>name</th>\n",
       "      <th>platform</th>\n",
       "      <th>year_of_release</th>\n",
       "      <th>genre</th>\n",
       "      <th>na_sales</th>\n",
       "      <th>eu_sales</th>\n",
       "      <th>jp_sales</th>\n",
       "      <th>other_sales</th>\n",
       "      <th>critic_score</th>\n",
       "      <th>user_score</th>\n",
       "      <th>rating</th>\n",
       "      <th>world_sales</th>\n",
       "    </tr>\n",
       "  </thead>\n",
       "  <tbody>\n",
       "    <tr>\n",
       "      <td>0</td>\n",
       "      <td>Wii Sports</td>\n",
       "      <td>Wii</td>\n",
       "      <td>2006</td>\n",
       "      <td>Sports</td>\n",
       "      <td>41.36</td>\n",
       "      <td>28.96</td>\n",
       "      <td>3.77</td>\n",
       "      <td>8.45</td>\n",
       "      <td>76.0</td>\n",
       "      <td>8.0</td>\n",
       "      <td>E</td>\n",
       "      <td>82.54</td>\n",
       "    </tr>\n",
       "    <tr>\n",
       "      <td>1</td>\n",
       "      <td>Super Mario Bros.</td>\n",
       "      <td>NES</td>\n",
       "      <td>1985</td>\n",
       "      <td>Platform</td>\n",
       "      <td>29.08</td>\n",
       "      <td>3.58</td>\n",
       "      <td>6.81</td>\n",
       "      <td>0.77</td>\n",
       "      <td>0.0</td>\n",
       "      <td>0.0</td>\n",
       "      <td>Not defined</td>\n",
       "      <td>40.24</td>\n",
       "    </tr>\n",
       "    <tr>\n",
       "      <td>2</td>\n",
       "      <td>Mario Kart Wii</td>\n",
       "      <td>Wii</td>\n",
       "      <td>2008</td>\n",
       "      <td>Racing</td>\n",
       "      <td>15.68</td>\n",
       "      <td>12.76</td>\n",
       "      <td>3.79</td>\n",
       "      <td>3.29</td>\n",
       "      <td>82.0</td>\n",
       "      <td>8.3</td>\n",
       "      <td>E</td>\n",
       "      <td>35.52</td>\n",
       "    </tr>\n",
       "    <tr>\n",
       "      <td>3</td>\n",
       "      <td>Wii Sports Resort</td>\n",
       "      <td>Wii</td>\n",
       "      <td>2009</td>\n",
       "      <td>Sports</td>\n",
       "      <td>15.61</td>\n",
       "      <td>10.93</td>\n",
       "      <td>3.28</td>\n",
       "      <td>2.95</td>\n",
       "      <td>80.0</td>\n",
       "      <td>8.0</td>\n",
       "      <td>E</td>\n",
       "      <td>32.77</td>\n",
       "    </tr>\n",
       "    <tr>\n",
       "      <td>4</td>\n",
       "      <td>Pokemon Red/Pokemon Blue</td>\n",
       "      <td>GB</td>\n",
       "      <td>1996</td>\n",
       "      <td>Role-Playing</td>\n",
       "      <td>11.27</td>\n",
       "      <td>8.89</td>\n",
       "      <td>10.22</td>\n",
       "      <td>1.00</td>\n",
       "      <td>0.0</td>\n",
       "      <td>0.0</td>\n",
       "      <td>Not defined</td>\n",
       "      <td>31.38</td>\n",
       "    </tr>\n",
       "  </tbody>\n",
       "</table>\n",
       "</div>"
      ],
      "text/plain": [
       "                       name platform  year_of_release         genre  na_sales  \\\n",
       "0                Wii Sports      Wii             2006        Sports     41.36   \n",
       "1         Super Mario Bros.      NES             1985      Platform     29.08   \n",
       "2            Mario Kart Wii      Wii             2008        Racing     15.68   \n",
       "3         Wii Sports Resort      Wii             2009        Sports     15.61   \n",
       "4  Pokemon Red/Pokemon Blue       GB             1996  Role-Playing     11.27   \n",
       "\n",
       "   eu_sales  jp_sales  other_sales  critic_score  user_score       rating  \\\n",
       "0     28.96      3.77         8.45          76.0         8.0            E   \n",
       "1      3.58      6.81         0.77           0.0         0.0  Not defined   \n",
       "2     12.76      3.79         3.29          82.0         8.3            E   \n",
       "3     10.93      3.28         2.95          80.0         8.0            E   \n",
       "4      8.89     10.22         1.00           0.0         0.0  Not defined   \n",
       "\n",
       "   world_sales  \n",
       "0        82.54  \n",
       "1        40.24  \n",
       "2        35.52  \n",
       "3        32.77  \n",
       "4        31.38  "
      ]
     },
     "execution_count": 9,
     "metadata": {},
     "output_type": "execute_result"
    }
   ],
   "source": [
    "# Посчитайте суммарные продажи во всех регионах и запишите их в отдельный столбец.\n",
    "games['world_sales'] = games['na_sales'] + games['eu_sales'] + games['jp_sales'] + games['other_sales']\n",
    "games.head()"
   ]
  },
  {
   "cell_type": "markdown",
   "metadata": {},
   "source": [
    "### Вывод\n",
    "- названия столбцов приведены к нижнему регистру\n",
    "- записи с пропусками в столбцах year_of_release и genre удалены из датасета, т.к. эти колонки важны для анализа\n",
    "- пропуски в столбцах заменены на значение 0, типы данных приведены к числовым чтобы с рейтингами можно было проводить мат. вычисления\n",
    "- tbd в рейтинге игры означает To Be Determined, т.е. будет определено позже. Игра еще не вышла (демо) или совсем новая, рейтинга еще нет. Значение tdb заменено на 0 \n",
    "- Отсутствие рейтинга у игры не связано с годом выпуска игры, жанром и т.д. Но у большенства игр без рейтинга ESRB также нет оценки критиков и игроков. Пропуски в рейтинге заменены на константу, чтобы затем проще было группировать игры по рейтингу\n",
    "- В датасет добавлен столбец world_sales - суммарные продажи во всех регионах"
   ]
  },
  {
   "cell_type": "markdown",
   "metadata": {},
   "source": [
    "### Шаг 3. Проведите исследовательский анализ данных"
   ]
  },
  {
   "cell_type": "markdown",
   "metadata": {},
   "source": [
    "__3.1 Посмотрите, сколько игр выпускалось в разные годы__  \n",
    "Важны ли данные за все периоды?"
   ]
  },
  {
   "cell_type": "code",
   "execution_count": 10,
   "metadata": {},
   "outputs": [
    {
     "data": {
      "text/plain": [
       "<matplotlib.axes._subplots.AxesSubplot at 0x234ec2e4d88>"
      ]
     },
     "execution_count": 10,
     "metadata": {},
     "output_type": "execute_result"
    },
    {
     "data": {
      "image/png": "[encoded data removed]",
      "text/plain": [
       "<Figure size 720x360 with 1 Axes>"
      ]
     },
     "metadata": {
      "needs_background": "light"
     },
     "output_type": "display_data"
    }
   ],
   "source": [
    "games['year_of_release'].plot(kind='hist', \n",
    "                              bins=36, \n",
    "                              title='Кол-во игр по годам выпуска',\n",
    "                              figsize=(10,5)\n",
    "                             )"
   ]
  },
  {
   "cell_type": "markdown",
   "metadata": {},
   "source": [
    "До 1995 года игр выходило мало, очевидно, из-за того, что игровых консолей не было, ПК было мало, играли, в основном, на игровых автоматах.  \n",
    "В 1995 - 2000 г. наблюдается рост кол-ва новых игр. В 2002 - 2005 г. рост ускоряется и достигает пика в 2008 - 2009 годах. Максимальное кол-во новых игр выходило в период 2007 - 2011 г. и всплеск в 2015 году.  \n",
    "Ранние года не интересны для анализа. Более интересно изучать период с 2008 года. "
   ]
  },
  {
   "cell_type": "markdown",
   "metadata": {},
   "source": [
    "__3.2 Посмотрите, как менялись продажи по платформам__  \n",
    "Выберите платформы с наибольшими суммарными продажами и постройте распределение по годам. За какой характерный срок появляются новые и исчезают старые платформы?"
   ]
  },
  {
   "cell_type": "code",
   "execution_count": 11,
   "metadata": {},
   "outputs": [
    {
     "data": {
      "text/html": [
       "<div>\n",
       "<style scoped>\n",
       "    .dataframe tbody tr th:only-of-type {\n",
       "        vertical-align: middle;\n",
       "    }\n",
       "\n",
       "    .dataframe tbody tr th {\n",
       "        vertical-align: top;\n",
       "    }\n",
       "\n",
       "    .dataframe thead th {\n",
       "        text-align: right;\n",
       "    }\n",
       "</style>\n",
       "<table border=\"1\" class=\"dataframe\">\n",
       "  <thead>\n",
       "    <tr style=\"text-align: right;\">\n",
       "      <th></th>\n",
       "      <th>world_sales</th>\n",
       "    </tr>\n",
       "    <tr>\n",
       "      <th>platform</th>\n",
       "      <th></th>\n",
       "    </tr>\n",
       "  </thead>\n",
       "  <tbody>\n",
       "    <tr>\n",
       "      <td>PS2</td>\n",
       "      <td>1233.56</td>\n",
       "    </tr>\n",
       "    <tr>\n",
       "      <td>X360</td>\n",
       "      <td>961.24</td>\n",
       "    </tr>\n",
       "    <tr>\n",
       "      <td>PS3</td>\n",
       "      <td>931.34</td>\n",
       "    </tr>\n",
       "    <tr>\n",
       "      <td>Wii</td>\n",
       "      <td>891.18</td>\n",
       "    </tr>\n",
       "    <tr>\n",
       "      <td>DS</td>\n",
       "      <td>802.78</td>\n",
       "    </tr>\n",
       "    <tr>\n",
       "      <td>PS</td>\n",
       "      <td>727.58</td>\n",
       "    </tr>\n",
       "    <tr>\n",
       "      <td>PS4</td>\n",
       "      <td>314.14</td>\n",
       "    </tr>\n",
       "    <tr>\n",
       "      <td>GBA</td>\n",
       "      <td>312.88</td>\n",
       "    </tr>\n",
       "    <tr>\n",
       "      <td>PSP</td>\n",
       "      <td>289.53</td>\n",
       "    </tr>\n",
       "    <tr>\n",
       "      <td>3DS</td>\n",
       "      <td>257.81</td>\n",
       "    </tr>\n",
       "  </tbody>\n",
       "</table>\n",
       "</div>"
      ],
      "text/plain": [
       "          world_sales\n",
       "platform             \n",
       "PS2           1233.56\n",
       "X360           961.24\n",
       "PS3            931.34\n",
       "Wii            891.18\n",
       "DS             802.78\n",
       "PS             727.58\n",
       "PS4            314.14\n",
       "GBA            312.88\n",
       "PSP            289.53\n",
       "3DS            257.81"
      ]
     },
     "execution_count": 11,
     "metadata": {},
     "output_type": "execute_result"
    }
   ],
   "source": [
    "# выберем платформы с наибольшими продажами\n",
    "(games.groupby('platform')\n",
    "        .agg({'world_sales': 'sum'})\n",
    "        .sort_values(by='world_sales', ascending=False)\n",
    "        .head(10))"
   ]
  },
  {
   "cell_type": "markdown",
   "metadata": {},
   "source": [
    "Начиная с 7-й позиции продажи резко падают, будем рассматривать только первые 6 платформ.  \n",
    "Забавно, но на 7-й позиции - PS4! Видимо консоль тогда только вышла и не успела собрать продажи. БОльшая часть игр продавалась еще для старых консолей."
   ]
  },
  {
   "cell_type": "code",
   "execution_count": 12,
   "metadata": {},
   "outputs": [],
   "source": [
    "# автоматизируем построение графиков\n",
    "def draw_platform_revenue(platform):\n",
    "    pl = games.query('platform == @platform').groupby('year_of_release').agg({'world_sales': 'sum'})\n",
    "    pl.plot(kind='bar', title='Продажи по годам для '+ platform + ', млн.usd', figsize=(8,4), grid=True)\n",
    "    plt.show()"
   ]
  },
  {
   "cell_type": "code",
   "execution_count": 13,
   "metadata": {
    "scrolled": true
   },
   "outputs": [
    {
     "data": {
      "image/png": "[encoded data removed]",
      "text/plain": [
       "<Figure size 576x288 with 1 Axes>"
      ]
     },
     "metadata": {
      "needs_background": "light"
     },
     "output_type": "display_data"
    },
    {
     "data": {
      "image/png": "[encoded data removed]",
      "text/plain": [
       "<Figure size 576x288 with 1 Axes>"
      ]
     },
     "metadata": {
      "needs_background": "light"
     },
     "output_type": "display_data"
    },
    {
     "data": {
      "image/png": "[encoded data removed]",
      "text/plain": [
       "<Figure size 576x288 with 1 Axes>"
      ]
     },
     "metadata": {
      "needs_background": "light"
     },
     "output_type": "display_data"
    },
    {
     "data": {
      "image/png": "[encoded data removed]",
      "text/plain": [
       "<Figure size 576x288 with 1 Axes>"
      ]
     },
     "metadata": {
      "needs_background": "light"
     },
     "output_type": "display_data"
    },
    {
     "data": {
      "image/png": "[encoded data removed]",
      "text/plain": [
       "<Figure size 576x288 with 1 Axes>"
      ]
     },
     "metadata": {
      "needs_background": "light"
     },
     "output_type": "display_data"
    },
    {
     "data": {
      "image/png": "[encoded data removed]",
      "text/plain": [
       "<Figure size 576x288 with 1 Axes>"
      ]
     },
     "metadata": {
      "needs_background": "light"
     },
     "output_type": "display_data"
    }
   ],
   "source": [
    "# кол-во топовых (по продажам) платформ, которые берем для анализа\n",
    "TOP_PLATFORMS_COUNT = 6\n",
    "\n",
    "# список платформ для анализа/сравнения\n",
    "platforms = (games.groupby('platform')\n",
    "        .agg({'world_sales': 'sum'})\n",
    "        .sort_values(by='world_sales', ascending=False)\n",
    "        .head(TOP_PLATFORMS_COUNT)).index.tolist()\n",
    "\n",
    "for i in platforms:\n",
    "    draw_platform_revenue(i)"
   ]
  },
  {
   "cell_type": "markdown",
   "metadata": {},
   "source": [
    "\"Срок жизни\" консолей равен 10 - 12 лет - это период, когда игроки покупают игры для консоли.  \n",
    "Период \"Активных продах\" равен 5 лет - это период максимальных продаж игр, т.е. популярности консоли у игроков. Затем спад продаж практически до нуля и завершение продаж игр."
   ]
  },
  {
   "cell_type": "markdown",
   "metadata": {},
   "source": [
    "__3.3 Возьмите данные за соответствующий актуальный период__  \n",
    "Актуальный период определите самостоятельно в результате исследования предыдущих вопросов. Основной фактор — эти данные помогут построить прогноз на 2017 год.  \n",
    "Не учитывайте в работе данные за предыдущие годы."
   ]
  },
  {
   "cell_type": "code",
   "execution_count": 14,
   "metadata": {},
   "outputs": [
    {
     "name": "stdout",
     "output_type": "stream",
     "text": [
      "<class 'pandas.core.frame.DataFrame'>\n",
      "Int64Index: 2886 entries, 16 to 16714\n",
      "Data columns (total 12 columns):\n",
      "name               2886 non-null object\n",
      "platform           2886 non-null object\n",
      "year_of_release    2886 non-null int64\n",
      "genre              2886 non-null object\n",
      "na_sales           2886 non-null float64\n",
      "eu_sales           2886 non-null float64\n",
      "jp_sales           2886 non-null float64\n",
      "other_sales        2886 non-null float64\n",
      "critic_score       2886 non-null float64\n",
      "user_score         2886 non-null float64\n",
      "rating             2886 non-null object\n",
      "world_sales        2886 non-null float64\n",
      "dtypes: float64(7), int64(1), object(4)\n",
      "memory usage: 293.1+ KB\n"
     ]
    }
   ],
   "source": [
    "# период (лет) для анализа данных по игровым платформам\n",
    "PERIOD_TO_ANALYSE = 5\n",
    "\n",
    "# год, для которого строим прогноз\n",
    "YEAR_TO_ANALYSE = 2017\n",
    "\n",
    "# сделаем срез данных только за актуальный период\n",
    "games_actual = games.query('year_of_release >= (@YEAR_TO_ANALYSE - @PERIOD_TO_ANALYSE)')\n",
    "games_actual.info()"
   ]
  },
  {
   "cell_type": "markdown",
   "metadata": {},
   "source": [
    "Для анализа возьмем период - 5 лет, т.к. это период максимальных продаж игр для игровых консолей. Чтобы изучить предпочтения игроков на 2017 год мы будем смотреть данные начиная с 2012 года. В этот период попадают продажи игр для платформ, которые также будут использоваться в 2017 году.  \n",
    "Если брать бОльший период, то в выборку попадут платформы, которые уже выходят с рынка. Предпочтения игроков на более старых платформах могут быть другие, т.к. жанр и стилистика игр сильно зависит от технических возможностей платформы. В 1985 году самой покупаемой была игра Super Mario - простая ходилка, но потом GTA вышла на консолях.. а через 5-10 лет супер-покупаемыми будут VR игры (GTA 6 видимо)"
   ]
  },
  {
   "cell_type": "markdown",
   "metadata": {},
   "source": [
    "__3.4 Какие платформы лидируют по продажам, растут или падают?__  \n",
    "Выберите несколько потенциально прибыльных платформ."
   ]
  },
  {
   "cell_type": "code",
   "execution_count": 15,
   "metadata": {},
   "outputs": [
    {
     "data": {
      "text/html": [
       "<div>\n",
       "<style scoped>\n",
       "    .dataframe tbody tr th:only-of-type {\n",
       "        vertical-align: middle;\n",
       "    }\n",
       "\n",
       "    .dataframe tbody tr th {\n",
       "        vertical-align: top;\n",
       "    }\n",
       "\n",
       "    .dataframe thead th {\n",
       "        text-align: right;\n",
       "    }\n",
       "</style>\n",
       "<table border=\"1\" class=\"dataframe\">\n",
       "  <thead>\n",
       "    <tr style=\"text-align: right;\">\n",
       "      <th></th>\n",
       "      <th>world_sales</th>\n",
       "    </tr>\n",
       "    <tr>\n",
       "      <th>platform</th>\n",
       "      <th></th>\n",
       "    </tr>\n",
       "  </thead>\n",
       "  <tbody>\n",
       "    <tr>\n",
       "      <td>PS4</td>\n",
       "      <td>314.14</td>\n",
       "    </tr>\n",
       "    <tr>\n",
       "      <td>PS3</td>\n",
       "      <td>288.79</td>\n",
       "    </tr>\n",
       "    <tr>\n",
       "      <td>X360</td>\n",
       "      <td>236.54</td>\n",
       "    </tr>\n",
       "    <tr>\n",
       "      <td>3DS</td>\n",
       "      <td>194.61</td>\n",
       "    </tr>\n",
       "    <tr>\n",
       "      <td>XOne</td>\n",
       "      <td>159.32</td>\n",
       "    </tr>\n",
       "    <tr>\n",
       "      <td>WiiU</td>\n",
       "      <td>82.19</td>\n",
       "    </tr>\n",
       "    <tr>\n",
       "      <td>PC</td>\n",
       "      <td>62.65</td>\n",
       "    </tr>\n",
       "    <tr>\n",
       "      <td>PSV</td>\n",
       "      <td>49.18</td>\n",
       "    </tr>\n",
       "    <tr>\n",
       "      <td>Wii</td>\n",
       "      <td>35.37</td>\n",
       "    </tr>\n",
       "    <tr>\n",
       "      <td>DS</td>\n",
       "      <td>12.55</td>\n",
       "    </tr>\n",
       "    <tr>\n",
       "      <td>PSP</td>\n",
       "      <td>11.19</td>\n",
       "    </tr>\n",
       "  </tbody>\n",
       "</table>\n",
       "</div>"
      ],
      "text/plain": [
       "          world_sales\n",
       "platform             \n",
       "PS4            314.14\n",
       "PS3            288.79\n",
       "X360           236.54\n",
       "3DS            194.61\n",
       "XOne           159.32\n",
       "WiiU            82.19\n",
       "PC              62.65\n",
       "PSV             49.18\n",
       "Wii             35.37\n",
       "DS              12.55\n",
       "PSP             11.19"
      ]
     },
     "execution_count": 15,
     "metadata": {},
     "output_type": "execute_result"
    }
   ],
   "source": [
    "# найдем лидеров по мировым продажам\n",
    "games_actual.groupby('platform').agg({'world_sales': 'sum'}).sort_values(by='world_sales', ascending=False)"
   ]
  },
  {
   "cell_type": "code",
   "execution_count": 16,
   "metadata": {},
   "outputs": [
    {
     "data": {
      "text/html": [
       "<div>\n",
       "<style scoped>\n",
       "    .dataframe tbody tr th:only-of-type {\n",
       "        vertical-align: middle;\n",
       "    }\n",
       "\n",
       "    .dataframe tbody tr th {\n",
       "        vertical-align: top;\n",
       "    }\n",
       "\n",
       "    .dataframe thead tr th {\n",
       "        text-align: left;\n",
       "    }\n",
       "\n",
       "    .dataframe thead tr:last-of-type th {\n",
       "        text-align: right;\n",
       "    }\n",
       "</style>\n",
       "<table border=\"1\" class=\"dataframe\">\n",
       "  <thead>\n",
       "    <tr>\n",
       "      <th></th>\n",
       "      <th colspan=\"11\" halign=\"left\">sum</th>\n",
       "    </tr>\n",
       "    <tr>\n",
       "      <th>platform</th>\n",
       "      <th>3DS</th>\n",
       "      <th>DS</th>\n",
       "      <th>PC</th>\n",
       "      <th>PS3</th>\n",
       "      <th>PS4</th>\n",
       "      <th>PSP</th>\n",
       "      <th>PSV</th>\n",
       "      <th>Wii</th>\n",
       "      <th>WiiU</th>\n",
       "      <th>X360</th>\n",
       "      <th>XOne</th>\n",
       "    </tr>\n",
       "    <tr>\n",
       "      <th>year_of_release</th>\n",
       "      <th></th>\n",
       "      <th></th>\n",
       "      <th></th>\n",
       "      <th></th>\n",
       "      <th></th>\n",
       "      <th></th>\n",
       "      <th></th>\n",
       "      <th></th>\n",
       "      <th></th>\n",
       "      <th></th>\n",
       "      <th></th>\n",
       "    </tr>\n",
       "  </thead>\n",
       "  <tbody>\n",
       "    <tr>\n",
       "      <td>2012</td>\n",
       "      <td>51.36</td>\n",
       "      <td>11.01</td>\n",
       "      <td>23.22</td>\n",
       "      <td>107.36</td>\n",
       "      <td>NaN</td>\n",
       "      <td>7.69</td>\n",
       "      <td>16.19</td>\n",
       "      <td>21.71</td>\n",
       "      <td>17.56</td>\n",
       "      <td>99.74</td>\n",
       "      <td>NaN</td>\n",
       "    </tr>\n",
       "    <tr>\n",
       "      <td>2013</td>\n",
       "      <td>56.57</td>\n",
       "      <td>1.54</td>\n",
       "      <td>12.38</td>\n",
       "      <td>113.25</td>\n",
       "      <td>25.99</td>\n",
       "      <td>3.14</td>\n",
       "      <td>10.59</td>\n",
       "      <td>8.59</td>\n",
       "      <td>21.65</td>\n",
       "      <td>88.58</td>\n",
       "      <td>18.96</td>\n",
       "    </tr>\n",
       "    <tr>\n",
       "      <td>2014</td>\n",
       "      <td>43.76</td>\n",
       "      <td>NaN</td>\n",
       "      <td>13.28</td>\n",
       "      <td>47.76</td>\n",
       "      <td>100.00</td>\n",
       "      <td>0.24</td>\n",
       "      <td>11.90</td>\n",
       "      <td>3.75</td>\n",
       "      <td>22.03</td>\n",
       "      <td>34.74</td>\n",
       "      <td>54.07</td>\n",
       "    </tr>\n",
       "    <tr>\n",
       "      <td>2015</td>\n",
       "      <td>27.78</td>\n",
       "      <td>NaN</td>\n",
       "      <td>8.52</td>\n",
       "      <td>16.82</td>\n",
       "      <td>118.90</td>\n",
       "      <td>0.12</td>\n",
       "      <td>6.25</td>\n",
       "      <td>1.14</td>\n",
       "      <td>16.35</td>\n",
       "      <td>11.96</td>\n",
       "      <td>60.14</td>\n",
       "    </tr>\n",
       "    <tr>\n",
       "      <td>2016</td>\n",
       "      <td>15.14</td>\n",
       "      <td>NaN</td>\n",
       "      <td>5.25</td>\n",
       "      <td>3.60</td>\n",
       "      <td>69.25</td>\n",
       "      <td>NaN</td>\n",
       "      <td>4.25</td>\n",
       "      <td>0.18</td>\n",
       "      <td>4.60</td>\n",
       "      <td>1.52</td>\n",
       "      <td>26.15</td>\n",
       "    </tr>\n",
       "  </tbody>\n",
       "</table>\n",
       "</div>"
      ],
      "text/plain": [
       "                   sum                                                    \\\n",
       "platform           3DS     DS     PC     PS3     PS4   PSP    PSV    Wii   \n",
       "year_of_release                                                            \n",
       "2012             51.36  11.01  23.22  107.36     NaN  7.69  16.19  21.71   \n",
       "2013             56.57   1.54  12.38  113.25   25.99  3.14  10.59   8.59   \n",
       "2014             43.76    NaN  13.28   47.76  100.00  0.24  11.90   3.75   \n",
       "2015             27.78    NaN   8.52   16.82  118.90  0.12   6.25   1.14   \n",
       "2016             15.14    NaN   5.25    3.60   69.25   NaN   4.25   0.18   \n",
       "\n",
       "                                      \n",
       "platform          WiiU   X360   XOne  \n",
       "year_of_release                       \n",
       "2012             17.56  99.74    NaN  \n",
       "2013             21.65  88.58  18.96  \n",
       "2014             22.03  34.74  54.07  \n",
       "2015             16.35  11.96  60.14  \n",
       "2016              4.60   1.52  26.15  "
      ]
     },
     "execution_count": 16,
     "metadata": {},
     "output_type": "execute_result"
    }
   ],
   "source": [
    "# и построим сводную таблицу в разрезе платформ и года выпуска игр\n",
    "revenue = (pd.pivot_table(games_actual, \n",
    "                index='year_of_release', \n",
    "                values='world_sales', \n",
    "                columns=['platform'], \n",
    "                aggfunc=['sum'])\n",
    ")\n",
    "\n",
    "revenue"
   ]
  },
  {
   "cell_type": "markdown",
   "metadata": {},
   "source": [
    "Из сводной таблицы уже видно, что DS и PSP уже закончили свой жизненный путь и их нужно исключить из анализа  \n",
    "А у меня была PSP когда-то!"
   ]
  },
  {
   "cell_type": "code",
   "execution_count": 17,
   "metadata": {},
   "outputs": [
    {
     "data": {
      "text/plain": [
       "<matplotlib.axes._subplots.AxesSubplot at 0x234edc53588>"
      ]
     },
     "execution_count": 17,
     "metadata": {},
     "output_type": "execute_result"
    },
    {
     "data": {
      "image/png": "[encoded data removed]",
      "text/plain": [
       "<Figure size 864x432 with 1 Axes>"
      ]
     },
     "metadata": {
      "needs_background": "light"
     },
     "output_type": "display_data"
    }
   ],
   "source": [
    "revenue.plot(kind='line', \n",
    "                 title='Суммарные продажи игр по платформам и годам релиза, млн.usd', \n",
    "                 figsize=(12, 6), \n",
    "                 grid=True)"
   ]
  },
  {
   "cell_type": "markdown",
   "metadata": {},
   "source": [
    "График показывает, что top5 платформ по суммарным продажам игр (см. таблицу выше) делили между собой рынок игр начиная с 2012 года. У PS4 и XOne максимум продаж приходится на 2015 год - это наиболее \"свежие\" платформы в нашем рейтинге. Остальные платформы (PS3, X360, 3DS) находятся в конце своего жизненного цикла.  \n",
    "В 2016 году у всех платформ спад продаж, он также виден на гистограммах выше.  \n",
    "Для дальнейшего рассмотрения возьмем 2 наиболее \"свежие\" платформы. Очевидно, что в 2017 году именно эти платформы будут формировать мировые продажи. Даже если появится новая платформа (PS5 выйдет в 2020), то ей потребуется примерно 2 года, чтобы выйти на пик продаж игр."
   ]
  },
  {
   "cell_type": "markdown",
   "metadata": {},
   "source": [
    "__3.5 Постройте график «ящик с усами» по глобальным продажам игр в разбивке по платформам__.  \n",
    "Опишите результат."
   ]
  },
  {
   "cell_type": "code",
   "execution_count": 18,
   "metadata": {},
   "outputs": [
    {
     "data": {
      "image/png": "[encoded data removed]",
      "text/plain": [
       "<Figure size 432x288 with 1 Axes>"
      ]
     },
     "metadata": {
      "needs_background": "light"
     },
     "output_type": "display_data"
    },
    {
     "data": {
      "image/png": "[encoded data removed]",
      "text/plain": [
       "<Figure size 432x288 with 1 Axes>"
      ]
     },
     "metadata": {
      "needs_background": "light"
     },
     "output_type": "display_data"
    }
   ],
   "source": [
    "platforms = ['PS4', 'XOne']\n",
    "for i in platforms:\n",
    "    games_actual.query('platform == @i').boxplot('world_sales')\n",
    "    plt.show()"
   ]
  },
  {
   "cell_type": "markdown",
   "metadata": {},
   "source": [
    "Для market maker платформ 2016 года (PS4, XOne) ящик с усами показывает, что есть много \"заурядных\" игр, у которых низкие продажи, и есть выбросы \"шедевры\" - популярные игры, которые и собирают основные продажи. Нам для выявления факторов влияющих на продажи игр интересны, в первую очередь, \"выбросы\" - супер-популярные игры.   \n",
    "На основе диаграммы можно определить порог \"популярности\" игр, которые следует рассматривать."
   ]
  },
  {
   "cell_type": "markdown",
   "metadata": {},
   "source": [
    "__3.6 Посмотрите, как влияют на продажи внутри одной популярной платформы отзывы пользователей и критиков.__  \n",
    "Постройте диаграмму рассеяния и посчитайте корреляцию между отзывами и продажами. Сформулируйте выводы."
   ]
  },
  {
   "cell_type": "code",
   "execution_count": 19,
   "metadata": {},
   "outputs": [],
   "source": [
    "# создадим отдельный датасет без нулевых рейтингов\n",
    "ps4_ratings = (games_actual\n",
    "                    .loc[:, ['platform', \n",
    "                             'world_sales', \n",
    "                             'critic_score', \n",
    "                             'user_score']]\n",
    "                    .query('platform == \"PS4\" and critic_score > 0 and user_score > 0')\n",
    "              )"
   ]
  },
  {
   "cell_type": "code",
   "execution_count": 33,
   "metadata": {},
   "outputs": [
    {
     "name": "stdout",
     "output_type": "stream",
     "text": [
      "Коэф. корреляции мировых продаж игры и оценки критиков:\n",
      " 0.40589480145836687 \n",
      " Коэф. корреляции мировых продаж игры и оценки игроков:\n",
      " -0.03362497596528878\n"
     ]
    }
   ],
   "source": [
    "# посчитаем коэффициент корреляции Пирсона между продажами игр и отзывами\n",
    "print('Коэф. корреляции мировых продаж игры и оценки критиков:\\n', \n",
    "      ps4_ratings['world_sales'].corr(ps4_ratings['critic_score']),\n",
    "      '\\n',\n",
    "      'Коэф. корреляции мировых продаж игры и оценки игроков:\\n',\n",
    "      ps4_ratings['world_sales'].corr(ps4_ratings['user_score'])\n",
    "     )"
   ]
  },
  {
   "cell_type": "code",
   "execution_count": 34,
   "metadata": {},
   "outputs": [
    {
     "data": {
      "text/plain": [
       "<matplotlib.axes._subplots.AxesSubplot at 0x234edbb2848>"
      ]
     },
     "execution_count": 34,
     "metadata": {},
     "output_type": "execute_result"
    },
    {
     "data": {
      "image/png": "[encoded data removed]",
      "text/plain": [
       "<Figure size 432x288 with 1 Axes>"
      ]
     },
     "metadata": {
      "needs_background": "light"
     },
     "output_type": "display_data"
    },
    {
     "data": {
      "image/png": "[encoded data removed]",
      "text/plain": [
       "<Figure size 432x288 with 1 Axes>"
      ]
     },
     "metadata": {
      "needs_background": "light"
     },
     "output_type": "display_data"
    }
   ],
   "source": [
    "# диаграммы рассеяния\n",
    "ps4_ratings.plot(x='critic_score', \n",
    "                   y='world_sales', \n",
    "                   kind='scatter', \n",
    "                   grid=True, \n",
    "                   title = 'PS4. Продажи vs рейтинг от критиков')\n",
    "\n",
    "ps4_ratings.plot(x='user_score', \n",
    "                   y='world_sales', \n",
    "                   kind='scatter', \n",
    "                   grid=True, \n",
    "                   title = 'PS4. Продажи vs рейтинг от игроков')"
   ]
  },
  {
   "cell_type": "markdown",
   "metadata": {},
   "source": [
    "Корреляция продаж и рейтингов игр слабая, практически отсутствует.  \n",
    "Диаграммы показывают, что множество игр имеют высокие отзывы и низкие продажи, при этом. И буквально единицы игр (правый верхний квадрант на диаграммах) с очень высокими продажами и высокими рейтингами от игроков и критиков.  \n",
    "Вывод 1 - рейтинги не являются драйвером продаж видеоигр.  \n",
    "Вывод 2 - рейтинг критиков и игроков часто не совпадает."
   ]
  },
  {
   "cell_type": "markdown",
   "metadata": {},
   "source": [
    "__3.7 Соотнесите выводы с продажами игр на других платформах__."
   ]
  },
  {
   "cell_type": "code",
   "execution_count": 22,
   "metadata": {},
   "outputs": [
    {
     "data": {
      "text/plain": [
       "<matplotlib.axes._subplots.AxesSubplot at 0x234ed99a708>"
      ]
     },
     "execution_count": 22,
     "metadata": {},
     "output_type": "execute_result"
    },
    {
     "data": {
      "image/png": "[encoded data removed]",
      "text/plain": [
       "<Figure size 432x288 with 1 Axes>"
      ]
     },
     "metadata": {
      "needs_background": "light"
     },
     "output_type": "display_data"
    },
    {
     "data": {
      "image/png": "[encoded data removed]",
      "text/plain": [
       "<Figure size 432x288 with 1 Axes>"
      ]
     },
     "metadata": {
      "needs_background": "light"
     },
     "output_type": "display_data"
    }
   ],
   "source": [
    "# построим диаграммы корреляции для XOne\n",
    "xone_ratings = (games_actual\n",
    "                    .loc[:, ['platform', \n",
    "                             'world_sales', \n",
    "                             'critic_score', \n",
    "                             'user_score']]\n",
    "                    .query('platform == \"XOne\" and critic_score > 0 and user_score > 0')\n",
    "              )\n",
    "\n",
    "xone_ratings.plot(x='critic_score', \n",
    "                   y='world_sales', \n",
    "                   kind='scatter', \n",
    "                   grid=True, \n",
    "                   title = 'XOne. Продажи vs рейтинг от критиков')\n",
    "\n",
    "xone_ratings.plot(x='user_score', \n",
    "                   y='world_sales', \n",
    "                   kind='scatter', \n",
    "                   grid=True, \n",
    "                   title = 'XOne. Продажи vs рейтинг игроков')"
   ]
  },
  {
   "cell_type": "markdown",
   "metadata": {},
   "source": [
    "Аналогичная картина - взаимосвязь слабая или вообще отсутствует."
   ]
  },
  {
   "cell_type": "markdown",
   "metadata": {},
   "source": [
    "__3.8 Посмотрите на общее распределение игр по жанрам__.  \n",
    "Что можно сказать о самых прибыльных жанрах? Выделяются ли жанры с высокими и низкими продажами?"
   ]
  },
  {
   "cell_type": "code",
   "execution_count": 23,
   "metadata": {},
   "outputs": [
    {
     "data": {
      "text/html": [
       "<div>\n",
       "<style scoped>\n",
       "    .dataframe tbody tr th:only-of-type {\n",
       "        vertical-align: middle;\n",
       "    }\n",
       "\n",
       "    .dataframe tbody tr th {\n",
       "        vertical-align: top;\n",
       "    }\n",
       "\n",
       "    .dataframe thead th {\n",
       "        text-align: right;\n",
       "    }\n",
       "</style>\n",
       "<table border=\"1\" class=\"dataframe\">\n",
       "  <thead>\n",
       "    <tr style=\"text-align: right;\">\n",
       "      <th></th>\n",
       "      <th>world_sales</th>\n",
       "    </tr>\n",
       "    <tr>\n",
       "      <th>genre</th>\n",
       "      <th></th>\n",
       "    </tr>\n",
       "  </thead>\n",
       "  <tbody>\n",
       "    <tr>\n",
       "      <td>Action</td>\n",
       "      <td>441.12</td>\n",
       "    </tr>\n",
       "    <tr>\n",
       "      <td>Shooter</td>\n",
       "      <td>304.73</td>\n",
       "    </tr>\n",
       "    <tr>\n",
       "      <td>Role-Playing</td>\n",
       "      <td>192.80</td>\n",
       "    </tr>\n",
       "    <tr>\n",
       "      <td>Sports</td>\n",
       "      <td>181.07</td>\n",
       "    </tr>\n",
       "    <tr>\n",
       "      <td>Misc</td>\n",
       "      <td>85.04</td>\n",
       "    </tr>\n",
       "    <tr>\n",
       "      <td>Platform</td>\n",
       "      <td>61.00</td>\n",
       "    </tr>\n",
       "    <tr>\n",
       "      <td>Racing</td>\n",
       "      <td>53.50</td>\n",
       "    </tr>\n",
       "    <tr>\n",
       "      <td>Fighting</td>\n",
       "      <td>44.49</td>\n",
       "    </tr>\n",
       "    <tr>\n",
       "      <td>Simulation</td>\n",
       "      <td>35.12</td>\n",
       "    </tr>\n",
       "    <tr>\n",
       "      <td>Adventure</td>\n",
       "      <td>29.43</td>\n",
       "    </tr>\n",
       "    <tr>\n",
       "      <td>Strategy</td>\n",
       "      <td>13.34</td>\n",
       "    </tr>\n",
       "    <tr>\n",
       "      <td>Puzzle</td>\n",
       "      <td>4.89</td>\n",
       "    </tr>\n",
       "  </tbody>\n",
       "</table>\n",
       "</div>"
      ],
      "text/plain": [
       "              world_sales\n",
       "genre                    \n",
       "Action             441.12\n",
       "Shooter            304.73\n",
       "Role-Playing       192.80\n",
       "Sports             181.07\n",
       "Misc                85.04\n",
       "Platform            61.00\n",
       "Racing              53.50\n",
       "Fighting            44.49\n",
       "Simulation          35.12\n",
       "Adventure           29.43\n",
       "Strategy            13.34\n",
       "Puzzle               4.89"
      ]
     },
     "execution_count": 23,
     "metadata": {},
     "output_type": "execute_result"
    }
   ],
   "source": [
    "# посмотрим самые прибыльные жанры\n",
    "games_actual.groupby('genre').agg({'world_sales': 'sum'}).sort_values(by='world_sales', ascending=False)"
   ]
  },
  {
   "cell_type": "code",
   "execution_count": 24,
   "metadata": {},
   "outputs": [
    {
     "data": {
      "text/html": [
       "<div>\n",
       "<style scoped>\n",
       "    .dataframe tbody tr th:only-of-type {\n",
       "        vertical-align: middle;\n",
       "    }\n",
       "\n",
       "    .dataframe tbody tr th {\n",
       "        vertical-align: top;\n",
       "    }\n",
       "\n",
       "    .dataframe thead th {\n",
       "        text-align: right;\n",
       "    }\n",
       "</style>\n",
       "<table border=\"1\" class=\"dataframe\">\n",
       "  <thead>\n",
       "    <tr style=\"text-align: right;\">\n",
       "      <th></th>\n",
       "      <th>name</th>\n",
       "    </tr>\n",
       "    <tr>\n",
       "      <th>genre</th>\n",
       "      <th></th>\n",
       "    </tr>\n",
       "  </thead>\n",
       "  <tbody>\n",
       "    <tr>\n",
       "      <td>Action</td>\n",
       "      <td>1031</td>\n",
       "    </tr>\n",
       "    <tr>\n",
       "      <td>Role-Playing</td>\n",
       "      <td>370</td>\n",
       "    </tr>\n",
       "    <tr>\n",
       "      <td>Adventure</td>\n",
       "      <td>302</td>\n",
       "    </tr>\n",
       "    <tr>\n",
       "      <td>Sports</td>\n",
       "      <td>268</td>\n",
       "    </tr>\n",
       "    <tr>\n",
       "      <td>Shooter</td>\n",
       "      <td>235</td>\n",
       "    </tr>\n",
       "    <tr>\n",
       "      <td>Misc</td>\n",
       "      <td>192</td>\n",
       "    </tr>\n",
       "    <tr>\n",
       "      <td>Racing</td>\n",
       "      <td>115</td>\n",
       "    </tr>\n",
       "    <tr>\n",
       "      <td>Fighting</td>\n",
       "      <td>109</td>\n",
       "    </tr>\n",
       "    <tr>\n",
       "      <td>Platform</td>\n",
       "      <td>85</td>\n",
       "    </tr>\n",
       "    <tr>\n",
       "      <td>Simulation</td>\n",
       "      <td>80</td>\n",
       "    </tr>\n",
       "    <tr>\n",
       "      <td>Strategy</td>\n",
       "      <td>71</td>\n",
       "    </tr>\n",
       "    <tr>\n",
       "      <td>Puzzle</td>\n",
       "      <td>28</td>\n",
       "    </tr>\n",
       "  </tbody>\n",
       "</table>\n",
       "</div>"
      ],
      "text/plain": [
       "              name\n",
       "genre             \n",
       "Action        1031\n",
       "Role-Playing   370\n",
       "Adventure      302\n",
       "Sports         268\n",
       "Shooter        235\n",
       "Misc           192\n",
       "Racing         115\n",
       "Fighting       109\n",
       "Platform        85\n",
       "Simulation      80\n",
       "Strategy        71\n",
       "Puzzle          28"
      ]
     },
     "execution_count": 24,
     "metadata": {},
     "output_type": "execute_result"
    }
   ],
   "source": [
    "# и еще кол-во игр по жанрам\n",
    "games_actual.groupby('genre').agg({'name': 'count'}).sort_values(by='name', ascending=False)"
   ]
  },
  {
   "cell_type": "markdown",
   "metadata": {},
   "source": [
    "Все достаточно логично - экшен и шутеры на первых местах по продажам и кол-ву игр, головоломки и стратегии - на последнем (думать любят не много людей...).  \n",
    "Из этой картины выбивается жанр Adventure - он на 3-м месте по кол-ву игр, но в конце списка по продажам. Видимо, в этом жанре пока не придумали как хорошо монетизировать такие игры."
   ]
  },
  {
   "cell_type": "markdown",
   "metadata": {},
   "source": [
    "### Вывод\n",
    "1. __Количество новых игр по годам__  \n",
    "До 1995 года игр выходило мало, очевидно, из-за того, что игровых консолей не было, ПК также было мало, играли, в основном, на игровых автоматах.\n",
    "В 1995 - 2000 г. наблюдается рост кол-ва новых игр. В 2002 - 2005 г. рост ускоряется и достигает пика в 2008 - 2009 годах. Максимальное кол-во новых игр выходило в период 2007 - 2011 г. и всплеск в 2015 году.\n",
    "Ранние года не интересны для анализа. Более интересно изучать период с 2008 года.\n",
    "2. __Как менялись продажи по платформам__  \n",
    "\"Срок жизни\" консолей равен 10 - 12 лет - это период, когда игроки покупают игры для консоли.\n",
    "Период \"Активных продах\" равен 5 лет - это период максимальных продаж игр, т.е. популярности консоли у игроков. Затем спад продаж практически до нуля и завершение продаж игр.  \n",
    "На основе сравнения суммарных продаж имеет смысл отобрать 6 платформ для дальнейшего анализа. Начиная с 7-й позиции продажи резко падают (Забавно, но на 7-й позиции - PS4! Видимо консоль тогда еще только вышла и не успела собрать продажи).\n",
    "3. __Определите актуальный период__  \n",
    "Для анализа возьмем период - 5 лет, т.к. это период максимальных продаж игр для игровых консолей. Чтобы изучить предпочтения игроков на 2017 год мы будем смотреть данные начиная с 2012 года. В этот период попадают продажи игр для платформ, которые также будут использоваться в 2017 году.\n",
    "Если брать бОльший период, то в выборку попадут платформы, которые уже выходят с рынка. Предпочтения игроков на более старых платформах могут быть другие, т.к. жанр и стилистика игр сильно зависит от технических возможностей платформы. В 1985 году самой покупаемой была игра Super Mario - простая ходилка, но потом GTA вышла на консолях.. а через 5-10 лет супер-покупаемыми будут VR игры (GTA 6 видимо)\n",
    "4. __Какие платформы лидируют по продажам__  \n",
    "top5 платформ по суммарным продажам игр (см. таблицу выше) делили между собой рынок игр начиная с 2012 года. У PS4 и XOne максимум продаж приходится на 2015 год - это наиболее \"свежие\" платформы в нашем рейтинге. Остальные платформы (PS3, X360, 3DS) находятся в конце своего жизненного цикла.\n",
    "В 2016 году у всех платформ спад продаж, он также виден на гистограммах выше.\n",
    "Для дальнейшего рассмотрения возьмем 2 наиболее \"свежие\" платформы. Очевидно, что в 2017 году именно эти платформы будут формировать мировые продажи. Даже если появится новая платформа (PS5 выйдет в 2020), то ей потребуется примерно 2 года, чтобы выйти на пик продаж игр.\n",
    "5. __Ящик с усами и продажами__  \n",
    "Для market maker платформ 2016 года (PS4, XOne) ящик с усами показывает, что есть много \"заурядных\" игр (медиана рынка), у которых низкие продажи, и есть выбросы \"шедевры\" - популярные игры, которые и собирают основные продажи. Нам для выявления факторов влияющих на продажи игр интересны, в первую очередь, \"выбросы\" - супер-популярные игры.\n",
    "На основе ящика с усами можно определить порог \"популярности\" игр, которые следует рассматривать.\n",
    "6. __Взаимосвязь продаж и отзывов__  \n",
    "Корреляция продаж и рейтингов игр слабая, практически отсутствует.\n",
    "Диаграммы показывают, что множество игр имеют высокие отзывы и низкие продажи, при этом. И буквально единицы игр (правый верхний квадрант на диаграммах) с очень высокими продажами и высокими рейтингами от игроков и критиков.  \n",
    "Вывод 1 - рейтинги не являются драйвером продаж видеоигр.  \n",
    "Вывод 2 - рейтинг критиков и игроков часто не совпадает.\n",
    "7. __Распределение игр по жанрам__  \n",
    "Все достаточно логично - экшен и шутеры на первых местах по продажам и кол-ву игр, головоломки и стратегии - на последнем (думать любит не много людей...).\n",
    "Из этой картины выбивается жанр Adventure - он на 3-м месте по кол-ву игр, но в конце списка по продажам."
   ]
  },
  {
   "cell_type": "markdown",
   "metadata": {},
   "source": [
    "### Шаг 4. Составьте портрет пользователя каждого региона\n",
    "Определите для пользователя каждого региона (NA, EU, JP):\n",
    "- Самые популярные платформы (топ-5). Опишите различия в долях продаж."
   ]
  },
  {
   "cell_type": "code",
   "execution_count": 25,
   "metadata": {},
   "outputs": [
    {
     "name": "stdout",
     "output_type": "stream",
     "text": [
      "Top5 платформ для Северной Америки:\n",
      "           na_share\n",
      "platform          \n",
      "X360          0.24\n",
      "PS4           0.18\n",
      "PS3           0.17\n",
      "XOne          0.16\n",
      "3DS           0.09 \n",
      "\n",
      "Top5 платформ для Европы:\n",
      "           eu_share\n",
      "platform          \n",
      "PS4           0.28\n",
      "PS3           0.21\n",
      "X360          0.15\n",
      "XOne          0.10\n",
      "3DS           0.08 \n",
      "\n",
      "Top5 платформ для Японии:\n",
      "           jp_share\n",
      "platform          \n",
      "3DS           0.46\n",
      "PS3           0.18\n",
      "PSV           0.11\n",
      "PS4           0.08\n",
      "WiiU          0.07\n"
     ]
    }
   ],
   "source": [
    "# определим популярные платформы\n",
    "region_sales = (games_actual\n",
    "                   .groupby('platform')\n",
    "                   .agg({'na_sales': 'sum', \n",
    "                         'eu_sales': 'sum', \n",
    "                         'jp_sales': 'sum', \n",
    "                         'world_sales': 'sum'\n",
    "                        }\n",
    "                       )\n",
    "              )\n",
    "\n",
    "# суммарные продажи по регионам\n",
    "na_total_sales = games_actual['na_sales'].sum()\n",
    "eu_total_sales = games_actual['eu_sales'].sum()\n",
    "jp_total_sales = games_actual['jp_sales'].sum()\n",
    "\n",
    "# доля платформы от общих продаж по региону\n",
    "region_sales['na_share'] = round(region_sales['na_sales'] / na_total_sales, 2)\n",
    "region_sales['eu_share'] = round(region_sales['eu_sales'] / eu_total_sales, 2)\n",
    "region_sales['jp_share'] = round(region_sales['jp_sales'] / jp_total_sales, 2)\n",
    "\n",
    "print('Top5 платформ для Северной Америки:\\n', \n",
    "      region_sales.sort_values(by='na_sales', ascending=False).loc[:, ['na_share']].head(),\n",
    "      '\\n'\n",
    "     )\n",
    "\n",
    "print('Top5 платформ для Европы:\\n', \n",
    "      region_sales.sort_values(by='eu_sales', ascending=False).loc[:, ['eu_share']].head(),\n",
    "      '\\n'\n",
    "     )\n",
    "\n",
    "\n",
    "print('Top5 платформ для Японии:\\n', \n",
    "      region_sales.sort_values(by='jp_sales', ascending=False).loc[:, ['jp_share']].head()\n",
    "     )"
   ]
  },
  {
   "cell_type": "markdown",
   "metadata": {},
   "source": [
    "Microsoft сильна на домашнем рынке (X360, XOne), но плохо продается в Японии.  \n",
    "В Европе больше любят Sony (PS3, PS4).  \n",
    "__И тут сюрприз__ - доля старших консолей PlayStation очень низкая на домашнем рынке Sony - в Японии. Японцы делают PS3, PS4 для европейцев, а сами играют на портативных консолях"
   ]
  },
  {
   "cell_type": "markdown",
   "metadata": {},
   "source": [
    "- Самые популярные жанры (топ-5). Поясните разницу."
   ]
  },
  {
   "cell_type": "code",
   "execution_count": 26,
   "metadata": {},
   "outputs": [
    {
     "name": "stdout",
     "output_type": "stream",
     "text": [
      "Top5 жанров для Северной Америки:\n",
      "               na_share\n",
      "genre                 \n",
      "Action            0.30\n",
      "Shooter           0.24\n",
      "Sports            0.14\n",
      "Role-Playing      0.11\n",
      "Misc              0.06 \n",
      "\n",
      "Top5 жанров для Европы:\n",
      "               eu_share\n",
      "genre                 \n",
      "Action            0.31\n",
      "Shooter           0.22\n",
      "Sports            0.14\n",
      "Role-Playing      0.10\n",
      "Racing            0.05 \n",
      "\n",
      "Top5 жанров для Японии:\n",
      "               jp_share\n",
      "genre                 \n",
      "Role-Playing      0.34\n",
      "Action            0.27\n",
      "Misc              0.07\n",
      "Simulation        0.05\n",
      "Fighting          0.05\n"
     ]
    }
   ],
   "source": [
    "# определим популярные жанры\n",
    "region_genre = (games_actual\n",
    "                   .groupby('genre')\n",
    "                   .agg({'na_sales': 'sum', \n",
    "                         'eu_sales': 'sum', \n",
    "                         'jp_sales': 'sum', \n",
    "                         'world_sales': 'sum'\n",
    "                        }\n",
    "                       )\n",
    "              )\n",
    "\n",
    "region_genre['na_share'] = round(region_genre['na_sales'] / na_total_sales, 2)\n",
    "region_genre['eu_share'] = round(region_genre['eu_sales'] / eu_total_sales, 2)\n",
    "region_genre['jp_share'] = round(region_genre['jp_sales'] / jp_total_sales, 2)\n",
    "\n",
    "print('Top5 жанров для Северной Америки:\\n', \n",
    "      region_genre.sort_values(by='na_sales', ascending=False).loc[:, ['na_share']].head(),\n",
    "      '\\n'\n",
    "     )\n",
    "\n",
    "print('Top5 жанров для Европы:\\n', \n",
    "      region_genre.sort_values(by='eu_sales', ascending=False).loc[:, ['eu_share']].head(),\n",
    "      '\\n'\n",
    "     )\n",
    "\n",
    "\n",
    "print('Top5 жанров для Японии:\\n', \n",
    "      region_genre.sort_values(by='jp_sales', ascending=False).loc[:, ['jp_share']].head()\n",
    "     )"
   ]
  },
  {
   "cell_type": "markdown",
   "metadata": {},
   "source": [
    "В Америке и Европе любят жанры Экшен, Шутер и Спорт. В Японии предпочитают Ролевые игры.  \n",
    "Предпочтения Японии отличаются от двух других регионов."
   ]
  },
  {
   "cell_type": "markdown",
   "metadata": {},
   "source": [
    "- Влияет ли рейтинг ESRB на продажи в отдельном регионе?"
   ]
  },
  {
   "cell_type": "code",
   "execution_count": 35,
   "metadata": {},
   "outputs": [
    {
     "name": "stdout",
     "output_type": "stream",
     "text": [
      "Северная Америка:\n",
      "              na_sales\n",
      "rating               \n",
      "M              231.57\n",
      "E              114.37\n",
      "Not defined    103.31\n",
      "E10+            75.70\n",
      "T               66.02 \n",
      "\n",
      "Европа:\n",
      "              eu_sales\n",
      "rating               \n",
      "M              193.96\n",
      "E              113.03\n",
      "Not defined     91.50\n",
      "E10+            55.37\n",
      "T               52.96 \n",
      "\n",
      "Япония:\n",
      "              jp_sales\n",
      "rating               \n",
      "Not defined    108.84\n",
      "E               28.33\n",
      "T               26.02\n",
      "M               21.20\n",
      "E10+             8.19 \n",
      "\n"
     ]
    }
   ],
   "source": [
    "# В разрезе регионов сгруппируем продажи по рейтингам игр и посчитаем долю относительно всех продаж\n",
    "region_ratings = (games_actual\n",
    "                   .groupby('rating')\n",
    "                   .agg({'na_sales': 'sum', \n",
    "                         'eu_sales': 'sum', \n",
    "                         'jp_sales': 'sum'\n",
    "                        }\n",
    "                       )\n",
    "              )\n",
    "\n",
    "print('Северная Америка:\\n', \n",
    "      region_ratings.sort_values(by='na_sales', ascending=False).loc[:, ['na_sales']],\n",
    "      '\\n'\n",
    "     )\n",
    "\n",
    "print('Европа:\\n', \n",
    "      region_ratings.sort_values(by='eu_sales', ascending=False).loc[:, ['eu_sales']],\n",
    "      '\\n'\n",
    "     )\n",
    "\n",
    "print('Япония:\\n', \n",
    "      region_ratings.sort_values(by='jp_sales', ascending=False).loc[:, ['jp_sales']],\n",
    "      '\\n'\n",
    "     )"
   ]
  },
  {
   "cell_type": "markdown",
   "metadata": {},
   "source": [
    "Рейтинг игры не влияет на продажи в разрезе региона, картина примерно одинаковая по всем 3-м регионам:\n",
    "- M (Mature) и E (Everyone) на первых местах  \n",
    "\n",
    "В Японии было продано большое кол-во игр, для которых у нас нет данных по рейтингу ESRB"
   ]
  },
  {
   "cell_type": "markdown",
   "metadata": {},
   "source": [
    "### Вывод\n",
    "- __Top-5 платформ__  \n",
    "Microsoft сильна на домашнем рынке (X360, XOne), но плохо продается в Японии.  \n",
    "В Европе больше любят Sony (PS3, PS4). В России, кстати, тоже.  \n",
    "В Японии доля старших консолей PlayStation очень низкая и это на домашнем рынке Sony! Видимо, японцы делают PS3, PS4 для европейцев, а сами играют на портативных консолях.\n",
    "- __Top-5 жанров__  \n",
    "В Америке и Европе любят жанры Экшен, Шутер и Спорт.В Японии предпочитают Ролевые игры.  \n",
    "Предпочтения в Японии отличаются от двух других регионов - ну это не новость.\n",
    "- __Влияние рейтинга ESRB на продажи__  \n",
    "Рейтинг игры не влияет на продажи в разрезе региона, картина одинаковая по всем 3-м регионам:  \n",
    "M (Mature) на первом месте  \n",
    "E (Everyone) — на втором  \n",
    "И такое распределение объясняется тем, что это самая платежеспособная категория."
   ]
  },
  {
   "cell_type": "markdown",
   "metadata": {},
   "source": [
    "### Шаг 5. Проверьте гипотезы\n",
    "__Гипотеза 1__. Средние пользовательские рейтинги платформ Xbox One и PC одинаковые"
   ]
  },
  {
   "cell_type": "markdown",
   "metadata": {},
   "source": [
    "Нулевая гипотеза: средний пользовательский рейтинг платформы XBox One равен среднему пользовательскому рейтингу PC.  \n",
    "Альтернативная гипотеза: средний пользовательский рейтинг платформы XBox One не равен среднему пользовательскому рейтингу PC.  \n",
    "\n",
    "Необходимо проверить гипотезу о равенстве двух независимых генеральных совокупностей. Совокупности являются независимыми, т.к. мнение (рейтинг игр) игроков одной платформы не зависит от мнения игроков других платформ.\n",
    "\n",
    "Уровень статистической значимости возьмем 1%"
   ]
  },
  {
   "cell_type": "code",
   "execution_count": 28,
   "metadata": {},
   "outputs": [
    {
     "name": "stdout",
     "output_type": "stream",
     "text": [
      "p-значение: 0.0679776646270018\n",
      "Не получилось отвергнуть нулевую гипотезу\n"
     ]
    }
   ],
   "source": [
    "alpha = .01\n",
    "results = st.ttest_ind(games_actual\n",
    "                       .query('platform == \"XOne\"')\n",
    "                       .loc[:, 'user_score']\n",
    "                       .to_list(), \n",
    "                       games_actual\n",
    "                       .query('platform == \"PC\"')\n",
    "                       .loc[:, 'user_score']\n",
    "                       .to_list()\n",
    "                      )\n",
    "\n",
    "print('p-значение:', results.pvalue)\n",
    "\n",
    "if (results.pvalue < alpha):\n",
    "    print(\"Отвергаем нулевую гипотезу\")\n",
    "else:\n",
    "    print(\"Не получилось отвергнуть нулевую гипотезу\")"
   ]
  },
  {
   "cell_type": "markdown",
   "metadata": {},
   "source": [
    "__Нулевая гипотеза не отвергается__, т.е. средний пользовательский рейтинг для XBox One и PC одинаковый.\n",
    "Это логично, игра нравится или не нравится игрокам и это не зависит от того, на чем они играют."
   ]
  },
  {
   "cell_type": "markdown",
   "metadata": {},
   "source": [
    "__Гипотеза 2__. Средние пользовательские рейтинги жанров Action (англ. «действие», экшен-игры) и Sports (англ. «спортивные соревнования») разные"
   ]
  },
  {
   "cell_type": "markdown",
   "metadata": {},
   "source": [
    "Нулевая гипотеза: средний пользовательский рейтинг игр жанра Action равен среднему пользовательскому рейтингу игр жанра Sports.  \n",
    "Альтернативная гипотеза: средний пользовательский рейтинг игр жанра Action не равен среднему пользовательскому рейтингу игр жанра Sports. \n",
    "\n",
    "Необходимо проверить гипотезу о равенстве двух независимых генеральных совокупностей. Совокупности являются независимыми, т.к. мнение игроков об играх одного жанра не зависит от мнения игроков об играх другого жанра.\n",
    "\n",
    "Уровень статистической значимости возьмем 1%"
   ]
  },
  {
   "cell_type": "code",
   "execution_count": 29,
   "metadata": {},
   "outputs": [
    {
     "name": "stdout",
     "output_type": "stream",
     "text": [
      "p-значение: 0.030525082904009942\n",
      "Не получилось отвергнуть нулевую гипотезу\n"
     ]
    }
   ],
   "source": [
    "alpha = .01\n",
    "results = st.ttest_ind(games_actual\n",
    "                       .query('genre == \"Action\"')\n",
    "                       .loc[:, 'user_score']\n",
    "                       .to_list(), \n",
    "                       games_actual\n",
    "                       .query('genre == \"Sports\"')\n",
    "                       .loc[:, 'user_score']\n",
    "                       .to_list()\n",
    "                      )\n",
    "\n",
    "print('p-значение:', results.pvalue)\n",
    "\n",
    "if (results.pvalue < alpha):\n",
    "    print(\"Отвергаем нулевую гипотезу\")\n",
    "else:\n",
    "    print(\"Не получилось отвергнуть нулевую гипотезу\")"
   ]
  },
  {
   "cell_type": "markdown",
   "metadata": {},
   "source": [
    "__Нулевая гипотеза не отвергается__, т.е. рейтинги игр Actions и Sports одинаковые."
   ]
  },
  {
   "cell_type": "markdown",
   "metadata": {},
   "source": [
    "## Общий вывод  \n",
    "### Задачи исследования\n",
    "Нужно было выявить определяющие успешность игры закономерности. Это позволит сделать ставку на потенциально популярный продукт и спланировать рекламные кампании.\n",
    "### Шаг 1. Изучение информации о данных  \n",
    "Датасет содержит 16715 записей, в данных есть пропуски\n",
    "### Шаг 2. Подготовка данных  \n",
    "Названия столбцов были приведены к нижнему регистру, обработаны пропуски в данных, добавлен столбец world_sales - суммарные продажи во всех регионах.\n",
    "### Шаг 3. Исследовательский анализ данных  \n",
    "1. __Количество новых игр по годам__  \n",
    "До 1995 года игр выходило мало, очевидно, из-за того, что игровых консолей не было, ПК были \"слабые\", играли, в основном, на игровых автоматах. В 1995 - 2000 г. наблюдается рост кол-ва новых игр. В 2002 - 2005 г. рост ускоряется и достигает пика в 2008 - 2009 годах. Максимальное кол-во новых игр выходило в период 2007 - 2011 г. и всплеск в 2015 году.\n",
    "2. __Как менялись продажи по платформам__  \n",
    "\"Срок жизни\" консолей равен 10 - 12 лет - это период, когда игроки покупают игры для консоли. Период \"Активных продах\" равен 5 лет - это период максимальных продаж игр, т.е. популярности консоли у игроков. Затем спад продаж практически до нуля и завершение продаж игр.\n",
    "3. __Актуальный период для анализа данных__  \n",
    "Для анализа возьмем период - 5 лет, т.к. это период максимальных продаж игр для игровых консолей. Чтобы изучить предпочтения игроков на 2017 год мы будем смотреть данные начиная с 2012 года. В этот период попадают продажи игр для платформ, которые также будут использоваться в 2017 году. Если брать бОльший период, то в выборку попадут платформы, которые уже выходят с рынка. Предпочтения игроков на более старых платформах могут быть другие, т.к. жанр и стилистика игр сильно зависит от технических возможностей платформы.  \n",
    "В 1985 году самой покупаемой была игра Super Mario - простая ходилка, но потом GTA вышла на консолях.. а через 5-10 лет супер-покупаемыми будут VR игры (GTA 6 видимо)\n",
    "4. __Какие платформы лидируют по продажам__  \n",
    "Top-5 платформ по суммарным продажам игр (см. таблицу выше) делили между собой рынок игр начиная с 2012 года. У PS4 и XOne максимум продаж приходится на 2015 год - это наиболее \"свежие\" платформы в нашем рейтинге. Остальные платформы (PS3, X360, 3DS) находятся в конце своего жизненного цикла. В 2016 году у всех платформ спад продаж, он также виден на гистограммах выше. Для дальнейшего рассмотрения возьмем 2 наиболее \"свежие\" платформы. Очевидно, что в 2017 году именно эти платформы будут формировать мировые продажи. Даже если появится новая платформа (PS5 выйдет в 2020), то ей потребуется примерно 2 года, чтобы выйти на пик продаж игр.\n",
    "5. __Ящик с усами и продажами__  \n",
    "Для market maker платформ 2016 года (PS4, XOne) диаграмма boxplot показывает, что есть много \"заурядных\" игр (медиана рынка), у которых низкие продажи, и есть выбросы \"шедевры\" - популярные игры, которые и собирают основные продажи. Нам для выявления факторов влияющих на продажи игр интересны, в первую очередь, \"выбросы\" - супер-популярные игры. На основе ящика с усами можно определить порог \"популярности\" игр, которые следует рассматривать.\n",
    "6. __Взаимосвязь продаж и отзывов__  \n",
    "Корреляция продаж и рейтингов игр слабая, практически отсутствует. Диаграммы показывают, что множество игр имеют высокие отзывы и низкие продажи, при этом. И буквально единицы игр (правый верхний квадрант на диаграммах) с очень высокими продажами и высокими рейтингами от игроков и критиков.  \n",
    "Вывод 1 - рейтинги не являются драйвером продаж видеоигр.  \n",
    "Вывод 2 - рейтинг критиков и игроков часто не совпадает.\n",
    "7. __Распределение игр по жанрам__  \n",
    "Экшен и шутеры на первых местах по продажам и кол-ву игр, головоломки и стратегии - на последнем. Из этой картины выбивается жанр Adventure - он на 3-м месте по кол-ву игр, но в конце списка по продажам.\n",
    "\n",
    "### Шаг 4. Портрет игрока\n",
    "1. __Top-5 платформ__  \n",
    "Microsoft сильна на домашнем рынке (X360, XOne), но плохо продается в Японии.\n",
    "В Европе больше любят Sony (PS3, PS4). В России, кстати, тоже.\n",
    "В Японии доля старших консолей PlayStation очень низкая и это на домашнем рынке Sony! Видимо, японцы делают PS3, PS4 для европейцев, а сами играют на портативных консолях.\n",
    "2. __Top-5 жанров__\n",
    "В Америке и Европе любят жанры Экшен, Шутер и Спорт.В Японии предпочитают Ролевые игры.\n",
    "Предпочтения в Японии отличаются от двух других регионов - ну это не новость.\n",
    "3. __Влияние рейтинга ESRB на продажи__\n",
    "Рейтинг игры не влияет на продажи в разрезе региона, картина одинаковая по всем 3-м регионам:\n",
    "M (Mature) на первом месте\n",
    "E (Everyone) — на втором\n",
    "И такое распределение объясняется тем, что это самая платежеспособная категория. И кроме этого, игры для взрослых покупают обычно взрослые люди и не из-за того, что эти игры имеют рейтинг \"18+\", а потому что игры интересны взрослым и для них сделаны.\n",
    "\n",
    "Итого, портрет игрока из Северной Америки - любит Экшен, Шутеры и Спорт, играет на XBox. В Европе - также Экшены, Шутеры и Спорт, но играют больше на PlayStation. В Японии любят ролевые игры и портативные 3DS.\n",
    "### Шаг 5. Проверка гипотез  \n",
    "Проверены две гипотезы, выводы:  \n",
    "- средний пользовательский рейтинг для XBox One и PC одинаковый. Это логично, игра нравится или не нравится игрокам и это не зависит от того, на чем они играют.\n",
    "- рейтинги игр Actions и Sports одинаковые\n",
    "\n",
    "### Ответ на вопросы исследования  \n",
    "Глобально в мире лидируют по продажам игровые консоли от Microsoft и Sony. При планировании рекламных кампаний надо учитывать жизненный цикл консоли, он составляет 10-12 лет - примерно на 3-8й год существования консоли приходится пик популярности и продаж игр. Также нужно учитывать регион - для США и Канады популярны консоли Microsoft, в Европе - Sony, в Японии - портативные консоли Nintendo.  \n",
    "Среди жанров игр самые популярные Экшены, Шутеры и Спортивные игры. Но также нужно учитывать региональные особенности. С продажами игр жанра Adventure надо быть внимательнее - игр выходит много, но продаются они плохо.  \n",
    "Рейтинги игр слабо влияют на продажи игр. Если критики высоко оценили игру - это не гарантия, что игра будет хорошо продаваться."
   ]
  }
 ],
 "metadata": {
  "kernelspec": {
   "display_name": "Python 3",
   "language": "python",
   "name": "python3"
  },
  "language_info": {
   "codemirror_mode": {
    "name": "ipython",
    "version": 3
   },
   "file_extension": ".py",
   "mimetype": "text/x-python",
   "name": "python",
   "nbconvert_exporter": "python",
   "pygments_lexer": "ipython3",
   "version": "3.7.4"
  }
 },
 "nbformat": 4,
 "nbformat_minor": 2
}
